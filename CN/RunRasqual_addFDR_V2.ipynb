{
 "cells": [
  {
   "cell_type": "code",
   "execution_count": 62,
   "metadata": {},
   "outputs": [],
   "source": [
    "setwd(\"/home/simingz/run_rasqual/datarun/CN2\")"
   ]
  },
  {
   "cell_type": "markdown",
   "metadata": {},
   "source": [
    "See header info [here](https://github.com/natsuhiko/rasqual/blob/master/README.md)"
   ]
  },
  {
   "cell_type": "code",
   "execution_count": 63,
   "metadata": {},
   "outputs": [],
   "source": [
    "addgFDR_getp <- function(mrestable, prestable){\n",
    "        ntest <- mrestable[,18]\n",
    "        tt <- mrestable[,11]\n",
    "        preal <- pchisq(tt,df=1,lower.tail=F,log.p=F)\n",
    "        ttperm <- prestable[,3] # keep only 1 permutation\n",
    "        pperm <- pchisq(ttperm,df=1,lower.tail=F,log.p=F)\n",
    "        out <-cbind(preal*ntest,pperm*ntest) # bonferroni corrected p value\n",
    "    return(out)\n",
    "}"
   ]
  },
  {
   "cell_type": "code",
   "execution_count": 64,
   "metadata": {},
   "outputs": [],
   "source": [
    "mainfall= Sys.glob( paste0(\"mainrun_chr*_CN*.result.txt\"))\n",
    "outp <- NULL\n",
    "outmres <- NULL\n",
    "for (mainf in mainfall){\n",
    "    permf = gsub(\"result.txt\",\"permres.txt\",gsub(\"main\",\"perm\",mainf)) \n",
    "    mres <- read.table(mainf,header=F,stringsAsFactors = F, sep=\"\\t\",fill=T)\n",
    "    pres <- read.table(permf,header=F,stringsAsFactors = F, sep=\"\\t\",fill=T)\n",
    "    mresfl <- mres[mres$V2 != \"SKIPPED\",]\n",
    "    presfl <- pres[mres$V2 != \"SKIPPED\",]\n",
    "    if (dim(mresfl)[1]==0){next}\n",
    "    outmres <- rbind(outmres,cbind(mresfl,presfl))\n",
    "    outp <- rbind(outp, addgFDR_getp(mresfl,presfl))\n",
    "} "
   ]
  },
  {
   "cell_type": "code",
   "execution_count": 67,
   "metadata": {},
   "outputs": [
    {
     "data": {
      "image/png": "[encoded data removed]",
      "text/plain": [
       "Plot with title “Histogram of log(outp[, 1])”"
      ]
     },
     "metadata": {},
     "output_type": "display_data",
     "source": "R display func"
    }
   ],
   "source": [
    "hist(log(outp[,1]),xlim=c(-20,0),breaks=400)\n",
    "hist(log(outp[,2]),xlim=c(-20,0),breaks=20,add=T)"
   ]
  },
  {
   "cell_type": "code",
   "execution_count": 21,
   "metadata": {},
   "outputs": [],
   "source": [
    "a <- read.table(\"permrun_combined.permres.txt\")"
   ]
  },
  {
   "cell_type": "code",
   "execution_count": 68,
   "metadata": {},
   "outputs": [
    {
     "data": {
      "text/html": [
       "6128"
      ],
      "text/latex": [
       "6128"
      ],
      "text/markdown": [
       "6128"
      ],
      "text/plain": [
       "[1] 6128"
      ]
     },
     "metadata": {},
     "output_type": "display_data"
    }
   ],
   "source": [
    "length(outmres[,28][outmres[,28]>5])"
   ]
  },
  {
   "cell_type": "code",
   "execution_count": 69,
   "metadata": {},
   "outputs": [
    {
     "data": {
      "text/html": [
       "5261"
      ],
      "text/latex": [
       "5261"
      ],
      "text/markdown": [
       "5261"
      ],
      "text/plain": [
       "[1] 5261"
      ]
     },
     "metadata": {},
     "output_type": "display_data"
    }
   ],
   "source": [
    "pperm <-pchisq(outmres[,28],df=1,lower.tail=F,log.p=F)\n",
    "preal <-pchisq(outmres[,11],df=1,lower.tail=F,log.p=F)*outmres[,18]\n",
    "length(preal[preal<0.1])"
   ]
  },
  {
   "cell_type": "code",
   "execution_count": 48,
   "metadata": {},
   "outputs": [],
   "source": [
    "preal[preal>1]<-1"
   ]
  },
  {
   "cell_type": "code",
   "execution_count": 49,
   "metadata": {},
   "outputs": [],
   "source": [
    "pBH <- p.adjust(preal,\"BH\")"
   ]
  },
  {
   "cell_type": "code",
   "execution_count": 50,
   "metadata": {},
   "outputs": [
    {
     "data": {
      "text/html": [
       "116"
      ],
      "text/latex": [
       "116"
      ],
      "text/markdown": [
       "116"
      ],
      "text/plain": [
       "[1] 116"
      ]
     },
     "metadata": {},
     "output_type": "display_data"
    }
   ],
   "source": [
    "length(pBH[pBH<0.1])"
   ]
  },
  {
   "cell_type": "code",
   "execution_count": 88,
   "metadata": {},
   "outputs": [
    {
     "data": {
      "text/html": [
       "<table>\n",
       "<thead><tr><th></th><th scope=col>V1</th><th scope=col>V2</th><th scope=col>V3</th><th scope=col>V4</th><th scope=col>V5</th><th scope=col>V6</th><th scope=col>V7</th><th scope=col>V8</th><th scope=col>V9</th><th scope=col>V10</th><th scope=col>⋯</th><th scope=col>V21</th><th scope=col>V22</th><th scope=col>V23</th><th scope=col>V24</th><th scope=col>V25</th><th scope=col>V1.1</th><th scope=col>V2.1</th><th scope=col>V3.1</th><th scope=col>V4.1</th><th scope=col>V5.1</th></tr></thead>\n",
       "<tbody>\n",
       "\t<tr><th scope=row>48660</th><td>newCN536  </td><td>1:4586606 </td><td>chr1      </td><td>4526546   </td><td>C         </td><td>T         </td><td>0.3       </td><td>0.725624  </td><td>0.999823  </td><td>-1.840093 </td><td>⋯         </td><td>4526546   </td><td>-247.7804 </td><td>0         </td><td>0.859654  </td><td>0.990554  </td><td>newCN536  </td><td>-0.5158208</td><td>2.573806  </td><td>0.610873  </td><td>0.969913  </td></tr>\n",
       "</tbody>\n",
       "</table>\n"
      ],
      "text/latex": [
       "\\begin{tabular}{r|lllllllllllllllllllllllllllll}\n",
       "  & V1 & V2 & V3 & V4 & V5 & V6 & V7 & V8 & V9 & V10 & ⋯ & V21 & V22 & V23 & V24 & V25 & V1.1 & V2.1 & V3.1 & V4.1 & V5.1\\\\\n",
       "\\hline\n",
       "\t48660 & newCN536   & 1:4586606  & chr1       & 4526546    & C          & T          & 0.3        & 0.725624   & 0.999823   & -1.840093  & ⋯          & 4526546    & -247.7804  & 0          & 0.859654   & 0.990554   & newCN536   & -0.5158208 & 2.573806   & 0.610873   & 0.969913  \\\\\n",
       "\\end{tabular}\n"
      ],
      "text/markdown": [
       "\n",
       "| <!--/--> | V1 | V2 | V3 | V4 | V5 | V6 | V7 | V8 | V9 | V10 | ⋯ | V21 | V22 | V23 | V24 | V25 | V1.1 | V2.1 | V3.1 | V4.1 | V5.1 | \n",
       "|---|\n",
       "| 48660 | newCN536   | 1:4586606  | chr1       | 4526546    | C          | T          | 0.3        | 0.725624   | 0.999823   | -1.840093  | ⋯          | 4526546    | -247.7804  | 0          | 0.859654   | 0.990554   | newCN536   | -0.5158208 | 2.573806   | 0.610873   | 0.969913   | \n",
       "\n",
       "\n"
      ],
      "text/plain": [
       "      V1       V2        V3   V4      V5 V6 V7  V8       V9       V10       ⋯\n",
       "48660 newCN536 1:4586606 chr1 4526546 C  T  0.3 0.725624 0.999823 -1.840093 ⋯\n",
       "      V21     V22       V23 V24      V25      V1.1     V2.1       V3.1    \n",
       "48660 4526546 -247.7804 0   0.859654 0.990554 newCN536 -0.5158208 2.573806\n",
       "      V4.1     V5.1    \n",
       "48660 0.610873 0.969913"
      ]
     },
     "metadata": {},
     "output_type": "display_data"
    }
   ],
   "source": [
    "outmres[outmres$V1==\"newCN536\",1-12] # this one is kept but has larger p value than binomial test"
   ]
  },
  {
   "cell_type": "code",
   "execution_count": 87,
   "metadata": {},
   "outputs": [
    {
     "data": {
      "text/html": [
       "0.00103717383123023"
      ],
      "text/latex": [
       "0.00103717383123023"
      ],
      "text/markdown": [
       "0.00103717383123023"
      ],
      "text/plain": [
       "[1] 0.001037174"
      ]
     },
     "metadata": {},
     "output_type": "display_data"
    }
   ],
   "source": [
    "pchisq(10.76,df=1,lower.tail=F,log.p=F)"
   ]
  },
  {
   "cell_type": "code",
   "execution_count": 89,
   "metadata": {},
   "outputs": [
    {
     "name": "stderr",
     "output_type": "stream",
     "text": [
      "Warning message in cbind(parts$left, ellip_h, parts$right, deparse.level = 0L):\n",
      "“number of rows of result is not a multiple of vector length (arg 2)”Warning message in cbind(parts$left, ellip_h, parts$right, deparse.level = 0L):\n",
      "“number of rows of result is not a multiple of vector length (arg 2)”Warning message in cbind(parts$left, ellip_h, parts$right, deparse.level = 0L):\n",
      "“number of rows of result is not a multiple of vector length (arg 2)”Warning message in cbind(parts$left, ellip_h, parts$right, deparse.level = 0L):\n",
      "“number of rows of result is not a multiple of vector length (arg 2)”"
     ]
    },
    {
     "data": {
      "text/html": [
       "<table>\n",
       "<thead><tr><th scope=col>V1</th><th scope=col>V2</th><th scope=col>V3</th><th scope=col>V4</th><th scope=col>V5</th><th scope=col>V6</th><th scope=col>V7</th><th scope=col>V8</th><th scope=col>V9</th><th scope=col>V10</th><th scope=col>⋯</th><th scope=col>V21</th><th scope=col>V22</th><th scope=col>V23</th><th scope=col>V24</th><th scope=col>V25</th><th scope=col>V1.1</th><th scope=col>V2.1</th><th scope=col>V3.1</th><th scope=col>V4.1</th><th scope=col>V5.1</th></tr></thead>\n",
       "<tbody>\n",
       "</tbody>\n",
       "</table>\n"
      ],
      "text/latex": [
       "\\begin{tabular}{r|lllllllllllllllllllllllllllll}\n",
       " V1 & V2 & V3 & V4 & V5 & V6 & V7 & V8 & V9 & V10 & ⋯ & V21 & V22 & V23 & V24 & V25 & V1.1 & V2.1 & V3.1 & V4.1 & V5.1\\\\\n",
       "\\hline\n",
       "\\end{tabular}\n"
      ],
      "text/markdown": [
       "\n",
       "V1 | V2 | V3 | V4 | V5 | V6 | V7 | V8 | V9 | V10 | ⋯ | V21 | V22 | V23 | V24 | V25 | V1.1 | V2.1 | V3.1 | V4.1 | V5.1 | \n",
       "||\n",
       "\n",
       "\n"
      ],
      "text/plain": [
       "     V1 V2 V3 V4 V5 V6 V7 V8 V9 V10 ⋯ V21 V22 V23 V24 V25 V1.1 V2.1 V3.1 V4.1\n",
       "     V5.1"
      ]
     },
     "metadata": {},
     "output_type": "display_data"
    }
   ],
   "source": [
    "outmres[outmres$V1==\"newCN1640\",1-12] # this one is filtered due to low R2"
   ]
  },
  {
   "cell_type": "code",
   "execution_count": 92,
   "metadata": {},
   "outputs": [
    {
     "data": {
      "text/html": [
       "<table>\n",
       "<thead><tr><th></th><th scope=col>V1</th><th scope=col>V2</th><th scope=col>V3</th><th scope=col>V4</th><th scope=col>V5</th><th scope=col>V6</th><th scope=col>V7</th><th scope=col>V8</th><th scope=col>V9</th><th scope=col>V10</th><th scope=col>⋯</th><th scope=col>V21</th><th scope=col>V22</th><th scope=col>V23</th><th scope=col>V24</th><th scope=col>V25</th><th scope=col>V1</th><th scope=col>V2</th><th scope=col>V3</th><th scope=col>V4</th><th scope=col>V5</th></tr></thead>\n",
       "<tbody>\n",
       "\t<tr><th scope=row>45058</th><td>newCN503  </td><td>1:4013535 </td><td>chr1      </td><td>3953475   </td><td>G         </td><td>A         </td><td>0.075     </td><td>0.131483  </td><td>0.961758  </td><td>-0.2299273</td><td>⋯         </td><td>3953475   </td><td>-168.8818 </td><td>0         </td><td>NaN       </td><td>0.921346  </td><td>newCN503  </td><td>-0.2940255</td><td>0.4400933 </td><td>0.448913  </td><td>0.574057  </td></tr>\n",
       "</tbody>\n",
       "</table>\n"
      ],
      "text/latex": [
       "\\begin{tabular}{r|llllllllllllllllllllllllllllll}\n",
       "  & V1 & V2 & V3 & V4 & V5 & V6 & V7 & V8 & V9 & V10 & ⋯ & V21 & V22 & V23 & V24 & V25 & V1 & V2 & V3 & V4 & V5\\\\\n",
       "\\hline\n",
       "\t45058 & newCN503   & 1:4013535  & chr1       & 3953475    & G          & A          & 0.075      & 0.131483   & 0.961758   & -0.2299273 & ⋯          & 3953475    & -168.8818  & 0          & NaN        & 0.921346   & newCN503   & -0.2940255 & 0.4400933  & 0.448913   & 0.574057  \\\\\n",
       "\\end{tabular}\n"
      ],
      "text/markdown": [
       "\n",
       "| <!--/--> | V1 | V2 | V3 | V4 | V5 | V6 | V7 | V8 | V9 | V10 | ⋯ | V21 | V22 | V23 | V24 | V25 | V1 | V2 | V3 | V4 | V5 | \n",
       "|---|\n",
       "| 45058 | newCN503   | 1:4013535  | chr1       | 3953475    | G          | A          | 0.075      | 0.131483   | 0.961758   | -0.2299273 | ⋯          | 3953475    | -168.8818  | 0          | NaN        | 0.921346   | newCN503   | -0.2940255 | 0.4400933  | 0.448913   | 0.574057   | \n",
       "\n",
       "\n"
      ],
      "text/plain": [
       "      V1       V2        V3   V4      V5 V6 V7    V8       V9       V10       \n",
       "45058 newCN503 1:4013535 chr1 3953475 G  A  0.075 0.131483 0.961758 -0.2299273\n",
       "      ⋯ V21     V22       V23 V24 V25      V1       V2         V3       \n",
       "45058 ⋯ 3953475 -168.8818 0   NaN 0.921346 newCN503 -0.2940255 0.4400933\n",
       "      V4       V5      \n",
       "45058 0.448913 0.574057"
      ]
     },
     "metadata": {},
     "output_type": "display_data"
    }
   ],
   "source": [
    "outmres[outmres$V1==\"newCN503\",]"
   ]
  },
  {
   "cell_type": "code",
   "execution_count": 103,
   "metadata": {},
   "outputs": [
    {
     "data": {
      "text/html": [
       "'chr1\\t3954546\\t1:4014606\\tA\\tG\\t.\\tPASS\\tAF=0.06781;MAF=0.06781;R2=0.72191\\tGT:DS:GP:AS\\t0|0:0.012:0.988,0.012,0.000:14,0\\t0|0:0.008:0.992,0.008,0.000:13,0\\t1|0:0.988:0.019,0.974,0.007:18,32\\t0|0:0.015:0.985,0.015,0.000:25,0\\t0|0:0.009:0.991,0.009,0.000:12,0\\t0|0:0.015:0.985,0.015,0.000:10,0\\t0|0:0.008:0.992,0.008,0.000:31,0\\t0|0:0.018:0.982,0.018,0.000:16,0\\t0|0:0.021:0.979,0.021,0.000:4,0\\t0|0:0.007:0.993,0.007,0.000:13,0\\t0|1:0.691:0.316,0.677,0.007:3,14\\t0|0:0.013:0.987,0.013,0.000:7,0\\t0|0:0.027:0.973,0.026,0.000:6,0\\t0|1:0.764:0.237,0.761,0.002:2,5\\t0|0:0.016:0.984,0.016,0.000:18,0\\t0|0:0.017:0.983,0.017,0.000:20,0\\t0|0:0.018:0.982,0.018,0.000:11,0\\t0|0:0.030:0.971,0.029,0.000:3,0\\t0|0:0.012:0.989,0.011,0.000:11,0\\t0|0:0.022:0.978,0.022,0.000:22,0'"
      ],
      "text/latex": [
       "'chr1\\textbackslash{}t3954546\\textbackslash{}t1:4014606\\textbackslash{}tA\\textbackslash{}tG\\textbackslash{}t.\\textbackslash{}tPASS\\textbackslash{}tAF=0.06781;MAF=0.06781;R2=0.72191\\textbackslash{}tGT:DS:GP:AS\\textbackslash{}t0\\textbar{}0:0.012:0.988,0.012,0.000:14,0\\textbackslash{}t0\\textbar{}0:0.008:0.992,0.008,0.000:13,0\\textbackslash{}t1\\textbar{}0:0.988:0.019,0.974,0.007:18,32\\textbackslash{}t0\\textbar{}0:0.015:0.985,0.015,0.000:25,0\\textbackslash{}t0\\textbar{}0:0.009:0.991,0.009,0.000:12,0\\textbackslash{}t0\\textbar{}0:0.015:0.985,0.015,0.000:10,0\\textbackslash{}t0\\textbar{}0:0.008:0.992,0.008,0.000:31,0\\textbackslash{}t0\\textbar{}0:0.018:0.982,0.018,0.000:16,0\\textbackslash{}t0\\textbar{}0:0.021:0.979,0.021,0.000:4,0\\textbackslash{}t0\\textbar{}0:0.007:0.993,0.007,0.000:13,0\\textbackslash{}t0\\textbar{}1:0.691:0.316,0.677,0.007:3,14\\textbackslash{}t0\\textbar{}0:0.013:0.987,0.013,0.000:7,0\\textbackslash{}t0\\textbar{}0:0.027:0.973,0.026,0.000:6,0\\textbackslash{}t0\\textbar{}1:0.764:0.237,0.761,0.002:2,5\\textbackslash{}t0\\textbar{}0:0.016:0.984,0.016,0.000:18,0\\textbackslash{}t0\\textbar{}0:0.017:0.983,0.017,0.000:20,0\\textbackslash{}t0\\textbar{}0:0.018:0.982,0.018,0.000:11,0\\textbackslash{}t0\\textbar{}0:0.030:0.971,0.029,0.000:3,0\\textbackslash{}t0\\textbar{}0:0.012:0.989,0.011,0.000:11,0\\textbackslash{}t0\\textbar{}0:0.022:0.978,0.022,0.000:22,0'"
      ],
      "text/markdown": [
       "'chr1\\t3954546\\t1:4014606\\tA\\tG\\t.\\tPASS\\tAF=0.06781;MAF=0.06781;R2=0.72191\\tGT:DS:GP:AS\\t0|0:0.012:0.988,0.012,0.000:14,0\\t0|0:0.008:0.992,0.008,0.000:13,0\\t1|0:0.988:0.019,0.974,0.007:18,32\\t0|0:0.015:0.985,0.015,0.000:25,0\\t0|0:0.009:0.991,0.009,0.000:12,0\\t0|0:0.015:0.985,0.015,0.000:10,0\\t0|0:0.008:0.992,0.008,0.000:31,0\\t0|0:0.018:0.982,0.018,0.000:16,0\\t0|0:0.021:0.979,0.021,0.000:4,0\\t0|0:0.007:0.993,0.007,0.000:13,0\\t0|1:0.691:0.316,0.677,0.007:3,14\\t0|0:0.013:0.987,0.013,0.000:7,0\\t0|0:0.027:0.973,0.026,0.000:6,0\\t0|1:0.764:0.237,0.761,0.002:2,5\\t0|0:0.016:0.984,0.016,0.000:18,0\\t0|0:0.017:0.983,0.017,0.000:20,0\\t0|0:0.018:0.982,0.018,0.000:11,0\\t0|0:0.030:0.971,0.029,0.000:3,0\\t0|0:0.012:0.989,0.011,0.000:11,0\\t0|0:0.022:0.978,0.022,0.000:22,0'"
      ],
      "text/plain": [
       "[1] \"chr1\\t3954546\\t1:4014606\\tA\\tG\\t.\\tPASS\\tAF=0.06781;MAF=0.06781;R2=0.72191\\tGT:DS:GP:AS\\t0|0:0.012:0.988,0.012,0.000:14,0\\t0|0:0.008:0.992,0.008,0.000:13,0\\t1|0:0.988:0.019,0.974,0.007:18,32\\t0|0:0.015:0.985,0.015,0.000:25,0\\t0|0:0.009:0.991,0.009,0.000:12,0\\t0|0:0.015:0.985,0.015,0.000:10,0\\t0|0:0.008:0.992,0.008,0.000:31,0\\t0|0:0.018:0.982,0.018,0.000:16,0\\t0|0:0.021:0.979,0.021,0.000:4,0\\t0|0:0.007:0.993,0.007,0.000:13,0\\t0|1:0.691:0.316,0.677,0.007:3,14\\t0|0:0.013:0.987,0.013,0.000:7,0\\t0|0:0.027:0.973,0.026,0.000:6,0\\t0|1:0.764:0.237,0.761,0.002:2,5\\t0|0:0.016:0.984,0.016,0.000:18,0\\t0|0:0.017:0.983,0.017,0.000:20,0\\t0|0:0.018:0.982,0.018,0.000:11,0\\t0|0:0.030:0.971,0.029,0.000:3,0\\t0|0:0.012:0.989,0.011,0.000:11,0\\t0|0:0.022:0.978,0.022,0.000:22,0\""
      ]
     },
     "metadata": {},
     "output_type": "display_data"
    }
   ],
   "source": [
    "system(\"tabix /home/simingz/run_rasqual/phased_data/chr1.hg38withchr.AS.vcf.gz chr1:3953332-3957576| grep 3954546\", intern=T)"
   ]
  },
  {
   "cell_type": "code",
   "execution_count": null,
   "metadata": {},
   "outputs": [],
   "source": []
  }
 ],
 "metadata": {
  "kernelspec": {
   "display_name": "R [conda env:testother]",
   "language": "R",
   "name": "conda-env-testother-r"
  },
  "language_info": {
   "codemirror_mode": "r",
   "file_extension": ".r",
   "mimetype": "text/x-r-source",
   "name": "R",
   "pygments_lexer": "r",
   "version": "3.4.3"
  }
 },
 "nbformat": 4,
 "nbformat_minor": 2
}
