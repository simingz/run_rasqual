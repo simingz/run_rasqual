{
 "cells": [
  {
   "cell_type": "markdown",
   "metadata": {},
   "source": [
    "## Prepare count files"
   ]
  },
  {
   "cell_type": "markdown",
   "metadata": {
    "collapsed": true
   },
   "source": [
    "Install package based on [here](https://github.com/kauralasoo/rasqual/tree/master/rasqualTools)\n",
    "using `devtools::install_github(\"kauralasoo/rasqual/rasqualTools\")`. This has to be done in R console opened on a real terminal window. I installed it in conda env `testother`."
   ]
  },
  {
   "cell_type": "code",
   "execution_count": 19,
   "metadata": {
    "collapsed": true
   },
   "outputs": [],
   "source": [
    "library(rasqualTools)\n",
    "library(tibble)\n",
    "library(dplyr)"
   ]
  },
  {
   "cell_type": "code",
   "execution_count": 2,
   "metadata": {},
   "outputs": [
    {
     "data": {
      "text/html": [
       "<table>\n",
       "<thead><tr><th scope=col>chr</th><th scope=col>start</th><th scope=col>end</th><th scope=col>peak_name</th><th scope=col>NSC_02</th><th scope=col>NSC_03</th><th scope=col>NSC_04</th><th scope=col>NSC_05</th><th scope=col>NSC_06</th><th scope=col>NSC_07</th><th scope=col>⋯</th><th scope=col>NSC_12</th><th scope=col>NSC_13</th><th scope=col>NSC_14</th><th scope=col>NSC_15</th><th scope=col>NSC_16</th><th scope=col>NSC_17</th><th scope=col>NSC_18</th><th scope=col>NSC_19</th><th scope=col>NSC_20</th><th scope=col>NSC_21</th></tr></thead>\n",
       "<tbody>\n",
       "\t<tr><td>chr1   </td><td> 9908  </td><td>10714  </td><td>newNSC1</td><td>664    </td><td>1353   </td><td>583    </td><td>758    </td><td>612    </td><td>995    </td><td>⋯      </td><td>1365   </td><td>640    </td><td>739    </td><td>358    </td><td>770    </td><td>202    </td><td>788    </td><td>347    </td><td>567    </td><td>608    </td></tr>\n",
       "\t<tr><td>chr1   </td><td>19907  </td><td>20551  </td><td>newNSC2</td><td> 57    </td><td>  79   </td><td> 22    </td><td> 72    </td><td> 91    </td><td> 81    </td><td>⋯      </td><td>  68   </td><td> 53    </td><td> 89    </td><td> 23    </td><td> 49    </td><td> 39    </td><td> 68    </td><td> 40    </td><td> 89    </td><td> 47    </td></tr>\n",
       "\t<tr><td>chr1   </td><td>22587  </td><td>22860  </td><td>newNSC3</td><td> 32    </td><td>  31   </td><td> 14    </td><td> 23    </td><td> 32    </td><td> 24    </td><td>⋯      </td><td>  18   </td><td> 14    </td><td> 28    </td><td>  0    </td><td> 26    </td><td>  9    </td><td> 28    </td><td>  0    </td><td> 34    </td><td> 20    </td></tr>\n",
       "\t<tr><td>chr1   </td><td>28683  </td><td>29970  </td><td>newNSC4</td><td>270    </td><td> 206   </td><td>385    </td><td>322    </td><td>297    </td><td>284    </td><td>⋯      </td><td> 285   </td><td>263    </td><td>318    </td><td>382    </td><td>282    </td><td>205    </td><td>214    </td><td>456    </td><td>311    </td><td>237    </td></tr>\n",
       "\t<tr><td>chr1   </td><td>31228  </td><td>31456  </td><td>newNSC5</td><td> 28    </td><td>  19   </td><td> 18    </td><td> 23    </td><td> 36    </td><td> 28    </td><td>⋯      </td><td>  36   </td><td> 14    </td><td> 31    </td><td> 29    </td><td> 47    </td><td>  1    </td><td> 24    </td><td> 39    </td><td> 21    </td><td> 22    </td></tr>\n",
       "\t<tr><td>chr1   </td><td>34710  </td><td>35096  </td><td>newNSC6</td><td> 39    </td><td>  31   </td><td> 17    </td><td> 28    </td><td> 24    </td><td> 36    </td><td>⋯      </td><td>  27   </td><td> 22    </td><td> 35    </td><td> 11    </td><td> 17    </td><td> 20    </td><td> 33    </td><td> 17    </td><td> 46    </td><td> 12    </td></tr>\n",
       "</tbody>\n",
       "</table>\n"
      ],
      "text/latex": [
       "\\begin{tabular}{r|llllllllllllllllllllllll}\n",
       " chr & start & end & peak\\_name & NSC\\_02 & NSC\\_03 & NSC\\_04 & NSC\\_05 & NSC\\_06 & NSC\\_07 & ⋯ & NSC\\_12 & NSC\\_13 & NSC\\_14 & NSC\\_15 & NSC\\_16 & NSC\\_17 & NSC\\_18 & NSC\\_19 & NSC\\_20 & NSC\\_21\\\\\n",
       "\\hline\n",
       "\t chr1    &  9908   & 10714   & newNSC1 & 664     & 1353    & 583     & 758     & 612     & 995     & ⋯       & 1365    & 640     & 739     & 358     & 770     & 202     & 788     & 347     & 567     & 608    \\\\\n",
       "\t chr1    & 19907   & 20551   & newNSC2 &  57     &   79    &  22     &  72     &  91     &  81     & ⋯       &   68    &  53     &  89     &  23     &  49     &  39     &  68     &  40     &  89     &  47    \\\\\n",
       "\t chr1    & 22587   & 22860   & newNSC3 &  32     &   31    &  14     &  23     &  32     &  24     & ⋯       &   18    &  14     &  28     &   0     &  26     &   9     &  28     &   0     &  34     &  20    \\\\\n",
       "\t chr1    & 28683   & 29970   & newNSC4 & 270     &  206    & 385     & 322     & 297     & 284     & ⋯       &  285    & 263     & 318     & 382     & 282     & 205     & 214     & 456     & 311     & 237    \\\\\n",
       "\t chr1    & 31228   & 31456   & newNSC5 &  28     &   19    &  18     &  23     &  36     &  28     & ⋯       &   36    &  14     &  31     &  29     &  47     &   1     &  24     &  39     &  21     &  22    \\\\\n",
       "\t chr1    & 34710   & 35096   & newNSC6 &  39     &   31    &  17     &  28     &  24     &  36     & ⋯       &   27    &  22     &  35     &  11     &  17     &  20     &  33     &  17     &  46     &  12    \\\\\n",
       "\\end{tabular}\n"
      ],
      "text/markdown": [
       "\n",
       "chr | start | end | peak_name | NSC_02 | NSC_03 | NSC_04 | NSC_05 | NSC_06 | NSC_07 | ⋯ | NSC_12 | NSC_13 | NSC_14 | NSC_15 | NSC_16 | NSC_17 | NSC_18 | NSC_19 | NSC_20 | NSC_21 | \n",
       "|---|---|---|---|---|---|\n",
       "| chr1    |  9908   | 10714   | newNSC1 | 664     | 1353    | 583     | 758     | 612     | 995     | ⋯       | 1365    | 640     | 739     | 358     | 770     | 202     | 788     | 347     | 567     | 608     | \n",
       "| chr1    | 19907   | 20551   | newNSC2 |  57     |   79    |  22     |  72     |  91     |  81     | ⋯       |   68    |  53     |  89     |  23     |  49     |  39     |  68     |  40     |  89     |  47     | \n",
       "| chr1    | 22587   | 22860   | newNSC3 |  32     |   31    |  14     |  23     |  32     |  24     | ⋯       |   18    |  14     |  28     |   0     |  26     |   9     |  28     |   0     |  34     |  20     | \n",
       "| chr1    | 28683   | 29970   | newNSC4 | 270     |  206    | 385     | 322     | 297     | 284     | ⋯       |  285    | 263     | 318     | 382     | 282     | 205     | 214     | 456     | 311     | 237     | \n",
       "| chr1    | 31228   | 31456   | newNSC5 |  28     |   19    |  18     |  23     |  36     |  28     | ⋯       |   36    |  14     |  31     |  29     |  47     |   1     |  24     |  39     |  21     |  22     | \n",
       "| chr1    | 34710   | 35096   | newNSC6 |  39     |   31    |  17     |  28     |  24     |  36     | ⋯       |   27    |  22     |  35     |  11     |  17     |  20     |  33     |  17     |  46     |  12     | \n",
       "\n",
       "\n"
      ],
      "text/plain": [
       "  chr  start end   peak_name NSC_02 NSC_03 NSC_04 NSC_05 NSC_06 NSC_07 ⋯ NSC_12\n",
       "1 chr1  9908 10714 newNSC1   664    1353   583    758    612    995    ⋯ 1365  \n",
       "2 chr1 19907 20551 newNSC2    57      79    22     72     91     81    ⋯   68  \n",
       "3 chr1 22587 22860 newNSC3    32      31    14     23     32     24    ⋯   18  \n",
       "4 chr1 28683 29970 newNSC4   270     206   385    322    297    284    ⋯  285  \n",
       "5 chr1 31228 31456 newNSC5    28      19    18     23     36     28    ⋯   36  \n",
       "6 chr1 34710 35096 newNSC6    39      31    17     28     24     36    ⋯   27  \n",
       "  NSC_13 NSC_14 NSC_15 NSC_16 NSC_17 NSC_18 NSC_19 NSC_20 NSC_21\n",
       "1 640    739    358    770    202    788    347    567    608   \n",
       "2  53     89     23     49     39     68     40     89     47   \n",
       "3  14     28      0     26      9     28      0     34     20   \n",
       "4 263    318    382    282    205    214    456    311    237   \n",
       "5  14     31     29     47      1     24     39     21     22   \n",
       "6  22     35     11     17     20     33     17     46     12   "
      ]
     },
     "metadata": {},
     "output_type": "display_data"
    }
   ],
   "source": [
    "# Prepare count file\n",
    "countfile <- \"/project2/xinhe/ATAC-seq_10252018/NSC/newNSC_peaks.20_samples.counts.txt\"\n",
    "countm <- read.table(countfile, header=T,stringsAsFactors = F)\n",
    "head(countm)"
   ]
  },
  {
   "cell_type": "code",
   "execution_count": 3,
   "metadata": {},
   "outputs": [
    {
     "data": {
      "text/html": [
       "<table>\n",
       "<thead><tr><th></th><th scope=col>NSC_02</th><th scope=col>NSC_03</th><th scope=col>NSC_04</th><th scope=col>NSC_05</th><th scope=col>NSC_06</th><th scope=col>NSC_07</th><th scope=col>NSC_08</th><th scope=col>NSC_09</th><th scope=col>NSC_10</th><th scope=col>NSC_11</th><th scope=col>NSC_12</th><th scope=col>NSC_13</th><th scope=col>NSC_14</th><th scope=col>NSC_15</th><th scope=col>NSC_16</th><th scope=col>NSC_17</th><th scope=col>NSC_18</th><th scope=col>NSC_19</th><th scope=col>NSC_20</th><th scope=col>NSC_21</th></tr></thead>\n",
       "<tbody>\n",
       "\t<tr><th scope=row>newNSC1</th><td>664 </td><td>1353</td><td>583 </td><td>758 </td><td>612 </td><td>995 </td><td>640 </td><td>557 </td><td>988 </td><td>879 </td><td>1365</td><td>640 </td><td>739 </td><td>358 </td><td>770 </td><td>202 </td><td>788 </td><td>347 </td><td>567 </td><td>608 </td></tr>\n",
       "\t<tr><th scope=row>newNSC2</th><td> 57 </td><td>  79</td><td> 22 </td><td> 72 </td><td> 91 </td><td> 81 </td><td> 72 </td><td> 46 </td><td> 64 </td><td> 46 </td><td>  68</td><td> 53 </td><td> 89 </td><td> 23 </td><td> 49 </td><td> 39 </td><td> 68 </td><td> 40 </td><td> 89 </td><td> 47 </td></tr>\n",
       "\t<tr><th scope=row>newNSC3</th><td> 32 </td><td>  31</td><td> 14 </td><td> 23 </td><td> 32 </td><td> 24 </td><td> 18 </td><td> 25 </td><td> 37 </td><td> 32 </td><td>  18</td><td> 14 </td><td> 28 </td><td>  0 </td><td> 26 </td><td>  9 </td><td> 28 </td><td>  0 </td><td> 34 </td><td> 20 </td></tr>\n",
       "\t<tr><th scope=row>newNSC4</th><td>270 </td><td> 206</td><td>385 </td><td>322 </td><td>297 </td><td>284 </td><td>312 </td><td>231 </td><td>158 </td><td>296 </td><td> 285</td><td>263 </td><td>318 </td><td>382 </td><td>282 </td><td>205 </td><td>214 </td><td>456 </td><td>311 </td><td>237 </td></tr>\n",
       "\t<tr><th scope=row>newNSC5</th><td> 28 </td><td>  19</td><td> 18 </td><td> 23 </td><td> 36 </td><td> 28 </td><td> 33 </td><td> 19 </td><td> 34 </td><td> 34 </td><td>  36</td><td> 14 </td><td> 31 </td><td> 29 </td><td> 47 </td><td>  1 </td><td> 24 </td><td> 39 </td><td> 21 </td><td> 22 </td></tr>\n",
       "\t<tr><th scope=row>newNSC6</th><td> 39 </td><td>  31</td><td> 17 </td><td> 28 </td><td> 24 </td><td> 36 </td><td> 35 </td><td> 46 </td><td> 33 </td><td> 40 </td><td>  27</td><td> 22 </td><td> 35 </td><td> 11 </td><td> 17 </td><td> 20 </td><td> 33 </td><td> 17 </td><td> 46 </td><td> 12 </td></tr>\n",
       "</tbody>\n",
       "</table>\n"
      ],
      "text/latex": [
       "\\begin{tabular}{r|llllllllllllllllllll}\n",
       "  & NSC\\_02 & NSC\\_03 & NSC\\_04 & NSC\\_05 & NSC\\_06 & NSC\\_07 & NSC\\_08 & NSC\\_09 & NSC\\_10 & NSC\\_11 & NSC\\_12 & NSC\\_13 & NSC\\_14 & NSC\\_15 & NSC\\_16 & NSC\\_17 & NSC\\_18 & NSC\\_19 & NSC\\_20 & NSC\\_21\\\\\n",
       "\\hline\n",
       "\tnewNSC1 & 664  & 1353 & 583  & 758  & 612  & 995  & 640  & 557  & 988  & 879  & 1365 & 640  & 739  & 358  & 770  & 202  & 788  & 347  & 567  & 608 \\\\\n",
       "\tnewNSC2 &  57  &   79 &  22  &  72  &  91  &  81  &  72  &  46  &  64  &  46  &   68 &  53  &  89  &  23  &  49  &  39  &  68  &  40  &  89  &  47 \\\\\n",
       "\tnewNSC3 &  32  &   31 &  14  &  23  &  32  &  24  &  18  &  25  &  37  &  32  &   18 &  14  &  28  &   0  &  26  &   9  &  28  &   0  &  34  &  20 \\\\\n",
       "\tnewNSC4 & 270  &  206 & 385  & 322  & 297  & 284  & 312  & 231  & 158  & 296  &  285 & 263  & 318  & 382  & 282  & 205  & 214  & 456  & 311  & 237 \\\\\n",
       "\tnewNSC5 &  28  &   19 &  18  &  23  &  36  &  28  &  33  &  19  &  34  &  34  &   36 &  14  &  31  &  29  &  47  &   1  &  24  &  39  &  21  &  22 \\\\\n",
       "\tnewNSC6 &  39  &   31 &  17  &  28  &  24  &  36  &  35  &  46  &  33  &  40  &   27 &  22  &  35  &  11  &  17  &  20  &  33  &  17  &  46  &  12 \\\\\n",
       "\\end{tabular}\n"
      ],
      "text/markdown": [
       "\n",
       "| <!--/--> | NSC_02 | NSC_03 | NSC_04 | NSC_05 | NSC_06 | NSC_07 | NSC_08 | NSC_09 | NSC_10 | NSC_11 | NSC_12 | NSC_13 | NSC_14 | NSC_15 | NSC_16 | NSC_17 | NSC_18 | NSC_19 | NSC_20 | NSC_21 | \n",
       "|---|---|---|---|---|---|\n",
       "| newNSC1 | 664  | 1353 | 583  | 758  | 612  | 995  | 640  | 557  | 988  | 879  | 1365 | 640  | 739  | 358  | 770  | 202  | 788  | 347  | 567  | 608  | \n",
       "| newNSC2 |  57  |   79 |  22  |  72  |  91  |  81  |  72  |  46  |  64  |  46  |   68 |  53  |  89  |  23  |  49  |  39  |  68  |  40  |  89  |  47  | \n",
       "| newNSC3 |  32  |   31 |  14  |  23  |  32  |  24  |  18  |  25  |  37  |  32  |   18 |  14  |  28  |   0  |  26  |   9  |  28  |   0  |  34  |  20  | \n",
       "| newNSC4 | 270  |  206 | 385  | 322  | 297  | 284  | 312  | 231  | 158  | 296  |  285 | 263  | 318  | 382  | 282  | 205  | 214  | 456  | 311  | 237  | \n",
       "| newNSC5 |  28  |   19 |  18  |  23  |  36  |  28  |  33  |  19  |  34  |  34  |   36 |  14  |  31  |  29  |  47  |   1  |  24  |  39  |  21  |  22  | \n",
       "| newNSC6 |  39  |   31 |  17  |  28  |  24  |  36  |  35  |  46  |  33  |  40  |   27 |  22  |  35  |  11  |  17  |  20  |  33  |  17  |  46  |  12  | \n",
       "\n",
       "\n"
      ],
      "text/plain": [
       "        NSC_02 NSC_03 NSC_04 NSC_05 NSC_06 NSC_07 NSC_08 NSC_09 NSC_10 NSC_11\n",
       "newNSC1 664    1353   583    758    612    995    640    557    988    879   \n",
       "newNSC2  57      79    22     72     91     81     72     46     64     46   \n",
       "newNSC3  32      31    14     23     32     24     18     25     37     32   \n",
       "newNSC4 270     206   385    322    297    284    312    231    158    296   \n",
       "newNSC5  28      19    18     23     36     28     33     19     34     34   \n",
       "newNSC6  39      31    17     28     24     36     35     46     33     40   \n",
       "        NSC_12 NSC_13 NSC_14 NSC_15 NSC_16 NSC_17 NSC_18 NSC_19 NSC_20 NSC_21\n",
       "newNSC1 1365   640    739    358    770    202    788    347    567    608   \n",
       "newNSC2   68    53     89     23     49     39     68     40     89     47   \n",
       "newNSC3   18    14     28      0     26      9     28      0     34     20   \n",
       "newNSC4  285   263    318    382    282    205    214    456    311    237   \n",
       "newNSC5   36    14     31     29     47      1     24     39     21     22   \n",
       "newNSC6   27    22     35     11     17     20     33     17     46     12   "
      ]
     },
     "metadata": {},
     "output_type": "display_data"
    }
   ],
   "source": [
    "counts_matrix <- countm[,5:dim(countm)[2]]\n",
    "rownames(counts_matrix) <-countm$peak_name\n",
    "head(counts_matrix)"
   ]
  },
  {
   "cell_type": "code",
   "execution_count": 4,
   "metadata": {},
   "outputs": [
    {
     "name": "stdout",
     "output_type": "stream",
     "text": [
      "[1] \"../datarun//cellTypeNSC.atac20.txt\"\n"
     ]
    }
   ],
   "source": [
    "saveRasqualMatrices(list(\"cellTypeNSC\" = counts_matrix), \"../datarun/NSC\", file_suffix = \"atac20\")"
   ]
  },
  {
   "cell_type": "code",
   "execution_count": 5,
   "metadata": {},
   "outputs": [
    {
     "name": "stdout",
     "output_type": "stream",
     "text": [
      "[1] \"../datarun//cellTypeNSC.size_factors.txt\"\n"
     ]
    }
   ],
   "source": [
    "# size factor file\n",
    "size_factors = rasqualCalculateSampleOffsets(counts_matrix, gc_correct = FALSE)\n",
    "saveRasqualMatrices(list(\"cellTypeNSC\" = size_factors), \"../datarun/NSC\", file_suffix = \"size_factors\")"
   ]
  },
  {
   "cell_type": "code",
   "execution_count": 27,
   "metadata": {
    "collapsed": true
   },
   "outputs": [],
   "source": [
    "# count SNP number per feature and generate batch run script.\n",
    "gene_data =  as_data_frame(dplyr::select(countm, peak_name,chr,start,end))\n",
    "gene_data = add_column(gene_data,strand= as.integer(1),.before=\"start\")\n",
    "colnames(gene_data) <- c(\"gene_id\", \"chr\", \"strand\",\"exon_starts\",\"exon_ends\")\n",
    "gene_data <- gene_data %>% mutate(exon_starts = as.character(exon_starts)) %>% mutate(exon_ends = as.character(exon_ends))"
   ]
  },
  {
   "cell_type": "code",
   "execution_count": 28,
   "metadata": {},
   "outputs": [
    {
     "name": "stdout",
     "output_type": "stream",
     "text": [
      "# A tibble: 5 x 5\n",
      "  gene_id chr   strand exon_starts exon_ends\n",
      "  <chr>   <chr>  <int> <chr>       <chr>    \n",
      "1 newNSC1 chr1       1 9908        10714    \n",
      "2 newNSC2 chr1       1 19907       20551    \n",
      "3 newNSC3 chr1       1 22587       22860    \n",
      "4 newNSC4 chr1       1 28683       29970    \n",
      "5 newNSC5 chr1       1 31228       31456    \n"
     ]
    }
   ],
   "source": [
    "print(gene_data[1:5,])"
   ]
  },
  {
   "cell_type": "code",
   "execution_count": 53,
   "metadata": {
    "collapsed": true
   },
   "outputs": [],
   "source": [
    "gen_command <- function(chrom, gdf, vcfdir, outdir, outtag) {\n",
    "    qstart <- min(as.integer(gdf$exon_starts))\n",
    "    qend <- max(as.integer(gdf$exon_ends))\n",
    "    tmp_file <- tempfile(pattern = paste(chrom,qstart,qend,sep=\"_\"), tmpdir = tempdir(), fileext = \".snplist\")\n",
    "    system(paste0(\"tabix \",vcfdir,\"/\",chrom,\".hg38withchr.AS.vcf.gz \",chrom,\":\",qstart,\"-\",qend, \"| cut -f 1-3> \", tmp_file))\n",
    "    snpdf <- try(read.table(tmp_file, header=F, stringsAsFactors = F))\n",
    "    if(inherits(snpdf, \"try-error\")){\n",
    "        print(paste0(\"No line for \",chrom, outtag,\". No output .sh file.\"))\n",
    "        return(0)\n",
    "    }\n",
    "    file.remove(tmp_file)\n",
    "    snpdf <- as_data_frame(snpdf)\n",
    "    colnames(snpdf) <- c(\"chr\", \"pos\", \"snp_id\")\n",
    "    snp_counts <- countSnpsOverlapingExons(gdf, snpdf, cis_window = 2e3)\n",
    "    cmd_mainfn <- paste0(outdir,\"/\",\"mainrun_\",chrom, \"_\", outtag)\n",
    "    cmd_permfn <- paste0(outdir,\"/\",\"permrun_\",chrom, \"_\", outtag)\n",
    "    mainbashf<-file(paste0(cmd_mainfn,\".sh\"),\"w\")\n",
    "    permbashf<-file(paste0(cmd_permfn,\".sh\"),\"w\")\n",
    "    writeLines(paste0(\"rm \", cmd_mainfn, \".result.txt\"), mainbashf)\n",
    "    writeLines(paste0(\"rm \",cmd_permfn, \".permres.txt\"), permbashf)\n",
    "    for (rowi in 1:nrow(snp_counts)){\n",
    "        featureID <- snp_counts$gene_id[rowi]\n",
    "        rSNP <- snp_counts$cis_snp_count[rowi]\n",
    "        fSNP <- snp_counts$feature_snp_count[rowi]\n",
    "        rstart <- snp_counts$range_start[rowi]\n",
    "        rend <- snp_counts$range_end[rowi]\n",
    "        fstart <- snp_counts$exon_starts[rowi]\n",
    "        fend <- snp_counts$exon_ends[rowi]\n",
    "        cmd_main <- paste0(\"tabix \",vcfdir,\"/\",chrom,\".hg38withchr.AS.vcf.gz \",chrom,\":\", rstart, \"-\",rend,\n",
    "                       \"|/home/simingz/run_rasqual/rasqual/bin/rasqual -y \",outdir,\"/cellTypeNSC.atac20.bin -k \",\n",
    "                       outdir, \"/cellTypeNSC.size_factors.bin -n 20 -j \",featureID,\" -l \",rSNP,\" -m \",fSNP,\n",
    "                       \" -s \",fstart,\" -e \", fend, \" -f \", featureID,\" -z\")\n",
    "        cmd_perm <- paste0(cmd_main, \" -r -t |  cut -f 1,10-12,25\") # keep lead SNP only, select column\n",
    "        writeLines(paste0(cmd_main,\" >> \",cmd_mainfn, \".result.txt\"), mainbashf)\n",
    "        writeLines(paste0(\"for i in `seq 1 1000`; do \", cmd_perm,\" >> \",cmd_permfn, \".permres.txt; done\" ), permbashf)\n",
    "    }\n",
    "    close(mainbashf)\n",
    "    close(permbashf)\n",
    "    return(snp_counts)\n",
    "}"
   ]
  },
  {
   "cell_type": "code",
   "execution_count": 55,
   "metadata": {},
   "outputs": [
    {
     "name": "stdout",
     "output_type": "stream",
     "text": [
      "[1] \"No line for chr1NSC43. No output .sh file.\"\n",
      "[1] \"No line for chr1NSC44. No output .sh file.\"\n",
      "[1] \"No line for chr1NSC45. No output .sh file.\"\n",
      "[1] \"No line for chr1NSC46. No output .sh file.\"\n",
      "[1] \"No line for chr1NSC47. No output .sh file.\"\n",
      "[1] \"No line for chr1NSC48. No output .sh file.\"\n",
      "[1] \"No line for chr1NSC49. No output .sh file.\"\n",
      "[1] \"No line for chr10NSC12. No output .sh file.\"\n",
      "[1] \"No line for chr10NSC13. No output .sh file.\"\n",
      "[1] \"No line for chr13NSC1. No output .sh file.\"\n",
      "[1] \"No line for chr13NSC2. No output .sh file.\"\n",
      "[1] \"No line for chr13NSC3. No output .sh file.\"\n",
      "[1] \"No line for chr13NSC4. No output .sh file.\"\n",
      "[1] \"No line for chr17NSC9. No output .sh file.\"\n",
      "[1] \"No line for chr20NSC9. No output .sh file.\"\n",
      "[1] \"No line for chr20NSC10. No output .sh file.\"\n",
      "[1] \"No line for chr21NSC1. No output .sh file.\"\n",
      "[1] \"No line for chr9NSC15. No output .sh file.\"\n"
     ]
    }
   ],
   "source": [
    "nlinesperjob <- 220\n",
    "vcfdir <- \"/home/simingz/run_rasqual/phased_data\"\n",
    "datarundir <- \"/home/simingz/run_rasqual/datarun/NSC\"\n",
    "\n",
    "gene_data_bychr <- split(gene_data,gene_data$chr)\n",
    "gene_data_bychr$chrX <- NULL\n",
    "gene_data_bychr$chrY <- NULL\n",
    "\n",
    "for (chrom in names(gene_data_bychr)){\n",
    "    n <- nrow(gene_data_bychr[[chrom]])\n",
    "    r <- rep(1:ceiling(n/nlinesperjob),each=nlinesperjob)[1:n]\n",
    "    chromlist <- split(gene_data_bychr[[chrom]],r)\n",
    "    for (tag in names(chromlist)){\n",
    "        genedf <- chromlist[[tag]]\n",
    "        gen_command(chrom,genedf,vcfdir,datarundir, paste0(\"NSC\",tag))\n",
    "    }\n",
    "}"
   ]
  },
  {
   "cell_type": "code",
   "execution_count": null,
   "metadata": {
    "collapsed": true
   },
   "outputs": [],
   "source": []
  }
 ],
 "metadata": {
  "kernelspec": {
   "display_name": "R [conda env:testother]",
   "language": "R",
   "name": "conda-env-testother-r"
  },
  "language_info": {
   "codemirror_mode": "r",
   "file_extension": ".r",
   "mimetype": "text/x-r-source",
   "name": "R",
   "pygments_lexer": "r",
   "version": "3.4.3"
  }
 },
 "nbformat": 4,
 "nbformat_minor": 2
}
