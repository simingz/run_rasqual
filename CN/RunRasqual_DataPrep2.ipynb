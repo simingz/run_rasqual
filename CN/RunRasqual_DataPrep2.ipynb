{
 "cells": [
  {
   "cell_type": "markdown",
   "metadata": {},
   "source": [
    "## Prepare count files"
   ]
  },
  {
   "cell_type": "markdown",
   "metadata": {
    "collapsed": true
   },
   "source": [
    "Install package based on [here](https://github.com/kauralasoo/rasqual/tree/master/rasqualTools)\n",
    "using `devtools::install_github(\"kauralasoo/rasqual/rasqualTools\")`. This has to be done in R console opened on a real terminal window. I installed it in conda env `testother`."
   ]
  },
  {
   "cell_type": "code",
   "execution_count": 1,
   "metadata": {},
   "outputs": [
    {
     "name": "stderr",
     "output_type": "stream",
     "text": [
      "\n",
      "Attaching package: ‘dplyr’\n",
      "\n",
      "The following objects are masked from ‘package:stats’:\n",
      "\n",
      "    filter, lag\n",
      "\n",
      "The following objects are masked from ‘package:base’:\n",
      "\n",
      "    intersect, setdiff, setequal, union\n",
      "\n"
     ]
    }
   ],
   "source": [
    "library(rasqualTools)\n",
    "library(tibble)\n",
    "library(dplyr)"
   ]
  },
  {
   "cell_type": "code",
   "execution_count": 2,
   "metadata": {},
   "outputs": [
    {
     "data": {
      "text/html": [
       "<table>\n",
       "<thead><tr><th scope=col>chr</th><th scope=col>start</th><th scope=col>end</th><th scope=col>peak_name</th><th scope=col>CN_02</th><th scope=col>CN_03</th><th scope=col>CN_04</th><th scope=col>CN_05</th><th scope=col>CN_06</th><th scope=col>CN_07</th><th scope=col>⋯</th><th scope=col>CN_12</th><th scope=col>CN_13</th><th scope=col>CN_14</th><th scope=col>CN_15</th><th scope=col>CN_16</th><th scope=col>CN_17</th><th scope=col>CN_18</th><th scope=col>CN_19</th><th scope=col>CN_20</th><th scope=col>CN_21</th></tr></thead>\n",
       "<tbody>\n",
       "\t<tr><td>chr1  </td><td> 9909 </td><td>10719 </td><td>newCN1</td><td>583   </td><td>676   </td><td>637   </td><td>568   </td><td>643   </td><td>978   </td><td>⋯     </td><td>751   </td><td>560   </td><td>948   </td><td>793   </td><td>546   </td><td>739   </td><td>1079  </td><td>669   </td><td>722   </td><td>321   </td></tr>\n",
       "\t<tr><td>chr1  </td><td>11093 </td><td>11418 </td><td>newCN2</td><td> 51   </td><td>110   </td><td> 57   </td><td> 24   </td><td> 60   </td><td>132   </td><td>⋯     </td><td> 63   </td><td>129   </td><td> 98   </td><td> 51   </td><td> 52   </td><td> 49   </td><td>  93  </td><td> 20   </td><td> 97   </td><td> 49   </td></tr>\n",
       "\t<tr><td>chr1  </td><td>19856 </td><td>20555 </td><td>newCN3</td><td> 25   </td><td> 45   </td><td>130   </td><td> 56   </td><td> 71   </td><td> 34   </td><td>⋯     </td><td> 57   </td><td> 71   </td><td> 93   </td><td>168   </td><td> 46   </td><td> 94   </td><td>  56  </td><td> 51   </td><td> 68   </td><td> 49   </td></tr>\n",
       "\t<tr><td>chr1  </td><td>20674 </td><td>20992 </td><td>newCN4</td><td>  7   </td><td> 26   </td><td> 35   </td><td> 16   </td><td> 17   </td><td> 16   </td><td>⋯     </td><td> 25   </td><td> 22   </td><td> 30   </td><td> 44   </td><td> 18   </td><td> 21   </td><td>  32  </td><td> 18   </td><td> 32   </td><td> 22   </td></tr>\n",
       "\t<tr><td>chr1  </td><td>28683 </td><td>30094 </td><td>newCN5</td><td>396   </td><td>363   </td><td>483   </td><td>456   </td><td>224   </td><td>404   </td><td>⋯     </td><td>422   </td><td>566   </td><td>349   </td><td>284   </td><td>374   </td><td>337   </td><td> 644  </td><td>426   </td><td>542   </td><td>481   </td></tr>\n",
       "\t<tr><td>chr1  </td><td>31250 </td><td>31463 </td><td>newCN6</td><td> 16   </td><td> 28   </td><td> 36   </td><td> 24   </td><td> 31   </td><td> 26   </td><td>⋯     </td><td> 16   </td><td> 40   </td><td> 27   </td><td> 23   </td><td> 33   </td><td> 31   </td><td>  31  </td><td> 43   </td><td> 23   </td><td> 19   </td></tr>\n",
       "</tbody>\n",
       "</table>\n"
      ],
      "text/latex": [
       "\\begin{tabular}{r|llllllllllllllllllllllll}\n",
       " chr & start & end & peak\\_name & CN\\_02 & CN\\_03 & CN\\_04 & CN\\_05 & CN\\_06 & CN\\_07 & ⋯ & CN\\_12 & CN\\_13 & CN\\_14 & CN\\_15 & CN\\_16 & CN\\_17 & CN\\_18 & CN\\_19 & CN\\_20 & CN\\_21\\\\\n",
       "\\hline\n",
       "\t chr1   &  9909  & 10719  & newCN1 & 583    & 676    & 637    & 568    & 643    & 978    & ⋯      & 751    & 560    & 948    & 793    & 546    & 739    & 1079   & 669    & 722    & 321   \\\\\n",
       "\t chr1   & 11093  & 11418  & newCN2 &  51    & 110    &  57    &  24    &  60    & 132    & ⋯      &  63    & 129    &  98    &  51    &  52    &  49    &   93   &  20    &  97    &  49   \\\\\n",
       "\t chr1   & 19856  & 20555  & newCN3 &  25    &  45    & 130    &  56    &  71    &  34    & ⋯      &  57    &  71    &  93    & 168    &  46    &  94    &   56   &  51    &  68    &  49   \\\\\n",
       "\t chr1   & 20674  & 20992  & newCN4 &   7    &  26    &  35    &  16    &  17    &  16    & ⋯      &  25    &  22    &  30    &  44    &  18    &  21    &   32   &  18    &  32    &  22   \\\\\n",
       "\t chr1   & 28683  & 30094  & newCN5 & 396    & 363    & 483    & 456    & 224    & 404    & ⋯      & 422    & 566    & 349    & 284    & 374    & 337    &  644   & 426    & 542    & 481   \\\\\n",
       "\t chr1   & 31250  & 31463  & newCN6 &  16    &  28    &  36    &  24    &  31    &  26    & ⋯      &  16    &  40    &  27    &  23    &  33    &  31    &   31   &  43    &  23    &  19   \\\\\n",
       "\\end{tabular}\n"
      ],
      "text/markdown": [
       "\n",
       "chr | start | end | peak_name | CN_02 | CN_03 | CN_04 | CN_05 | CN_06 | CN_07 | ⋯ | CN_12 | CN_13 | CN_14 | CN_15 | CN_16 | CN_17 | CN_18 | CN_19 | CN_20 | CN_21 | \n",
       "|---|---|---|---|---|---|\n",
       "| chr1   |  9909  | 10719  | newCN1 | 583    | 676    | 637    | 568    | 643    | 978    | ⋯      | 751    | 560    | 948    | 793    | 546    | 739    | 1079   | 669    | 722    | 321    | \n",
       "| chr1   | 11093  | 11418  | newCN2 |  51    | 110    |  57    |  24    |  60    | 132    | ⋯      |  63    | 129    |  98    |  51    |  52    |  49    |   93   |  20    |  97    |  49    | \n",
       "| chr1   | 19856  | 20555  | newCN3 |  25    |  45    | 130    |  56    |  71    |  34    | ⋯      |  57    |  71    |  93    | 168    |  46    |  94    |   56   |  51    |  68    |  49    | \n",
       "| chr1   | 20674  | 20992  | newCN4 |   7    |  26    |  35    |  16    |  17    |  16    | ⋯      |  25    |  22    |  30    |  44    |  18    |  21    |   32   |  18    |  32    |  22    | \n",
       "| chr1   | 28683  | 30094  | newCN5 | 396    | 363    | 483    | 456    | 224    | 404    | ⋯      | 422    | 566    | 349    | 284    | 374    | 337    |  644   | 426    | 542    | 481    | \n",
       "| chr1   | 31250  | 31463  | newCN6 |  16    |  28    |  36    |  24    |  31    |  26    | ⋯      |  16    |  40    |  27    |  23    |  33    |  31    |   31   |  43    |  23    |  19    | \n",
       "\n",
       "\n"
      ],
      "text/plain": [
       "  chr  start end   peak_name CN_02 CN_03 CN_04 CN_05 CN_06 CN_07 ⋯ CN_12 CN_13\n",
       "1 chr1  9909 10719 newCN1    583   676   637   568   643   978   ⋯ 751   560  \n",
       "2 chr1 11093 11418 newCN2     51   110    57    24    60   132   ⋯  63   129  \n",
       "3 chr1 19856 20555 newCN3     25    45   130    56    71    34   ⋯  57    71  \n",
       "4 chr1 20674 20992 newCN4      7    26    35    16    17    16   ⋯  25    22  \n",
       "5 chr1 28683 30094 newCN5    396   363   483   456   224   404   ⋯ 422   566  \n",
       "6 chr1 31250 31463 newCN6     16    28    36    24    31    26   ⋯  16    40  \n",
       "  CN_14 CN_15 CN_16 CN_17 CN_18 CN_19 CN_20 CN_21\n",
       "1 948   793   546   739   1079  669   722   321  \n",
       "2  98    51    52    49     93   20    97    49  \n",
       "3  93   168    46    94     56   51    68    49  \n",
       "4  30    44    18    21     32   18    32    22  \n",
       "5 349   284   374   337    644  426   542   481  \n",
       "6  27    23    33    31     31   43    23    19  "
      ]
     },
     "metadata": {},
     "output_type": "display_data"
    }
   ],
   "source": [
    "# Prepare count file\n",
    "countfile <- \"/project2/xinhe/ATAC-seq_10252018/CN/newCN_peaks.20_samples.counts.txt\"\n",
    "countm <- read.table(countfile, header=T,stringsAsFactors = F)\n",
    "head(countm)"
   ]
  },
  {
   "cell_type": "code",
   "execution_count": 3,
   "metadata": {},
   "outputs": [
    {
     "data": {
      "text/html": [
       "<ol class=list-inline>\n",
       "\t<li>194079</li>\n",
       "\t<li>24</li>\n",
       "</ol>\n"
      ],
      "text/latex": [
       "\\begin{enumerate*}\n",
       "\\item 194079\n",
       "\\item 24\n",
       "\\end{enumerate*}\n"
      ],
      "text/markdown": [
       "1. 194079\n",
       "2. 24\n",
       "\n",
       "\n"
      ],
      "text/plain": [
       "[1] 194079     24"
      ]
     },
     "metadata": {},
     "output_type": "display_data"
    }
   ],
   "source": [
    "dim(countm)"
   ]
  },
  {
   "cell_type": "code",
   "execution_count": 4,
   "metadata": {},
   "outputs": [
    {
     "data": {
      "text/html": [
       "<table>\n",
       "<thead><tr><th></th><th scope=col>CN_02</th><th scope=col>CN_03</th><th scope=col>CN_04</th><th scope=col>CN_05</th><th scope=col>CN_06</th><th scope=col>CN_07</th><th scope=col>CN_08</th><th scope=col>CN_09</th><th scope=col>CN_10</th><th scope=col>CN_11</th><th scope=col>CN_12</th><th scope=col>CN_13</th><th scope=col>CN_14</th><th scope=col>CN_15</th><th scope=col>CN_16</th><th scope=col>CN_17</th><th scope=col>CN_18</th><th scope=col>CN_19</th><th scope=col>CN_20</th><th scope=col>CN_21</th></tr></thead>\n",
       "<tbody>\n",
       "\t<tr><th scope=row>newCN1</th><td>583 </td><td>676 </td><td>637 </td><td>568 </td><td>643 </td><td>978 </td><td>653 </td><td>673 </td><td>986 </td><td>529 </td><td>751 </td><td>560 </td><td>948 </td><td>793 </td><td>546 </td><td>739 </td><td>1079</td><td>669 </td><td>722 </td><td>321 </td></tr>\n",
       "\t<tr><th scope=row>newCN2</th><td> 51 </td><td>110 </td><td> 57 </td><td> 24 </td><td> 60 </td><td>132 </td><td>126 </td><td> 53 </td><td>125 </td><td> 86 </td><td> 63 </td><td>129 </td><td> 98 </td><td> 51 </td><td> 52 </td><td> 49 </td><td>  93</td><td> 20 </td><td> 97 </td><td> 49 </td></tr>\n",
       "\t<tr><th scope=row>newCN3</th><td> 25 </td><td> 45 </td><td>130 </td><td> 56 </td><td> 71 </td><td> 34 </td><td> 90 </td><td> 33 </td><td> 86 </td><td> 76 </td><td> 57 </td><td> 71 </td><td> 93 </td><td>168 </td><td> 46 </td><td> 94 </td><td>  56</td><td> 51 </td><td> 68 </td><td> 49 </td></tr>\n",
       "\t<tr><th scope=row>newCN4</th><td>  7 </td><td> 26 </td><td> 35 </td><td> 16 </td><td> 17 </td><td> 16 </td><td> 34 </td><td> 15 </td><td> 36 </td><td> 18 </td><td> 25 </td><td> 22 </td><td> 30 </td><td> 44 </td><td> 18 </td><td> 21 </td><td>  32</td><td> 18 </td><td> 32 </td><td> 22 </td></tr>\n",
       "\t<tr><th scope=row>newCN5</th><td>396 </td><td>363 </td><td>483 </td><td>456 </td><td>224 </td><td>404 </td><td>515 </td><td>344 </td><td>475 </td><td>428 </td><td>422 </td><td>566 </td><td>349 </td><td>284 </td><td>374 </td><td>337 </td><td> 644</td><td>426 </td><td>542 </td><td>481 </td></tr>\n",
       "\t<tr><th scope=row>newCN6</th><td> 16 </td><td> 28 </td><td> 36 </td><td> 24 </td><td> 31 </td><td> 26 </td><td> 48 </td><td> 21 </td><td> 32 </td><td> 31 </td><td> 16 </td><td> 40 </td><td> 27 </td><td> 23 </td><td> 33 </td><td> 31 </td><td>  31</td><td> 43 </td><td> 23 </td><td> 19 </td></tr>\n",
       "</tbody>\n",
       "</table>\n"
      ],
      "text/latex": [
       "\\begin{tabular}{r|llllllllllllllllllll}\n",
       "  & CN\\_02 & CN\\_03 & CN\\_04 & CN\\_05 & CN\\_06 & CN\\_07 & CN\\_08 & CN\\_09 & CN\\_10 & CN\\_11 & CN\\_12 & CN\\_13 & CN\\_14 & CN\\_15 & CN\\_16 & CN\\_17 & CN\\_18 & CN\\_19 & CN\\_20 & CN\\_21\\\\\n",
       "\\hline\n",
       "\tnewCN1 & 583  & 676  & 637  & 568  & 643  & 978  & 653  & 673  & 986  & 529  & 751  & 560  & 948  & 793  & 546  & 739  & 1079 & 669  & 722  & 321 \\\\\n",
       "\tnewCN2 &  51  & 110  &  57  &  24  &  60  & 132  & 126  &  53  & 125  &  86  &  63  & 129  &  98  &  51  &  52  &  49  &   93 &  20  &  97  &  49 \\\\\n",
       "\tnewCN3 &  25  &  45  & 130  &  56  &  71  &  34  &  90  &  33  &  86  &  76  &  57  &  71  &  93  & 168  &  46  &  94  &   56 &  51  &  68  &  49 \\\\\n",
       "\tnewCN4 &   7  &  26  &  35  &  16  &  17  &  16  &  34  &  15  &  36  &  18  &  25  &  22  &  30  &  44  &  18  &  21  &   32 &  18  &  32  &  22 \\\\\n",
       "\tnewCN5 & 396  & 363  & 483  & 456  & 224  & 404  & 515  & 344  & 475  & 428  & 422  & 566  & 349  & 284  & 374  & 337  &  644 & 426  & 542  & 481 \\\\\n",
       "\tnewCN6 &  16  &  28  &  36  &  24  &  31  &  26  &  48  &  21  &  32  &  31  &  16  &  40  &  27  &  23  &  33  &  31  &   31 &  43  &  23  &  19 \\\\\n",
       "\\end{tabular}\n"
      ],
      "text/markdown": [
       "\n",
       "| <!--/--> | CN_02 | CN_03 | CN_04 | CN_05 | CN_06 | CN_07 | CN_08 | CN_09 | CN_10 | CN_11 | CN_12 | CN_13 | CN_14 | CN_15 | CN_16 | CN_17 | CN_18 | CN_19 | CN_20 | CN_21 | \n",
       "|---|---|---|---|---|---|\n",
       "| newCN1 | 583  | 676  | 637  | 568  | 643  | 978  | 653  | 673  | 986  | 529  | 751  | 560  | 948  | 793  | 546  | 739  | 1079 | 669  | 722  | 321  | \n",
       "| newCN2 |  51  | 110  |  57  |  24  |  60  | 132  | 126  |  53  | 125  |  86  |  63  | 129  |  98  |  51  |  52  |  49  |   93 |  20  |  97  |  49  | \n",
       "| newCN3 |  25  |  45  | 130  |  56  |  71  |  34  |  90  |  33  |  86  |  76  |  57  |  71  |  93  | 168  |  46  |  94  |   56 |  51  |  68  |  49  | \n",
       "| newCN4 |   7  |  26  |  35  |  16  |  17  |  16  |  34  |  15  |  36  |  18  |  25  |  22  |  30  |  44  |  18  |  21  |   32 |  18  |  32  |  22  | \n",
       "| newCN5 | 396  | 363  | 483  | 456  | 224  | 404  | 515  | 344  | 475  | 428  | 422  | 566  | 349  | 284  | 374  | 337  |  644 | 426  | 542  | 481  | \n",
       "| newCN6 |  16  |  28  |  36  |  24  |  31  |  26  |  48  |  21  |  32  |  31  |  16  |  40  |  27  |  23  |  33  |  31  |   31 |  43  |  23  |  19  | \n",
       "\n",
       "\n"
      ],
      "text/plain": [
       "       CN_02 CN_03 CN_04 CN_05 CN_06 CN_07 CN_08 CN_09 CN_10 CN_11 CN_12 CN_13\n",
       "newCN1 583   676   637   568   643   978   653   673   986   529   751   560  \n",
       "newCN2  51   110    57    24    60   132   126    53   125    86    63   129  \n",
       "newCN3  25    45   130    56    71    34    90    33    86    76    57    71  \n",
       "newCN4   7    26    35    16    17    16    34    15    36    18    25    22  \n",
       "newCN5 396   363   483   456   224   404   515   344   475   428   422   566  \n",
       "newCN6  16    28    36    24    31    26    48    21    32    31    16    40  \n",
       "       CN_14 CN_15 CN_16 CN_17 CN_18 CN_19 CN_20 CN_21\n",
       "newCN1 948   793   546   739   1079  669   722   321  \n",
       "newCN2  98    51    52    49     93   20    97    49  \n",
       "newCN3  93   168    46    94     56   51    68    49  \n",
       "newCN4  30    44    18    21     32   18    32    22  \n",
       "newCN5 349   284   374   337    644  426   542   481  \n",
       "newCN6  27    23    33    31     31   43    23    19  "
      ]
     },
     "metadata": {},
     "output_type": "display_data"
    }
   ],
   "source": [
    "counts_matrix <- countm[,5:dim(countm)[2]]\n",
    "rownames(counts_matrix) <-countm$peak_name\n",
    "head(counts_matrix)"
   ]
  },
  {
   "cell_type": "code",
   "execution_count": 8,
   "metadata": {},
   "outputs": [
    {
     "name": "stdout",
     "output_type": "stream",
     "text": [
      "[1] \"../../datarun/CN/cellTypeCN.atac20.txt\"\n"
     ]
    }
   ],
   "source": [
    "saveRasqualMatrices(list(\"cellTypeCN\" = counts_matrix), \"../../datarun/CN\", file_suffix = \"atac20\")"
   ]
  },
  {
   "cell_type": "code",
   "execution_count": 9,
   "metadata": {},
   "outputs": [
    {
     "name": "stdout",
     "output_type": "stream",
     "text": [
      "[1] \"../../datarun/CN/cellTypeCN.size_factors.txt\"\n"
     ]
    }
   ],
   "source": [
    "# size factor file\n",
    "size_factors = rasqualCalculateSampleOffsets(counts_matrix, gc_correct = FALSE)\n",
    "saveRasqualMatrices(list(\"cellTypeCN\" = size_factors), \"../../datarun/CN\", file_suffix = \"size_factors\")"
   ]
  },
  {
   "cell_type": "code",
   "execution_count": 10,
   "metadata": {
    "collapsed": true
   },
   "outputs": [],
   "source": [
    "# count SNP number per feature and generate batch run script.\n",
    "gene_data =  as_data_frame(dplyr::select(countm, peak_name,chr,start,end))\n",
    "gene_data = add_column(gene_data,strand= as.integer(1),.before=\"start\")\n",
    "colnames(gene_data) <- c(\"gene_id\", \"chr\", \"strand\",\"exon_starts\",\"exon_ends\")\n",
    "gene_data <- gene_data %>% mutate(exon_starts = as.character(exon_starts)) %>% mutate(exon_ends = as.character(exon_ends))"
   ]
  },
  {
   "cell_type": "code",
   "execution_count": 11,
   "metadata": {},
   "outputs": [
    {
     "name": "stdout",
     "output_type": "stream",
     "text": [
      "# A tibble: 5 x 5\n",
      "  gene_id chr   strand exon_starts exon_ends\n",
      "  <chr>   <chr>  <int> <chr>       <chr>    \n",
      "1 newCN1  chr1       1 9909        10719    \n",
      "2 newCN2  chr1       1 11093       11418    \n",
      "3 newCN3  chr1       1 19856       20555    \n",
      "4 newCN4  chr1       1 20674       20992    \n",
      "5 newCN5  chr1       1 28683       30094    \n"
     ]
    }
   ],
   "source": [
    "print(gene_data[1:5,])"
   ]
  },
  {
   "cell_type": "code",
   "execution_count": 12,
   "metadata": {
    "collapsed": true
   },
   "outputs": [],
   "source": [
    "gen_command <- function(chrom, gdf, vcfdir, outdir, outtag) {\n",
    "    qstart <- min(as.integer(gdf$exon_starts))\n",
    "    qend <- max(as.integer(gdf$exon_ends))\n",
    "    tmp_file <- tempfile(pattern = paste(chrom,qstart,qend,sep=\"_\"), tmpdir = tempdir(), fileext = \".snplist\")\n",
    "    system(paste0(\"tabix \",vcfdir,\"/\",chrom,\".hg38withchr.AS.vcf.gz \",chrom,\":\",qstart,\"-\",qend, \"| cut -f 1-3> \", tmp_file))\n",
    "    snpdf <- try(read.table(tmp_file, header=F, stringsAsFactors = F))\n",
    "    if(inherits(snpdf, \"try-error\")){\n",
    "        print(paste0(\"No line for \",chrom, outtag,\". No output .sh file.\"))\n",
    "        return(0)\n",
    "    }\n",
    "    file.remove(tmp_file)\n",
    "    snpdf <- as_data_frame(snpdf)\n",
    "    colnames(snpdf) <- c(\"chr\", \"pos\", \"snp_id\")\n",
    "    snp_counts <- countSnpsOverlapingExons(gdf, snpdf, cis_window = 2e3)\n",
    "    cmd_mainfn <- paste0(outdir,\"/\",\"mainrun_\",chrom, \"_\", outtag)\n",
    "    cmd_permfn <- paste0(outdir,\"/\",\"permrun_\",chrom, \"_\", outtag)\n",
    "    mainbashf<-file(paste0(cmd_mainfn,\".sh\"),\"w\")\n",
    "    permbashf<-file(paste0(cmd_permfn,\".sh\"),\"w\")\n",
    "    writeLines(paste0(\"rm \", cmd_mainfn, \".result.txt\"), mainbashf)\n",
    "    writeLines(paste0(\"rm \",cmd_permfn, \".permres.txt\"), permbashf)\n",
    "    for (rowi in 1:nrow(snp_counts)){\n",
    "        featureID <- snp_counts$gene_id[rowi]\n",
    "        rSNP <- snp_counts$cis_snp_count[rowi]\n",
    "        fSNP <- snp_counts$feature_snp_count[rowi]\n",
    "        rstart <- snp_counts$range_start[rowi]\n",
    "        rend <- snp_counts$range_end[rowi]\n",
    "        fstart <- snp_counts$exon_starts[rowi]\n",
    "        fend <- snp_counts$exon_ends[rowi]\n",
    "        cmd_main <- paste0(\"tabix \",vcfdir,\"/\",chrom,\".hg38withchr.AS.vcf.gz \",chrom,\":\", rstart, \"-\",rend,\n",
    "                       \"|/home/simingz/run_rasqual/rasqual/bin/rasqual -y \",outdir,\"/cellTypeCN.atac20.bin -k \",\n",
    "                       outdir, \"/cellTypeCN.size_factors.bin -n 20 -j \",featureID,\" -l \",rSNP,\" -m \",fSNP,\n",
    "                       \" -s \",fstart,\" -e \", fend, \" -f \", featureID,\" -z\")\n",
    "        cmd_perm <- paste0(cmd_main, \" -r -t |  cut -f 1,10-12,25\") # keep lead SNP only, select column\n",
    "        writeLines(paste0(cmd_main,\" >> \",cmd_mainfn, \".result.txt\"), mainbashf)\n",
    "        writeLines(paste0(\"for i in `seq 1 1000`; do \", cmd_perm,\" >> \",cmd_permfn, \".permres.txt; done\" ), permbashf)\n",
    "    }\n",
    "    close(mainbashf)\n",
    "    close(permbashf)\n",
    "    return(snp_counts)\n",
    "}"
   ]
  },
  {
   "cell_type": "code",
   "execution_count": 13,
   "metadata": {},
   "outputs": [
    {
     "name": "stdout",
     "output_type": "stream",
     "text": [
      "[1] \"No line for chr1CN43. No output .sh file.\"\n",
      "[1] \"No line for chr1CN44. No output .sh file.\"\n",
      "[1] \"No line for chr1CN45. No output .sh file.\"\n",
      "[1] \"No line for chr1CN46. No output .sh file.\"\n",
      "[1] \"No line for chr1CN47. No output .sh file.\"\n",
      "[1] \"No line for chr1CN48. No output .sh file.\"\n",
      "[1] \"No line for chr1CN49. No output .sh file.\"\n",
      "[1] \"No line for chr10CN12. No output .sh file.\"\n",
      "[1] \"No line for chr10CN13. No output .sh file.\"\n",
      "[1] \"No line for chr13CN1. No output .sh file.\"\n",
      "[1] \"No line for chr13CN2. No output .sh file.\"\n",
      "[1] \"No line for chr13CN3. No output .sh file.\"\n",
      "[1] \"No line for chr13CN4. No output .sh file.\"\n",
      "[1] \"No line for chr20CN9. No output .sh file.\"\n",
      "[1] \"No line for chr6CN19. No output .sh file.\"\n",
      "[1] \"No line for chr9CN14. No output .sh file.\"\n"
     ]
    }
   ],
   "source": [
    "nlinesperjob <- 220\n",
    "vcfdir <- \"/home/simingz/run_rasqual/phased_data\"\n",
    "datarundir <- \"/home/simingz/run_rasqual/datarun/CN\"\n",
    "\n",
    "gene_data_bychr <- split(gene_data,gene_data$chr)\n",
    "gene_data_bychr$chrX <- NULL\n",
    "gene_data_bychr$chrY <- NULL\n",
    "\n",
    "for (chrom in names(gene_data_bychr)){\n",
    "    n <- nrow(gene_data_bychr[[chrom]])\n",
    "    r <- rep(1:ceiling(n/nlinesperjob),each=nlinesperjob)[1:n]\n",
    "    chromlist <- split(gene_data_bychr[[chrom]],r)\n",
    "    for (tag in names(chromlist)){\n",
    "        genedf <- chromlist[[tag]]\n",
    "        gen_command(chrom,genedf,vcfdir,datarundir, paste0(\"CN\",tag))\n",
    "    }\n",
    "}"
   ]
  }
 ],
 "metadata": {
  "kernelspec": {
   "display_name": "R [conda env:testother]",
   "language": "R",
   "name": "conda-env-testother-r"
  },
  "language_info": {
   "codemirror_mode": "r",
   "file_extension": ".r",
   "mimetype": "text/x-r-source",
   "name": "R",
   "pygments_lexer": "r",
   "version": "3.4.3"
  }
 },
 "nbformat": 4,
 "nbformat_minor": 2
}
