{
 "cells": [
  {
   "cell_type": "markdown",
   "metadata": {},
   "source": [
    "## Prepare count files"
   ]
  },
  {
   "cell_type": "markdown",
   "metadata": {},
   "source": [
    "Install package based on [here](https://github.com/kauralasoo/rasqual/tree/master/rasqualTools)\n",
    "using `devtools::install_github(\"kauralasoo/rasqual/rasqualTools\")`. This has to be done in R console opened on a real terminal window. I installed it in conda env `testother`."
   ]
  },
  {
   "cell_type": "code",
   "execution_count": 1,
   "metadata": {},
   "outputs": [
    {
     "name": "stderr",
     "output_type": "stream",
     "text": [
      "\n",
      "Attaching package: ‘dplyr’\n",
      "\n",
      "The following objects are masked from ‘package:stats’:\n",
      "\n",
      "    filter, lag\n",
      "\n",
      "The following objects are masked from ‘package:base’:\n",
      "\n",
      "    intersect, setdiff, setequal, union\n",
      "\n"
     ]
    }
   ],
   "source": [
    "library(rasqualTools)\n",
    "library(tibble)\n",
    "library(dplyr)"
   ]
  },
  {
   "cell_type": "code",
   "execution_count": 2,
   "metadata": {},
   "outputs": [],
   "source": [
    "# Prepare count file\n",
    "countfile <- \"/project2/xinhe/ATAC-seq_10252018/CN/newCN_peaks.20_samples.counts.txt\"\n",
    "countm <- read.table(countfile, header=T,stringsAsFactors = F)\n",
    "newheadert <- read.table(\"/home/simingz/run_rasqual/datarun/bamlist.txt\",header=F,stringsAsFactors = F)"
   ]
  },
  {
   "cell_type": "code",
   "execution_count": 3,
   "metadata": {},
   "outputs": [],
   "source": [
    "newheader <- paste0('CN_',lapply(apply(newheadert,2,strsplit,split=\"_\")[[1]],'[[',3))"
   ]
  },
  {
   "cell_type": "code",
   "execution_count": 4,
   "metadata": {},
   "outputs": [
    {
     "data": {
      "text/html": [
       "<table>\n",
       "<thead><tr><th scope=col>chr</th><th scope=col>start</th><th scope=col>end</th><th scope=col>peak_name</th><th scope=col>CN_02</th><th scope=col>CN_03</th><th scope=col>CN_04</th><th scope=col>CN_05</th><th scope=col>CN_06</th><th scope=col>CN_07</th><th scope=col>⋯</th><th scope=col>CN_12</th><th scope=col>CN_13</th><th scope=col>CN_14</th><th scope=col>CN_15</th><th scope=col>CN_16</th><th scope=col>CN_17</th><th scope=col>CN_18</th><th scope=col>CN_19</th><th scope=col>CN_20</th><th scope=col>CN_21</th></tr></thead>\n",
       "<tbody>\n",
       "\t<tr><td>chr1  </td><td> 9909 </td><td>10719 </td><td>newCN1</td><td>583   </td><td>676   </td><td>637   </td><td>568   </td><td>643   </td><td>978   </td><td>⋯     </td><td>751   </td><td>560   </td><td>948   </td><td>793   </td><td>546   </td><td>739   </td><td>1079  </td><td>669   </td><td>722   </td><td>321   </td></tr>\n",
       "\t<tr><td>chr1  </td><td>11093 </td><td>11418 </td><td>newCN2</td><td> 51   </td><td>110   </td><td> 57   </td><td> 24   </td><td> 60   </td><td>132   </td><td>⋯     </td><td> 63   </td><td>129   </td><td> 98   </td><td> 51   </td><td> 52   </td><td> 49   </td><td>  93  </td><td> 20   </td><td> 97   </td><td> 49   </td></tr>\n",
       "\t<tr><td>chr1  </td><td>19856 </td><td>20555 </td><td>newCN3</td><td> 25   </td><td> 45   </td><td>130   </td><td> 56   </td><td> 71   </td><td> 34   </td><td>⋯     </td><td> 57   </td><td> 71   </td><td> 93   </td><td>168   </td><td> 46   </td><td> 94   </td><td>  56  </td><td> 51   </td><td> 68   </td><td> 49   </td></tr>\n",
       "\t<tr><td>chr1  </td><td>20674 </td><td>20992 </td><td>newCN4</td><td>  7   </td><td> 26   </td><td> 35   </td><td> 16   </td><td> 17   </td><td> 16   </td><td>⋯     </td><td> 25   </td><td> 22   </td><td> 30   </td><td> 44   </td><td> 18   </td><td> 21   </td><td>  32  </td><td> 18   </td><td> 32   </td><td> 22   </td></tr>\n",
       "\t<tr><td>chr1  </td><td>28683 </td><td>30094 </td><td>newCN5</td><td>396   </td><td>363   </td><td>483   </td><td>456   </td><td>224   </td><td>404   </td><td>⋯     </td><td>422   </td><td>566   </td><td>349   </td><td>284   </td><td>374   </td><td>337   </td><td> 644  </td><td>426   </td><td>542   </td><td>481   </td></tr>\n",
       "\t<tr><td>chr1  </td><td>31250 </td><td>31463 </td><td>newCN6</td><td> 16   </td><td> 28   </td><td> 36   </td><td> 24   </td><td> 31   </td><td> 26   </td><td>⋯     </td><td> 16   </td><td> 40   </td><td> 27   </td><td> 23   </td><td> 33   </td><td> 31   </td><td>  31  </td><td> 43   </td><td> 23   </td><td> 19   </td></tr>\n",
       "</tbody>\n",
       "</table>\n"
      ],
      "text/latex": [
       "\\begin{tabular}{r|llllllllllllllllllllllll}\n",
       " chr & start & end & peak\\_name & CN\\_02 & CN\\_03 & CN\\_04 & CN\\_05 & CN\\_06 & CN\\_07 & ⋯ & CN\\_12 & CN\\_13 & CN\\_14 & CN\\_15 & CN\\_16 & CN\\_17 & CN\\_18 & CN\\_19 & CN\\_20 & CN\\_21\\\\\n",
       "\\hline\n",
       "\t chr1   &  9909  & 10719  & newCN1 & 583    & 676    & 637    & 568    & 643    & 978    & ⋯      & 751    & 560    & 948    & 793    & 546    & 739    & 1079   & 669    & 722    & 321   \\\\\n",
       "\t chr1   & 11093  & 11418  & newCN2 &  51    & 110    &  57    &  24    &  60    & 132    & ⋯      &  63    & 129    &  98    &  51    &  52    &  49    &   93   &  20    &  97    &  49   \\\\\n",
       "\t chr1   & 19856  & 20555  & newCN3 &  25    &  45    & 130    &  56    &  71    &  34    & ⋯      &  57    &  71    &  93    & 168    &  46    &  94    &   56   &  51    &  68    &  49   \\\\\n",
       "\t chr1   & 20674  & 20992  & newCN4 &   7    &  26    &  35    &  16    &  17    &  16    & ⋯      &  25    &  22    &  30    &  44    &  18    &  21    &   32   &  18    &  32    &  22   \\\\\n",
       "\t chr1   & 28683  & 30094  & newCN5 & 396    & 363    & 483    & 456    & 224    & 404    & ⋯      & 422    & 566    & 349    & 284    & 374    & 337    &  644   & 426    & 542    & 481   \\\\\n",
       "\t chr1   & 31250  & 31463  & newCN6 &  16    &  28    &  36    &  24    &  31    &  26    & ⋯      &  16    &  40    &  27    &  23    &  33    &  31    &   31   &  43    &  23    &  19   \\\\\n",
       "\\end{tabular}\n"
      ],
      "text/markdown": [
       "\n",
       "chr | start | end | peak_name | CN_02 | CN_03 | CN_04 | CN_05 | CN_06 | CN_07 | ⋯ | CN_12 | CN_13 | CN_14 | CN_15 | CN_16 | CN_17 | CN_18 | CN_19 | CN_20 | CN_21 | \n",
       "|---|---|---|---|---|---|\n",
       "| chr1   |  9909  | 10719  | newCN1 | 583    | 676    | 637    | 568    | 643    | 978    | ⋯      | 751    | 560    | 948    | 793    | 546    | 739    | 1079   | 669    | 722    | 321    | \n",
       "| chr1   | 11093  | 11418  | newCN2 |  51    | 110    |  57    |  24    |  60    | 132    | ⋯      |  63    | 129    |  98    |  51    |  52    |  49    |   93   |  20    |  97    |  49    | \n",
       "| chr1   | 19856  | 20555  | newCN3 |  25    |  45    | 130    |  56    |  71    |  34    | ⋯      |  57    |  71    |  93    | 168    |  46    |  94    |   56   |  51    |  68    |  49    | \n",
       "| chr1   | 20674  | 20992  | newCN4 |   7    |  26    |  35    |  16    |  17    |  16    | ⋯      |  25    |  22    |  30    |  44    |  18    |  21    |   32   |  18    |  32    |  22    | \n",
       "| chr1   | 28683  | 30094  | newCN5 | 396    | 363    | 483    | 456    | 224    | 404    | ⋯      | 422    | 566    | 349    | 284    | 374    | 337    |  644   | 426    | 542    | 481    | \n",
       "| chr1   | 31250  | 31463  | newCN6 |  16    |  28    |  36    |  24    |  31    |  26    | ⋯      |  16    |  40    |  27    |  23    |  33    |  31    |   31   |  43    |  23    |  19    | \n",
       "\n",
       "\n"
      ],
      "text/plain": [
       "  chr  start end   peak_name CN_02 CN_03 CN_04 CN_05 CN_06 CN_07 ⋯ CN_12 CN_13\n",
       "1 chr1  9909 10719 newCN1    583   676   637   568   643   978   ⋯ 751   560  \n",
       "2 chr1 11093 11418 newCN2     51   110    57    24    60   132   ⋯  63   129  \n",
       "3 chr1 19856 20555 newCN3     25    45   130    56    71    34   ⋯  57    71  \n",
       "4 chr1 20674 20992 newCN4      7    26    35    16    17    16   ⋯  25    22  \n",
       "5 chr1 28683 30094 newCN5    396   363   483   456   224   404   ⋯ 422   566  \n",
       "6 chr1 31250 31463 newCN6     16    28    36    24    31    26   ⋯  16    40  \n",
       "  CN_14 CN_15 CN_16 CN_17 CN_18 CN_19 CN_20 CN_21\n",
       "1 948   793   546   739   1079  669   722   321  \n",
       "2  98    51    52    49     93   20    97    49  \n",
       "3  93   168    46    94     56   51    68    49  \n",
       "4  30    44    18    21     32   18    32    22  \n",
       "5 349   284   374   337    644  426   542   481  \n",
       "6  27    23    33    31     31   43    23    19  "
      ]
     },
     "metadata": {},
     "output_type": "display_data"
    }
   ],
   "source": [
    "head(countm)"
   ]
  },
  {
   "cell_type": "code",
   "execution_count": 5,
   "metadata": {},
   "outputs": [
    {
     "data": {
      "text/html": [
       "<table>\n",
       "<thead><tr><th></th><th scope=col>CN_16</th><th scope=col>CN_08</th><th scope=col>CN_18</th><th scope=col>CN_19</th><th scope=col>CN_21</th><th scope=col>CN_10</th><th scope=col>CN_02</th><th scope=col>CN_20</th><th scope=col>CN_15</th><th scope=col>CN_14</th><th scope=col>CN_11</th><th scope=col>CN_12</th><th scope=col>CN_17</th><th scope=col>CN_06</th><th scope=col>CN_03</th><th scope=col>CN_09</th><th scope=col>CN_05</th><th scope=col>CN_04</th><th scope=col>CN_13</th><th scope=col>CN_07</th></tr></thead>\n",
       "<tbody>\n",
       "\t<tr><th scope=row>newCN1</th><td>546 </td><td>653 </td><td>1079</td><td>669 </td><td>321 </td><td>986 </td><td>583 </td><td>722 </td><td>793 </td><td>948 </td><td>529 </td><td>751 </td><td>739 </td><td>643 </td><td>676 </td><td>673 </td><td>568 </td><td>637 </td><td>560 </td><td>978 </td></tr>\n",
       "\t<tr><th scope=row>newCN2</th><td> 52 </td><td>126 </td><td>  93</td><td> 20 </td><td> 49 </td><td>125 </td><td> 51 </td><td> 97 </td><td> 51 </td><td> 98 </td><td> 86 </td><td> 63 </td><td> 49 </td><td> 60 </td><td>110 </td><td> 53 </td><td> 24 </td><td> 57 </td><td>129 </td><td>132 </td></tr>\n",
       "\t<tr><th scope=row>newCN3</th><td> 46 </td><td> 90 </td><td>  56</td><td> 51 </td><td> 49 </td><td> 86 </td><td> 25 </td><td> 68 </td><td>168 </td><td> 93 </td><td> 76 </td><td> 57 </td><td> 94 </td><td> 71 </td><td> 45 </td><td> 33 </td><td> 56 </td><td>130 </td><td> 71 </td><td> 34 </td></tr>\n",
       "\t<tr><th scope=row>newCN4</th><td> 18 </td><td> 34 </td><td>  32</td><td> 18 </td><td> 22 </td><td> 36 </td><td>  7 </td><td> 32 </td><td> 44 </td><td> 30 </td><td> 18 </td><td> 25 </td><td> 21 </td><td> 17 </td><td> 26 </td><td> 15 </td><td> 16 </td><td> 35 </td><td> 22 </td><td> 16 </td></tr>\n",
       "\t<tr><th scope=row>newCN5</th><td>374 </td><td>515 </td><td> 644</td><td>426 </td><td>481 </td><td>475 </td><td>396 </td><td>542 </td><td>284 </td><td>349 </td><td>428 </td><td>422 </td><td>337 </td><td>224 </td><td>363 </td><td>344 </td><td>456 </td><td>483 </td><td>566 </td><td>404 </td></tr>\n",
       "\t<tr><th scope=row>newCN6</th><td> 33 </td><td> 48 </td><td>  31</td><td> 43 </td><td> 19 </td><td> 32 </td><td> 16 </td><td> 23 </td><td> 23 </td><td> 27 </td><td> 31 </td><td> 16 </td><td> 31 </td><td> 31 </td><td> 28 </td><td> 21 </td><td> 24 </td><td> 36 </td><td> 40 </td><td> 26 </td></tr>\n",
       "</tbody>\n",
       "</table>\n"
      ],
      "text/latex": [
       "\\begin{tabular}{r|llllllllllllllllllll}\n",
       "  & CN\\_16 & CN\\_08 & CN\\_18 & CN\\_19 & CN\\_21 & CN\\_10 & CN\\_02 & CN\\_20 & CN\\_15 & CN\\_14 & CN\\_11 & CN\\_12 & CN\\_17 & CN\\_06 & CN\\_03 & CN\\_09 & CN\\_05 & CN\\_04 & CN\\_13 & CN\\_07\\\\\n",
       "\\hline\n",
       "\tnewCN1 & 546  & 653  & 1079 & 669  & 321  & 986  & 583  & 722  & 793  & 948  & 529  & 751  & 739  & 643  & 676  & 673  & 568  & 637  & 560  & 978 \\\\\n",
       "\tnewCN2 &  52  & 126  &   93 &  20  &  49  & 125  &  51  &  97  &  51  &  98  &  86  &  63  &  49  &  60  & 110  &  53  &  24  &  57  & 129  & 132 \\\\\n",
       "\tnewCN3 &  46  &  90  &   56 &  51  &  49  &  86  &  25  &  68  & 168  &  93  &  76  &  57  &  94  &  71  &  45  &  33  &  56  & 130  &  71  &  34 \\\\\n",
       "\tnewCN4 &  18  &  34  &   32 &  18  &  22  &  36  &   7  &  32  &  44  &  30  &  18  &  25  &  21  &  17  &  26  &  15  &  16  &  35  &  22  &  16 \\\\\n",
       "\tnewCN5 & 374  & 515  &  644 & 426  & 481  & 475  & 396  & 542  & 284  & 349  & 428  & 422  & 337  & 224  & 363  & 344  & 456  & 483  & 566  & 404 \\\\\n",
       "\tnewCN6 &  33  &  48  &   31 &  43  &  19  &  32  &  16  &  23  &  23  &  27  &  31  &  16  &  31  &  31  &  28  &  21  &  24  &  36  &  40  &  26 \\\\\n",
       "\\end{tabular}\n"
      ],
      "text/markdown": [
       "\n",
       "| <!--/--> | CN_16 | CN_08 | CN_18 | CN_19 | CN_21 | CN_10 | CN_02 | CN_20 | CN_15 | CN_14 | CN_11 | CN_12 | CN_17 | CN_06 | CN_03 | CN_09 | CN_05 | CN_04 | CN_13 | CN_07 | \n",
       "|---|---|---|---|---|---|\n",
       "| newCN1 | 546  | 653  | 1079 | 669  | 321  | 986  | 583  | 722  | 793  | 948  | 529  | 751  | 739  | 643  | 676  | 673  | 568  | 637  | 560  | 978  | \n",
       "| newCN2 |  52  | 126  |   93 |  20  |  49  | 125  |  51  |  97  |  51  |  98  |  86  |  63  |  49  |  60  | 110  |  53  |  24  |  57  | 129  | 132  | \n",
       "| newCN3 |  46  |  90  |   56 |  51  |  49  |  86  |  25  |  68  | 168  |  93  |  76  |  57  |  94  |  71  |  45  |  33  |  56  | 130  |  71  |  34  | \n",
       "| newCN4 |  18  |  34  |   32 |  18  |  22  |  36  |   7  |  32  |  44  |  30  |  18  |  25  |  21  |  17  |  26  |  15  |  16  |  35  |  22  |  16  | \n",
       "| newCN5 | 374  | 515  |  644 | 426  | 481  | 475  | 396  | 542  | 284  | 349  | 428  | 422  | 337  | 224  | 363  | 344  | 456  | 483  | 566  | 404  | \n",
       "| newCN6 |  33  |  48  |   31 |  43  |  19  |  32  |  16  |  23  |  23  |  27  |  31  |  16  |  31  |  31  |  28  |  21  |  24  |  36  |  40  |  26  | \n",
       "\n",
       "\n"
      ],
      "text/plain": [
       "       CN_16 CN_08 CN_18 CN_19 CN_21 CN_10 CN_02 CN_20 CN_15 CN_14 CN_11 CN_12\n",
       "newCN1 546   653   1079  669   321   986   583   722   793   948   529   751  \n",
       "newCN2  52   126     93   20    49   125    51    97    51    98    86    63  \n",
       "newCN3  46    90     56   51    49    86    25    68   168    93    76    57  \n",
       "newCN4  18    34     32   18    22    36     7    32    44    30    18    25  \n",
       "newCN5 374   515    644  426   481   475   396   542   284   349   428   422  \n",
       "newCN6  33    48     31   43    19    32    16    23    23    27    31    16  \n",
       "       CN_17 CN_06 CN_03 CN_09 CN_05 CN_04 CN_13 CN_07\n",
       "newCN1 739   643   676   673   568   637   560   978  \n",
       "newCN2  49    60   110    53    24    57   129   132  \n",
       "newCN3  94    71    45    33    56   130    71    34  \n",
       "newCN4  21    17    26    15    16    35    22    16  \n",
       "newCN5 337   224   363   344   456   483   566   404  \n",
       "newCN6  31    31    28    21    24    36    40    26  "
      ]
     },
     "metadata": {},
     "output_type": "display_data"
    }
   ],
   "source": [
    "counts_matrix <- countm[,5:dim(countm)[2]]\n",
    "counts_matrix <- counts_matrix[,newheader]\n",
    "rownames(counts_matrix) <-countm$peak_name\n",
    "head(counts_matrix)"
   ]
  },
  {
   "cell_type": "code",
   "execution_count": 6,
   "metadata": {},
   "outputs": [
    {
     "name": "stdout",
     "output_type": "stream",
     "text": [
      "[1] \"../../datarun/CN2/cellTypeCN.atac20.txt\"\n"
     ]
    }
   ],
   "source": [
    "saveRasqualMatrices(list(\"cellTypeCN\" = counts_matrix), \"../../datarun/CN2\", file_suffix = \"atac20\")"
   ]
  },
  {
   "cell_type": "code",
   "execution_count": 7,
   "metadata": {},
   "outputs": [
    {
     "name": "stdout",
     "output_type": "stream",
     "text": [
      "[1] \"../../datarun/CN2/cellTypeCN.size_factors.txt\"\n"
     ]
    }
   ],
   "source": [
    "# size factor file\n",
    "size_factors = rasqualCalculateSampleOffsets(counts_matrix, gc_correct = FALSE)\n",
    "saveRasqualMatrices(list(\"cellTypeCN\" = size_factors), \"../../datarun/CN2\", file_suffix = \"size_factors\")"
   ]
  },
  {
   "cell_type": "code",
   "execution_count": 8,
   "metadata": {
    "collapsed": true
   },
   "outputs": [],
   "source": [
    "# count SNP number per feature and generate batch run script.\n",
    "gene_data =  as_data_frame(dplyr::select(countm, peak_name,chr,start,end))\n",
    "gene_data = add_column(gene_data,strand= as.integer(1),.before=\"start\")\n",
    "colnames(gene_data) <- c(\"gene_id\", \"chr\", \"strand\",\"exon_starts\",\"exon_ends\")\n",
    "gene_data <- gene_data %>% mutate(exon_starts = as.character(exon_starts)) %>% mutate(exon_ends = as.character(exon_ends))"
   ]
  },
  {
   "cell_type": "code",
   "execution_count": 9,
   "metadata": {},
   "outputs": [
    {
     "name": "stdout",
     "output_type": "stream",
     "text": [
      "# A tibble: 5 x 5\n",
      "  gene_id chr   strand exon_starts exon_ends\n",
      "  <chr>   <chr>  <int> <chr>       <chr>    \n",
      "1 newCN1  chr1       1 9909        10719    \n",
      "2 newCN2  chr1       1 11093       11418    \n",
      "3 newCN3  chr1       1 19856       20555    \n",
      "4 newCN4  chr1       1 20674       20992    \n",
      "5 newCN5  chr1       1 28683       30094    \n"
     ]
    }
   ],
   "source": [
    "print(gene_data[1:5,])"
   ]
  },
  {
   "cell_type": "code",
   "execution_count": 10,
   "metadata": {
    "collapsed": true
   },
   "outputs": [],
   "source": [
    "gen_command <- function(chrom, gdf, vcfdir, outdir, outtag) {\n",
    "    qstart <- min(as.integer(gdf$exon_starts))\n",
    "    qend <- max(as.integer(gdf$exon_ends))\n",
    "    tmp_file <- tempfile(pattern = paste(chrom,qstart,qend,sep=\"_\"), tmpdir = tempdir(), fileext = \".snplist\")\n",
    "    system(paste0(\"tabix \",vcfdir,\"/\",chrom,\".hg38withchr.AS.vcf.gz \",chrom,\":\",qstart,\"-\",qend, \"| cut -f 1-3> \", tmp_file))\n",
    "    snpdf <- try(read.table(tmp_file, header=F, stringsAsFactors = F))\n",
    "    if(inherits(snpdf, \"try-error\")){\n",
    "        print(paste0(\"No line for \",chrom, outtag,\". No output .sh file.\"))\n",
    "        return(0)\n",
    "    }\n",
    "    file.remove(tmp_file)\n",
    "    snpdf <- as_data_frame(snpdf)\n",
    "    colnames(snpdf) <- c(\"chr\", \"pos\", \"snp_id\")\n",
    "    snp_counts <- countSnpsOverlapingExons(gdf, snpdf, cis_window = 2e3)\n",
    "    cmd_mainfn <- paste0(outdir,\"/\",\"mainrun_\",chrom, \"_\", outtag)\n",
    "    cmd_permfn <- paste0(outdir,\"/\",\"permrun_\",chrom, \"_\", outtag)\n",
    "    mainbashf<-file(paste0(cmd_mainfn,\".sh\"),\"w\")\n",
    "    permbashf<-file(paste0(cmd_permfn,\".sh\"),\"w\")\n",
    "    writeLines(paste0(\"rm \", cmd_mainfn, \".result.txt\"), mainbashf)\n",
    "    writeLines(paste0(\"rm \",cmd_permfn, \".permres.txt\"), permbashf)\n",
    "    for (rowi in 1:nrow(snp_counts)){\n",
    "        featureID <- snp_counts$gene_id[rowi]\n",
    "        rSNP <- snp_counts$cis_snp_count[rowi]\n",
    "        fSNP <- snp_counts$feature_snp_count[rowi]\n",
    "        rstart <- snp_counts$range_start[rowi]\n",
    "        rend <- snp_counts$range_end[rowi]\n",
    "        fstart <- snp_counts$exon_starts[rowi]\n",
    "        fend <- snp_counts$exon_ends[rowi]\n",
    "        cmd_main <- paste0(\"tabix \",vcfdir,\"/\",chrom,\".hg38withchr.AS.vcf.gz \",chrom,\":\", rstart, \"-\",rend,\n",
    "                       \"|/home/simingz/run_rasqual/rasqual/bin/rasqual -y \",outdir,\"/cellTypeCN.atac20.bin -k \",\n",
    "                       outdir, \"/cellTypeCN.size_factors.bin -n 20 -j \",featureID,\" -l \",rSNP,\" -m \",fSNP,\n",
    "                       \" -s \",fstart,\" -e \", fend, \" -f \", featureID,\" -z -t\")\n",
    "        cmd_perm <- paste0(cmd_main, \" -r|  cut -f 1,10-12,25\") # keep lead SNP only, select column\n",
    "        writeLines(paste0(cmd_main,\" >> \",cmd_mainfn, \".result.txt\"), mainbashf)\n",
    "        writeLines(paste0(cmd_perm,\" >> \",cmd_permfn, \".permres.txt\" ), permbashf)\n",
    "    }\n",
    "    close(mainbashf)\n",
    "    close(permbashf)\n",
    "    return(snp_counts)\n",
    "}"
   ]
  },
  {
   "cell_type": "code",
   "execution_count": 11,
   "metadata": {},
   "outputs": [
    {
     "name": "stdout",
     "output_type": "stream",
     "text": [
      "[1] \"No line for chr1CN13. No output .sh file.\"\n",
      "[1] \"No line for chr13CN1. No output .sh file.\"\n"
     ]
    }
   ],
   "source": [
    "nlinesperjob <- 800\n",
    "vcfdir <- \"/home/simingz/run_rasqual/phased_data\"\n",
    "datarundir <- \"/home/simingz/run_rasqual/datarun/CN2\"\n",
    "\n",
    "gene_data_bychr <- split(gene_data,gene_data$chr)\n",
    "gene_data_bychr$chrX <- NULL\n",
    "gene_data_bychr$chrY <- NULL\n",
    "\n",
    "for (chrom in names(gene_data_bychr)){\n",
    "    n <- nrow(gene_data_bychr[[chrom]])\n",
    "    r <- rep(1:ceiling(n/nlinesperjob),each=nlinesperjob)[1:n]\n",
    "    chromlist <- split(gene_data_bychr[[chrom]],r)\n",
    "    for (tag in names(chromlist)){\n",
    "        genedf <- chromlist[[tag]]\n",
    "        a<-gen_command(chrom,genedf,vcfdir,datarundir, paste0(\"CN\",tag))\n",
    "    }\n",
    "}"
   ]
  },
  {
   "cell_type": "code",
   "execution_count": 13,
   "metadata": {},
   "outputs": [],
   "source": [
    " a<-gen_command(chrom,genedf,vcfdir,datarundir, paste0(\"CN\",tag))"
   ]
  },
  {
   "cell_type": "code",
   "execution_count": 16,
   "metadata": {},
   "outputs": [
    {
     "data": {
      "text/html": [
       "<table>\n",
       "<thead><tr><th scope=col>gene_id</th><th scope=col>chromosome_name</th><th scope=col>strand</th><th scope=col>exon_starts</th><th scope=col>exon_ends</th><th scope=col>range_start</th><th scope=col>range_end</th><th scope=col>feature_snp_count</th><th scope=col>cis_snp_count</th></tr></thead>\n",
       "<tbody>\n",
       "\t<tr><td>newCN113054</td><td>chr9       </td><td>1          </td><td>137465050  </td><td>137465259  </td><td>137463050  </td><td>137467259  </td><td> 2         </td><td> 42        </td></tr>\n",
       "\t<tr><td>newCN113055</td><td>chr9       </td><td>1          </td><td>137466653  </td><td>137467037  </td><td>137464653  </td><td>137469037  </td><td>11         </td><td> 71        </td></tr>\n",
       "\t<tr><td>newCN113056</td><td>chr9       </td><td>1          </td><td>137479201  </td><td>137479538  </td><td>137477201  </td><td>137481538  </td><td> 4         </td><td> 98        </td></tr>\n",
       "\t<tr><td>newCN113057</td><td>chr9       </td><td>1          </td><td>137479640  </td><td>137479886  </td><td>137477640  </td><td>137481886  </td><td>11         </td><td> 97        </td></tr>\n",
       "\t<tr><td>newCN113058</td><td>chr9       </td><td>1          </td><td>137480334  </td><td>137480904  </td><td>137478334  </td><td>137482904  </td><td> 8         </td><td> 96        </td></tr>\n",
       "\t<tr><td>newCN113059</td><td>chr9       </td><td>1          </td><td>137487776  </td><td>137488069  </td><td>137485776  </td><td>137490069  </td><td> 6         </td><td> 93        </td></tr>\n",
       "\t<tr><td>newCN113060</td><td>chr9       </td><td>1          </td><td>137498462  </td><td>137498795  </td><td>137496462  </td><td>137500795  </td><td> 8         </td><td>110        </td></tr>\n",
       "\t<tr><td>newCN113061</td><td>chr9       </td><td>1          </td><td>137499371  </td><td>137499618  </td><td>137497371  </td><td>137501618  </td><td> 7         </td><td>111        </td></tr>\n",
       "\t<tr><td>newCN113062</td><td>chr9       </td><td>1          </td><td>137506665  </td><td>137506901  </td><td>137504665  </td><td>137508901  </td><td> 7         </td><td> 87        </td></tr>\n",
       "\t<tr><td>newCN113063</td><td>chr9       </td><td>1          </td><td>137509963  </td><td>137510397  </td><td>137507963  </td><td>137512397  </td><td>12         </td><td> 89        </td></tr>\n",
       "\t<tr><td>newCN113064</td><td>chr9       </td><td>1          </td><td>137511140  </td><td>137511565  </td><td>137509140  </td><td>137513565  </td><td> 9         </td><td> 83        </td></tr>\n",
       "\t<tr><td>newCN113065</td><td>chr9       </td><td>1          </td><td>137514004  </td><td>137515011  </td><td>137512004  </td><td>137517011  </td><td>20         </td><td>104        </td></tr>\n",
       "\t<tr><td>newCN113066</td><td>chr9       </td><td>1          </td><td>137517046  </td><td>137517254  </td><td>137515046  </td><td>137519254  </td><td> 0         </td><td> 96        </td></tr>\n",
       "\t<tr><td>newCN113067</td><td>chr9       </td><td>1          </td><td>137517471  </td><td>137518304  </td><td>137515471  </td><td>137520304  </td><td>10         </td><td>109        </td></tr>\n",
       "\t<tr><td>newCN113068</td><td>chr9       </td><td>1          </td><td>137522180  </td><td>137522492  </td><td>137520180  </td><td>137524492  </td><td>40         </td><td>150        </td></tr>\n",
       "\t<tr><td>newCN113069</td><td>chr9       </td><td>1          </td><td>137525314  </td><td>137526076  </td><td>137523314  </td><td>137528076  </td><td>12         </td><td> 95        </td></tr>\n",
       "\t<tr><td>newCN113070</td><td>chr9       </td><td>1          </td><td>137531446  </td><td>137531649  </td><td>137529446  </td><td>137533649  </td><td> 5         </td><td> 62        </td></tr>\n",
       "\t<tr><td>newCN113071</td><td>chr9       </td><td>1          </td><td>137534822  </td><td>137535226  </td><td>137532822  </td><td>137537226  </td><td> 6         </td><td> 76        </td></tr>\n",
       "\t<tr><td>newCN113072</td><td>chr9       </td><td>1          </td><td>137541362  </td><td>137542032  </td><td>137539362  </td><td>137544032  </td><td>10         </td><td> 76        </td></tr>\n",
       "\t<tr><td>newCN113073</td><td>chr9       </td><td>1          </td><td>137542611  </td><td>137543250  </td><td>137540611  </td><td>137545250  </td><td>16         </td><td> 86        </td></tr>\n",
       "\t<tr><td>newCN113074</td><td>chr9       </td><td>1          </td><td>137545710  </td><td>137545934  </td><td>137543710  </td><td>137547934  </td><td>26         </td><td>130        </td></tr>\n",
       "\t<tr><td>newCN113075</td><td>chr9       </td><td>1          </td><td>137549793  </td><td>137550694  </td><td>137547793  </td><td>137552694  </td><td>14         </td><td> 83        </td></tr>\n",
       "\t<tr><td>newCN113076</td><td>chr9       </td><td>1          </td><td>137551251  </td><td>137552336  </td><td>137549251  </td><td>137554336  </td><td>15         </td><td> 87        </td></tr>\n",
       "\t<tr><td>newCN113077</td><td>chr9       </td><td>1          </td><td>137559123  </td><td>137559877  </td><td>137557123  </td><td>137561877  </td><td>21         </td><td> 99        </td></tr>\n",
       "\t<tr><td>newCN113078</td><td>chr9       </td><td>1          </td><td>137566901  </td><td>137567189  </td><td>137564901  </td><td>137569189  </td><td> 0         </td><td> 29        </td></tr>\n",
       "\t<tr><td>newCN113079</td><td>chr9       </td><td>1          </td><td>137568143  </td><td>137568374  </td><td>137566143  </td><td>137570374  </td><td> 3         </td><td> 33        </td></tr>\n",
       "\t<tr><td>newCN113080</td><td>chr9       </td><td>1          </td><td>137578435  </td><td>137579334  </td><td>137576435  </td><td>137581334  </td><td>12         </td><td> 76        </td></tr>\n",
       "\t<tr><td>newCN113081</td><td>chr9       </td><td>1          </td><td>137589836  </td><td>137591283  </td><td>137587836  </td><td>137593283  </td><td>19         </td><td> 77        </td></tr>\n",
       "\t<tr><td>newCN113082</td><td>chr9       </td><td>1          </td><td>137598714  </td><td>137599052  </td><td>137596714  </td><td>137601052  </td><td> 5         </td><td> 70        </td></tr>\n",
       "\t<tr><td>newCN113083</td><td>chr9       </td><td>1          </td><td>137604988  </td><td>137606259  </td><td>137602988  </td><td>137608259  </td><td>16         </td><td> 69        </td></tr>\n",
       "\t<tr><td>newCN113084</td><td>chr9       </td><td>1          </td><td>137618310  </td><td>137619960  </td><td>137616310  </td><td>137621960  </td><td>18         </td><td> 81        </td></tr>\n",
       "\t<tr><td>newCN113085</td><td>chr9       </td><td>1          </td><td>137666545  </td><td>137667247  </td><td>137664545  </td><td>137669247  </td><td> 5         </td><td> 70        </td></tr>\n",
       "\t<tr><td>newCN113086</td><td>chr9       </td><td>1          </td><td>137670470  </td><td>137671186  </td><td>137668470  </td><td>137673186  </td><td>15         </td><td>100        </td></tr>\n",
       "\t<tr><td>newCN113087</td><td>chr9       </td><td>1          </td><td>137672869  </td><td>137673341  </td><td>137670869  </td><td>137675341  </td><td> 5         </td><td> 73        </td></tr>\n",
       "\t<tr><td>newCN113088</td><td>chr9       </td><td>1          </td><td>137679248  </td><td>137679664  </td><td>137677248  </td><td>137681664  </td><td> 8         </td><td> 95        </td></tr>\n",
       "\t<tr><td>newCN113089</td><td>chr9       </td><td>1          </td><td>137682471  </td><td>137683023  </td><td>137680471  </td><td>137685023  </td><td> 9         </td><td> 89        </td></tr>\n",
       "\t<tr><td>newCN113090</td><td>chr9       </td><td>1          </td><td>137688744  </td><td>137689151  </td><td>137686744  </td><td>137691151  </td><td> 3         </td><td> 68        </td></tr>\n",
       "\t<tr><td>newCN113091</td><td>chr9       </td><td>1          </td><td>137691537  </td><td>137691853  </td><td>137689537  </td><td>137693853  </td><td> 6         </td><td> 82        </td></tr>\n",
       "\t<tr><td>newCN113092</td><td>chr9       </td><td>1          </td><td>137695202  </td><td>137695559  </td><td>137693202  </td><td>137697559  </td><td> 5         </td><td> 78        </td></tr>\n",
       "\t<tr><td>newCN113093</td><td>chr9       </td><td>1          </td><td>137716065  </td><td>137716606  </td><td>137714065  </td><td>137718606  </td><td> 6         </td><td> 96        </td></tr>\n",
       "\t<tr><td>newCN113094</td><td>chr9       </td><td>1          </td><td>137745503  </td><td>137745967  </td><td>137743503  </td><td>137747967  </td><td> 6         </td><td> 90        </td></tr>\n",
       "\t<tr><td>newCN113095</td><td>chr9       </td><td>1          </td><td>137748456  </td><td>137749075  </td><td>137746456  </td><td>137751075  </td><td> 9         </td><td> 78        </td></tr>\n",
       "\t<tr><td>newCN113096</td><td>chr9       </td><td>1          </td><td>137750626  </td><td>137751014  </td><td>137748626  </td><td>137753014  </td><td> 8         </td><td> 67        </td></tr>\n",
       "\t<tr><td>newCN113097</td><td>chr9       </td><td>1          </td><td>137759785  </td><td>137760308  </td><td>137757785  </td><td>137762308  </td><td> 6         </td><td> 89        </td></tr>\n",
       "\t<tr><td>newCN113098</td><td>chr9       </td><td>1          </td><td>137764164  </td><td>137765472  </td><td>137762164  </td><td>137767472  </td><td>24         </td><td> 91        </td></tr>\n",
       "\t<tr><td>newCN113099</td><td>chr9       </td><td>1          </td><td>137785718  </td><td>137786265  </td><td>137783718  </td><td>137788265  </td><td>15         </td><td> 88        </td></tr>\n",
       "\t<tr><td>newCN113100</td><td>chr9       </td><td>1          </td><td>137836809  </td><td>137837174  </td><td>137834809  </td><td>137839174  </td><td>13         </td><td>100        </td></tr>\n",
       "\t<tr><td>newCN113101</td><td>chr9       </td><td>1          </td><td>137844980  </td><td>137846483  </td><td>137842980  </td><td>137848483  </td><td>20         </td><td>196        </td></tr>\n",
       "\t<tr><td>newCN113102</td><td>chr9       </td><td>1          </td><td>137866604  </td><td>137866916  </td><td>137864604  </td><td>137868916  </td><td> 4         </td><td> 82        </td></tr>\n",
       "\t<tr><td>newCN113103</td><td>chr9       </td><td>1          </td><td>137877529  </td><td>137879160  </td><td>137875529  </td><td>137881160  </td><td>22         </td><td> 93        </td></tr>\n",
       "</tbody>\n",
       "</table>\n"
      ],
      "text/latex": [
       "\\begin{tabular}{r|lllllllll}\n",
       " gene\\_id & chromosome\\_name & strand & exon\\_starts & exon\\_ends & range\\_start & range\\_end & feature\\_snp\\_count & cis\\_snp\\_count\\\\\n",
       "\\hline\n",
       "\t newCN113054 & chr9        & 1           & 137465050   & 137465259   & 137463050   & 137467259   &  2          &  42        \\\\\n",
       "\t newCN113055 & chr9        & 1           & 137466653   & 137467037   & 137464653   & 137469037   & 11          &  71        \\\\\n",
       "\t newCN113056 & chr9        & 1           & 137479201   & 137479538   & 137477201   & 137481538   &  4          &  98        \\\\\n",
       "\t newCN113057 & chr9        & 1           & 137479640   & 137479886   & 137477640   & 137481886   & 11          &  97        \\\\\n",
       "\t newCN113058 & chr9        & 1           & 137480334   & 137480904   & 137478334   & 137482904   &  8          &  96        \\\\\n",
       "\t newCN113059 & chr9        & 1           & 137487776   & 137488069   & 137485776   & 137490069   &  6          &  93        \\\\\n",
       "\t newCN113060 & chr9        & 1           & 137498462   & 137498795   & 137496462   & 137500795   &  8          & 110        \\\\\n",
       "\t newCN113061 & chr9        & 1           & 137499371   & 137499618   & 137497371   & 137501618   &  7          & 111        \\\\\n",
       "\t newCN113062 & chr9        & 1           & 137506665   & 137506901   & 137504665   & 137508901   &  7          &  87        \\\\\n",
       "\t newCN113063 & chr9        & 1           & 137509963   & 137510397   & 137507963   & 137512397   & 12          &  89        \\\\\n",
       "\t newCN113064 & chr9        & 1           & 137511140   & 137511565   & 137509140   & 137513565   &  9          &  83        \\\\\n",
       "\t newCN113065 & chr9        & 1           & 137514004   & 137515011   & 137512004   & 137517011   & 20          & 104        \\\\\n",
       "\t newCN113066 & chr9        & 1           & 137517046   & 137517254   & 137515046   & 137519254   &  0          &  96        \\\\\n",
       "\t newCN113067 & chr9        & 1           & 137517471   & 137518304   & 137515471   & 137520304   & 10          & 109        \\\\\n",
       "\t newCN113068 & chr9        & 1           & 137522180   & 137522492   & 137520180   & 137524492   & 40          & 150        \\\\\n",
       "\t newCN113069 & chr9        & 1           & 137525314   & 137526076   & 137523314   & 137528076   & 12          &  95        \\\\\n",
       "\t newCN113070 & chr9        & 1           & 137531446   & 137531649   & 137529446   & 137533649   &  5          &  62        \\\\\n",
       "\t newCN113071 & chr9        & 1           & 137534822   & 137535226   & 137532822   & 137537226   &  6          &  76        \\\\\n",
       "\t newCN113072 & chr9        & 1           & 137541362   & 137542032   & 137539362   & 137544032   & 10          &  76        \\\\\n",
       "\t newCN113073 & chr9        & 1           & 137542611   & 137543250   & 137540611   & 137545250   & 16          &  86        \\\\\n",
       "\t newCN113074 & chr9        & 1           & 137545710   & 137545934   & 137543710   & 137547934   & 26          & 130        \\\\\n",
       "\t newCN113075 & chr9        & 1           & 137549793   & 137550694   & 137547793   & 137552694   & 14          &  83        \\\\\n",
       "\t newCN113076 & chr9        & 1           & 137551251   & 137552336   & 137549251   & 137554336   & 15          &  87        \\\\\n",
       "\t newCN113077 & chr9        & 1           & 137559123   & 137559877   & 137557123   & 137561877   & 21          &  99        \\\\\n",
       "\t newCN113078 & chr9        & 1           & 137566901   & 137567189   & 137564901   & 137569189   &  0          &  29        \\\\\n",
       "\t newCN113079 & chr9        & 1           & 137568143   & 137568374   & 137566143   & 137570374   &  3          &  33        \\\\\n",
       "\t newCN113080 & chr9        & 1           & 137578435   & 137579334   & 137576435   & 137581334   & 12          &  76        \\\\\n",
       "\t newCN113081 & chr9        & 1           & 137589836   & 137591283   & 137587836   & 137593283   & 19          &  77        \\\\\n",
       "\t newCN113082 & chr9        & 1           & 137598714   & 137599052   & 137596714   & 137601052   &  5          &  70        \\\\\n",
       "\t newCN113083 & chr9        & 1           & 137604988   & 137606259   & 137602988   & 137608259   & 16          &  69        \\\\\n",
       "\t newCN113084 & chr9        & 1           & 137618310   & 137619960   & 137616310   & 137621960   & 18          &  81        \\\\\n",
       "\t newCN113085 & chr9        & 1           & 137666545   & 137667247   & 137664545   & 137669247   &  5          &  70        \\\\\n",
       "\t newCN113086 & chr9        & 1           & 137670470   & 137671186   & 137668470   & 137673186   & 15          & 100        \\\\\n",
       "\t newCN113087 & chr9        & 1           & 137672869   & 137673341   & 137670869   & 137675341   &  5          &  73        \\\\\n",
       "\t newCN113088 & chr9        & 1           & 137679248   & 137679664   & 137677248   & 137681664   &  8          &  95        \\\\\n",
       "\t newCN113089 & chr9        & 1           & 137682471   & 137683023   & 137680471   & 137685023   &  9          &  89        \\\\\n",
       "\t newCN113090 & chr9        & 1           & 137688744   & 137689151   & 137686744   & 137691151   &  3          &  68        \\\\\n",
       "\t newCN113091 & chr9        & 1           & 137691537   & 137691853   & 137689537   & 137693853   &  6          &  82        \\\\\n",
       "\t newCN113092 & chr9        & 1           & 137695202   & 137695559   & 137693202   & 137697559   &  5          &  78        \\\\\n",
       "\t newCN113093 & chr9        & 1           & 137716065   & 137716606   & 137714065   & 137718606   &  6          &  96        \\\\\n",
       "\t newCN113094 & chr9        & 1           & 137745503   & 137745967   & 137743503   & 137747967   &  6          &  90        \\\\\n",
       "\t newCN113095 & chr9        & 1           & 137748456   & 137749075   & 137746456   & 137751075   &  9          &  78        \\\\\n",
       "\t newCN113096 & chr9        & 1           & 137750626   & 137751014   & 137748626   & 137753014   &  8          &  67        \\\\\n",
       "\t newCN113097 & chr9        & 1           & 137759785   & 137760308   & 137757785   & 137762308   &  6          &  89        \\\\\n",
       "\t newCN113098 & chr9        & 1           & 137764164   & 137765472   & 137762164   & 137767472   & 24          &  91        \\\\\n",
       "\t newCN113099 & chr9        & 1           & 137785718   & 137786265   & 137783718   & 137788265   & 15          &  88        \\\\\n",
       "\t newCN113100 & chr9        & 1           & 137836809   & 137837174   & 137834809   & 137839174   & 13          & 100        \\\\\n",
       "\t newCN113101 & chr9        & 1           & 137844980   & 137846483   & 137842980   & 137848483   & 20          & 196        \\\\\n",
       "\t newCN113102 & chr9        & 1           & 137866604   & 137866916   & 137864604   & 137868916   &  4          &  82        \\\\\n",
       "\t newCN113103 & chr9        & 1           & 137877529   & 137879160   & 137875529   & 137881160   & 22          &  93        \\\\\n",
       "\\end{tabular}\n"
      ],
      "text/markdown": [
       "\n",
       "gene_id | chromosome_name | strand | exon_starts | exon_ends | range_start | range_end | feature_snp_count | cis_snp_count | \n",
       "|---|---|---|---|---|---|---|---|---|---|---|---|---|---|---|---|---|---|---|---|---|---|---|---|---|---|---|---|---|---|---|---|---|---|---|---|---|---|---|---|---|---|---|---|---|---|---|---|---|---|\n",
       "| newCN113054 | chr9        | 1           | 137465050   | 137465259   | 137463050   | 137467259   |  2          |  42         | \n",
       "| newCN113055 | chr9        | 1           | 137466653   | 137467037   | 137464653   | 137469037   | 11          |  71         | \n",
       "| newCN113056 | chr9        | 1           | 137479201   | 137479538   | 137477201   | 137481538   |  4          |  98         | \n",
       "| newCN113057 | chr9        | 1           | 137479640   | 137479886   | 137477640   | 137481886   | 11          |  97         | \n",
       "| newCN113058 | chr9        | 1           | 137480334   | 137480904   | 137478334   | 137482904   |  8          |  96         | \n",
       "| newCN113059 | chr9        | 1           | 137487776   | 137488069   | 137485776   | 137490069   |  6          |  93         | \n",
       "| newCN113060 | chr9        | 1           | 137498462   | 137498795   | 137496462   | 137500795   |  8          | 110         | \n",
       "| newCN113061 | chr9        | 1           | 137499371   | 137499618   | 137497371   | 137501618   |  7          | 111         | \n",
       "| newCN113062 | chr9        | 1           | 137506665   | 137506901   | 137504665   | 137508901   |  7          |  87         | \n",
       "| newCN113063 | chr9        | 1           | 137509963   | 137510397   | 137507963   | 137512397   | 12          |  89         | \n",
       "| newCN113064 | chr9        | 1           | 137511140   | 137511565   | 137509140   | 137513565   |  9          |  83         | \n",
       "| newCN113065 | chr9        | 1           | 137514004   | 137515011   | 137512004   | 137517011   | 20          | 104         | \n",
       "| newCN113066 | chr9        | 1           | 137517046   | 137517254   | 137515046   | 137519254   |  0          |  96         | \n",
       "| newCN113067 | chr9        | 1           | 137517471   | 137518304   | 137515471   | 137520304   | 10          | 109         | \n",
       "| newCN113068 | chr9        | 1           | 137522180   | 137522492   | 137520180   | 137524492   | 40          | 150         | \n",
       "| newCN113069 | chr9        | 1           | 137525314   | 137526076   | 137523314   | 137528076   | 12          |  95         | \n",
       "| newCN113070 | chr9        | 1           | 137531446   | 137531649   | 137529446   | 137533649   |  5          |  62         | \n",
       "| newCN113071 | chr9        | 1           | 137534822   | 137535226   | 137532822   | 137537226   |  6          |  76         | \n",
       "| newCN113072 | chr9        | 1           | 137541362   | 137542032   | 137539362   | 137544032   | 10          |  76         | \n",
       "| newCN113073 | chr9        | 1           | 137542611   | 137543250   | 137540611   | 137545250   | 16          |  86         | \n",
       "| newCN113074 | chr9        | 1           | 137545710   | 137545934   | 137543710   | 137547934   | 26          | 130         | \n",
       "| newCN113075 | chr9        | 1           | 137549793   | 137550694   | 137547793   | 137552694   | 14          |  83         | \n",
       "| newCN113076 | chr9        | 1           | 137551251   | 137552336   | 137549251   | 137554336   | 15          |  87         | \n",
       "| newCN113077 | chr9        | 1           | 137559123   | 137559877   | 137557123   | 137561877   | 21          |  99         | \n",
       "| newCN113078 | chr9        | 1           | 137566901   | 137567189   | 137564901   | 137569189   |  0          |  29         | \n",
       "| newCN113079 | chr9        | 1           | 137568143   | 137568374   | 137566143   | 137570374   |  3          |  33         | \n",
       "| newCN113080 | chr9        | 1           | 137578435   | 137579334   | 137576435   | 137581334   | 12          |  76         | \n",
       "| newCN113081 | chr9        | 1           | 137589836   | 137591283   | 137587836   | 137593283   | 19          |  77         | \n",
       "| newCN113082 | chr9        | 1           | 137598714   | 137599052   | 137596714   | 137601052   |  5          |  70         | \n",
       "| newCN113083 | chr9        | 1           | 137604988   | 137606259   | 137602988   | 137608259   | 16          |  69         | \n",
       "| newCN113084 | chr9        | 1           | 137618310   | 137619960   | 137616310   | 137621960   | 18          |  81         | \n",
       "| newCN113085 | chr9        | 1           | 137666545   | 137667247   | 137664545   | 137669247   |  5          |  70         | \n",
       "| newCN113086 | chr9        | 1           | 137670470   | 137671186   | 137668470   | 137673186   | 15          | 100         | \n",
       "| newCN113087 | chr9        | 1           | 137672869   | 137673341   | 137670869   | 137675341   |  5          |  73         | \n",
       "| newCN113088 | chr9        | 1           | 137679248   | 137679664   | 137677248   | 137681664   |  8          |  95         | \n",
       "| newCN113089 | chr9        | 1           | 137682471   | 137683023   | 137680471   | 137685023   |  9          |  89         | \n",
       "| newCN113090 | chr9        | 1           | 137688744   | 137689151   | 137686744   | 137691151   |  3          |  68         | \n",
       "| newCN113091 | chr9        | 1           | 137691537   | 137691853   | 137689537   | 137693853   |  6          |  82         | \n",
       "| newCN113092 | chr9        | 1           | 137695202   | 137695559   | 137693202   | 137697559   |  5          |  78         | \n",
       "| newCN113093 | chr9        | 1           | 137716065   | 137716606   | 137714065   | 137718606   |  6          |  96         | \n",
       "| newCN113094 | chr9        | 1           | 137745503   | 137745967   | 137743503   | 137747967   |  6          |  90         | \n",
       "| newCN113095 | chr9        | 1           | 137748456   | 137749075   | 137746456   | 137751075   |  9          |  78         | \n",
       "| newCN113096 | chr9        | 1           | 137750626   | 137751014   | 137748626   | 137753014   |  8          |  67         | \n",
       "| newCN113097 | chr9        | 1           | 137759785   | 137760308   | 137757785   | 137762308   |  6          |  89         | \n",
       "| newCN113098 | chr9        | 1           | 137764164   | 137765472   | 137762164   | 137767472   | 24          |  91         | \n",
       "| newCN113099 | chr9        | 1           | 137785718   | 137786265   | 137783718   | 137788265   | 15          |  88         | \n",
       "| newCN113100 | chr9        | 1           | 137836809   | 137837174   | 137834809   | 137839174   | 13          | 100         | \n",
       "| newCN113101 | chr9        | 1           | 137844980   | 137846483   | 137842980   | 137848483   | 20          | 196         | \n",
       "| newCN113102 | chr9        | 1           | 137866604   | 137866916   | 137864604   | 137868916   |  4          |  82         | \n",
       "| newCN113103 | chr9        | 1           | 137877529   | 137879160   | 137875529   | 137881160   | 22          |  93         | \n",
       "\n",
       "\n"
      ],
      "text/plain": [
       "   gene_id     chromosome_name strand exon_starts exon_ends range_start\n",
       "1  newCN113054 chr9            1      137465050   137465259 137463050  \n",
       "2  newCN113055 chr9            1      137466653   137467037 137464653  \n",
       "3  newCN113056 chr9            1      137479201   137479538 137477201  \n",
       "4  newCN113057 chr9            1      137479640   137479886 137477640  \n",
       "5  newCN113058 chr9            1      137480334   137480904 137478334  \n",
       "6  newCN113059 chr9            1      137487776   137488069 137485776  \n",
       "7  newCN113060 chr9            1      137498462   137498795 137496462  \n",
       "8  newCN113061 chr9            1      137499371   137499618 137497371  \n",
       "9  newCN113062 chr9            1      137506665   137506901 137504665  \n",
       "10 newCN113063 chr9            1      137509963   137510397 137507963  \n",
       "11 newCN113064 chr9            1      137511140   137511565 137509140  \n",
       "12 newCN113065 chr9            1      137514004   137515011 137512004  \n",
       "13 newCN113066 chr9            1      137517046   137517254 137515046  \n",
       "14 newCN113067 chr9            1      137517471   137518304 137515471  \n",
       "15 newCN113068 chr9            1      137522180   137522492 137520180  \n",
       "16 newCN113069 chr9            1      137525314   137526076 137523314  \n",
       "17 newCN113070 chr9            1      137531446   137531649 137529446  \n",
       "18 newCN113071 chr9            1      137534822   137535226 137532822  \n",
       "19 newCN113072 chr9            1      137541362   137542032 137539362  \n",
       "20 newCN113073 chr9            1      137542611   137543250 137540611  \n",
       "21 newCN113074 chr9            1      137545710   137545934 137543710  \n",
       "22 newCN113075 chr9            1      137549793   137550694 137547793  \n",
       "23 newCN113076 chr9            1      137551251   137552336 137549251  \n",
       "24 newCN113077 chr9            1      137559123   137559877 137557123  \n",
       "25 newCN113078 chr9            1      137566901   137567189 137564901  \n",
       "26 newCN113079 chr9            1      137568143   137568374 137566143  \n",
       "27 newCN113080 chr9            1      137578435   137579334 137576435  \n",
       "28 newCN113081 chr9            1      137589836   137591283 137587836  \n",
       "29 newCN113082 chr9            1      137598714   137599052 137596714  \n",
       "30 newCN113083 chr9            1      137604988   137606259 137602988  \n",
       "31 newCN113084 chr9            1      137618310   137619960 137616310  \n",
       "32 newCN113085 chr9            1      137666545   137667247 137664545  \n",
       "33 newCN113086 chr9            1      137670470   137671186 137668470  \n",
       "34 newCN113087 chr9            1      137672869   137673341 137670869  \n",
       "35 newCN113088 chr9            1      137679248   137679664 137677248  \n",
       "36 newCN113089 chr9            1      137682471   137683023 137680471  \n",
       "37 newCN113090 chr9            1      137688744   137689151 137686744  \n",
       "38 newCN113091 chr9            1      137691537   137691853 137689537  \n",
       "39 newCN113092 chr9            1      137695202   137695559 137693202  \n",
       "40 newCN113093 chr9            1      137716065   137716606 137714065  \n",
       "41 newCN113094 chr9            1      137745503   137745967 137743503  \n",
       "42 newCN113095 chr9            1      137748456   137749075 137746456  \n",
       "43 newCN113096 chr9            1      137750626   137751014 137748626  \n",
       "44 newCN113097 chr9            1      137759785   137760308 137757785  \n",
       "45 newCN113098 chr9            1      137764164   137765472 137762164  \n",
       "46 newCN113099 chr9            1      137785718   137786265 137783718  \n",
       "47 newCN113100 chr9            1      137836809   137837174 137834809  \n",
       "48 newCN113101 chr9            1      137844980   137846483 137842980  \n",
       "49 newCN113102 chr9            1      137866604   137866916 137864604  \n",
       "50 newCN113103 chr9            1      137877529   137879160 137875529  \n",
       "   range_end feature_snp_count cis_snp_count\n",
       "1  137467259  2                 42          \n",
       "2  137469037 11                 71          \n",
       "3  137481538  4                 98          \n",
       "4  137481886 11                 97          \n",
       "5  137482904  8                 96          \n",
       "6  137490069  6                 93          \n",
       "7  137500795  8                110          \n",
       "8  137501618  7                111          \n",
       "9  137508901  7                 87          \n",
       "10 137512397 12                 89          \n",
       "11 137513565  9                 83          \n",
       "12 137517011 20                104          \n",
       "13 137519254  0                 96          \n",
       "14 137520304 10                109          \n",
       "15 137524492 40                150          \n",
       "16 137528076 12                 95          \n",
       "17 137533649  5                 62          \n",
       "18 137537226  6                 76          \n",
       "19 137544032 10                 76          \n",
       "20 137545250 16                 86          \n",
       "21 137547934 26                130          \n",
       "22 137552694 14                 83          \n",
       "23 137554336 15                 87          \n",
       "24 137561877 21                 99          \n",
       "25 137569189  0                 29          \n",
       "26 137570374  3                 33          \n",
       "27 137581334 12                 76          \n",
       "28 137593283 19                 77          \n",
       "29 137601052  5                 70          \n",
       "30 137608259 16                 69          \n",
       "31 137621960 18                 81          \n",
       "32 137669247  5                 70          \n",
       "33 137673186 15                100          \n",
       "34 137675341  5                 73          \n",
       "35 137681664  8                 95          \n",
       "36 137685023  9                 89          \n",
       "37 137691151  3                 68          \n",
       "38 137693853  6                 82          \n",
       "39 137697559  5                 78          \n",
       "40 137718606  6                 96          \n",
       "41 137747967  6                 90          \n",
       "42 137751075  9                 78          \n",
       "43 137753014  8                 67          \n",
       "44 137762308  6                 89          \n",
       "45 137767472 24                 91          \n",
       "46 137788265 15                 88          \n",
       "47 137839174 13                100          \n",
       "48 137848483 20                196          \n",
       "49 137868916  4                 82          \n",
       "50 137881160 22                 93          "
      ]
     },
     "metadata": {},
     "output_type": "display_data"
    }
   ],
   "source": [
    "head(a,n=50)"
   ]
  },
  {
   "cell_type": "code",
   "execution_count": 18,
   "metadata": {},
   "outputs": [
    {
     "data": {
      "text/html": [
       "<table>\n",
       "<thead><tr><th></th><th scope=col>CN_16</th><th scope=col>CN_08</th><th scope=col>CN_18</th><th scope=col>CN_19</th><th scope=col>CN_21</th><th scope=col>CN_10</th><th scope=col>CN_02</th><th scope=col>CN_20</th><th scope=col>CN_15</th><th scope=col>CN_14</th><th scope=col>CN_11</th><th scope=col>CN_12</th><th scope=col>CN_17</th><th scope=col>CN_06</th><th scope=col>CN_03</th><th scope=col>CN_09</th><th scope=col>CN_05</th><th scope=col>CN_04</th><th scope=col>CN_13</th><th scope=col>CN_07</th></tr></thead>\n",
       "<tbody>\n",
       "\t<tr><th scope=row>newCN503</th><td>18</td><td>23</td><td>36</td><td>8 </td><td>16</td><td>30</td><td>32</td><td>20</td><td>18</td><td>28</td><td>29</td><td>21</td><td>29</td><td>8 </td><td>36</td><td>22</td><td>15</td><td>11</td><td>21</td><td>34</td></tr>\n",
       "</tbody>\n",
       "</table>\n"
      ],
      "text/latex": [
       "\\begin{tabular}{r|llllllllllllllllllll}\n",
       "  & CN\\_16 & CN\\_08 & CN\\_18 & CN\\_19 & CN\\_21 & CN\\_10 & CN\\_02 & CN\\_20 & CN\\_15 & CN\\_14 & CN\\_11 & CN\\_12 & CN\\_17 & CN\\_06 & CN\\_03 & CN\\_09 & CN\\_05 & CN\\_04 & CN\\_13 & CN\\_07\\\\\n",
       "\\hline\n",
       "\tnewCN503 & 18 & 23 & 36 & 8  & 16 & 30 & 32 & 20 & 18 & 28 & 29 & 21 & 29 & 8  & 36 & 22 & 15 & 11 & 21 & 34\\\\\n",
       "\\end{tabular}\n"
      ],
      "text/markdown": [
       "\n",
       "| <!--/--> | CN_16 | CN_08 | CN_18 | CN_19 | CN_21 | CN_10 | CN_02 | CN_20 | CN_15 | CN_14 | CN_11 | CN_12 | CN_17 | CN_06 | CN_03 | CN_09 | CN_05 | CN_04 | CN_13 | CN_07 | \n",
       "|---|\n",
       "| newCN503 | 18 | 23 | 36 | 8  | 16 | 30 | 32 | 20 | 18 | 28 | 29 | 21 | 29 | 8  | 36 | 22 | 15 | 11 | 21 | 34 | \n",
       "\n",
       "\n"
      ],
      "text/plain": [
       "         CN_16 CN_08 CN_18 CN_19 CN_21 CN_10 CN_02 CN_20 CN_15 CN_14 CN_11\n",
       "newCN503 18    23    36    8     16    30    32    20    18    28    29   \n",
       "         CN_12 CN_17 CN_06 CN_03 CN_09 CN_05 CN_04 CN_13 CN_07\n",
       "newCN503 21    29    8     36    22    15    11    21    34   "
      ]
     },
     "metadata": {},
     "output_type": "display_data"
    }
   ],
   "source": [
    "counts_matrix[\"newCN503\",]"
   ]
  },
  {
   "cell_type": "code",
   "execution_count": null,
   "metadata": {},
   "outputs": [],
   "source": []
  }
 ],
 "metadata": {
  "kernelspec": {
   "display_name": "R [conda env:testother]",
   "language": "R",
   "name": "conda-env-testother-r"
  },
  "language_info": {
   "codemirror_mode": "r",
   "file_extension": ".r",
   "mimetype": "text/x-r-source",
   "name": "R",
   "pygments_lexer": "r",
   "version": "3.4.3"
  }
 },
 "nbformat": 4,
 "nbformat_minor": 2
}
