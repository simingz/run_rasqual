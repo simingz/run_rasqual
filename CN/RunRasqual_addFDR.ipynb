{
 "cells": [
  {
   "cell_type": "code",
   "execution_count": 49,
   "metadata": {},
   "outputs": [],
   "source": [
    "setwd(\"/home/simingz/run_rasqual/datarun/CN\")"
   ]
  },
  {
   "cell_type": "markdown",
   "metadata": {},
   "source": [
    "See header info [here](https://github.com/natsuhiko/rasqual/blob/master/README.md)"
   ]
  },
  {
   "cell_type": "code",
   "execution_count": 50,
   "metadata": {},
   "outputs": [],
   "source": [
    "addgFDR <- function(mrestable, prestable){\n",
    "    mrestable$geneFDR <- NA\n",
    "    peakIDs <- unique(mrestable$V1)\n",
    "    for (peakID in peakIDs) {\n",
    "        tt <- max(mrestable[mrestable$V1==peakID,11])\n",
    "        ttperm <- prestable[prestable$V1==peakID,3] # max test statistic for each permutation\n",
    "        gfdr <- length(ttperm[ttperm > tt])/length(ttperm)\n",
    "        mrestable[mrestable$V1==peakID,\"geneFDR\"]=gfdr\n",
    "    }\n",
    "    return(mrestable)\n",
    "}\n",
    "\n",
    "addgFDR_V2_getperm <- function(mrestable, prestable){\n",
    "    peakIDs <- unique(mrestable$V1)\n",
    "    out <- NULL\n",
    "    for (peakID in peakIDs) {\n",
    "        ntest <- mrestable[mrestable$V1==peakID,18][1]\n",
    "        tt <- max(mrestable[mrestable$V1==peakID,11])\n",
    "        preal <- pchisq(tt,df=1,lower.tail=F,log.p=F)\n",
    "        ttperm <- prestable[prestable$V1==peakID,3][1] # keep only 1 permutation\n",
    "        pperm <- pchisq(ttperm,df=1,lower.tail=F,log.p=F)\n",
    "        out <-rbind(out,c(log(preal*ntest),log(pperm*ntest))) # bonferroni corrected p value\n",
    "    }\n",
    "    return(out)\n",
    "}"
   ]
  },
  {
   "cell_type": "code",
   "execution_count": null,
   "metadata": {},
   "outputs": [],
   "source": [
    "mainfall= Sys.glob( paste0(\"mainrun_chr*_CN*.result.txt\"))\n",
    "#outmres <- NULL\n",
    "outlogp <- NULL\n",
    "for (mainf in mainfall){\n",
    "    permf = gsub(\"result.txt\",\"permres.txt\",gsub(\"main\",\"perm\",mainf)) \n",
    "    mres <- read.table(mainf,header=F,stringsAsFactors = F, sep=\"\\t\",fill=T)\n",
    "    pres <- read.table(permf,header=F,stringsAsFactors = F, sep=\"\\t\",fill=T)\n",
    "    mresfl <- mres[mres$V2 != \"SKIPPED\",]\n",
    "    if (dim(mresfl)[1]==0){next}\n",
    "    #outmres<- rbind(outmres, addgFDR(mresfl,pres)) # FDR method1\n",
    "    outlogp <- rbind(outlogp, addgFDR_V2_getperm(mresfl,pres))# FDR method2\n",
    "} "
   ]
  },
  {
   "cell_type": "code",
   "execution_count": null,
   "metadata": {},
   "outputs": [],
   "source": [
    "outmres$geneFDR2 <- NA\n",
    "peakIDs <- unique(outmres$V1)\n",
    "outreal <- outlogp[,1]\n",
    "outperm <- outlogp[,2]\n",
    "for (peakID in peakIDs){\n",
    "    tt <- max(outmres[outmres$V1==peakID,11])\n",
    "    p <- pchisq(tt,df=1,lower.tail=F,log.p=F)\n",
    "    ntest <- outmres[outmres$V1==peakID,18][1]\n",
    "    logpBon <- log(p*ntest)\n",
    "    gfdr <- length(outperm[outperm < logpBon])/length(outreal[outreal < logpBon])\n",
    "    outmres[outmres$V1==peakID,\"geneFDR2\"]=gfdr\n",
    "}"
   ]
  },
  {
   "cell_type": "code",
   "execution_count": null,
   "metadata": {},
   "outputs": [],
   "source": [
    "write.table( outmres , file= \"CN_resultsFDR.txt\" , row.names=F, col.names=T, sep=\"\\t\", quote = F)"
   ]
  },
  {
   "cell_type": "code",
   "execution_count": 60,
   "metadata": {},
   "outputs": [
    {
     "data": {
      "text/html": [
       "104"
      ],
      "text/latex": [
       "104"
      ],
      "text/markdown": [
       "104"
      ],
      "text/plain": [
       "[1] 104"
      ]
     },
     "metadata": {},
     "output_type": "display_data"
    }
   ],
   "source": [
    "length(unique(outmres[outmres$geneFDR2 < 0.1,]$V1))"
   ]
  },
  {
   "cell_type": "code",
   "execution_count": 68,
   "metadata": {},
   "outputs": [
    {
     "ename": "ERROR",
     "evalue": "Error in xy.coords(x, y, xlabel, ylabel, log): 'x' and 'y' lengths differ\n",
     "execution_count": 68,
     "output_type": "error",
     "traceback": [
      "Error in xy.coords(x, y, xlabel, ylabel, log): 'x' and 'y' lengths differ\nTraceback:\n",
      "1. plot(outreal, unique(outmres$geneFDR))",
      "2. plot.default(outreal, unique(outmres$geneFDR))",
      "3. xy.coords(x, y, xlabel, ylabel, log)",
      "4. stop(\"'x' and 'y' lengths differ\")"
     ]
    }
   ],
   "source": []
  },
  {
   "cell_type": "code",
   "execution_count": null,
   "metadata": {},
   "outputs": [],
   "source": [
    "length(unique(outmres$V1))"
   ]
  },
  {
   "cell_type": "code",
   "execution_count": null,
   "metadata": {},
   "outputs": [],
   "source": []
  },
  {
   "cell_type": "code",
   "execution_count": null,
   "metadata": {},
   "outputs": [],
   "source": []
  },
  {
   "cell_type": "code",
   "execution_count": 66,
   "metadata": {},
   "outputs": [
    {
     "data": {
      "text/html": [
       "<table>\n",
       "<thead><tr><th></th><th scope=col>V1</th><th scope=col>V2</th><th scope=col>V3</th><th scope=col>V4</th><th scope=col>V5</th><th scope=col>V6</th><th scope=col>V7</th><th scope=col>V8</th><th scope=col>V9</th><th scope=col>V10</th><th scope=col>⋯</th><th scope=col>V18</th><th scope=col>V19</th><th scope=col>V20</th><th scope=col>V21</th><th scope=col>V22</th><th scope=col>V23</th><th scope=col>V24</th><th scope=col>V25</th><th scope=col>geneFDR</th><th scope=col>geneFDR2</th></tr></thead>\n",
       "<tbody>\n",
       "\t<tr><th scope=row>160097</th><td>newCN100984</td><td>8:102307500</td><td>chr8       </td><td>101295272  </td><td>C          </td><td>T          </td><td>0.100      </td><td>0.246914   </td><td>0.805265   </td><td>-0.1338522 </td><td>⋯          </td><td>10         </td><td>6          </td><td>6          </td><td>101298248  </td><td>-168.8818  </td><td>0          </td><td>NaN        </td><td>0.660091   </td><td>0.004      </td><td>0.8663625  </td></tr>\n",
       "\t<tr><th scope=row>212838</th><td>newCN100984</td><td>8:102307591</td><td>chr8       </td><td>101295363  </td><td>T          </td><td>G          </td><td>0.100      </td><td>0.246914   </td><td>0.809241   </td><td>-0.1338522 </td><td>⋯          </td><td>10         </td><td>6          </td><td>6          </td><td>101298248  </td><td>-168.8818  </td><td>0          </td><td>NaN        </td><td>0.665447   </td><td>0.004      </td><td>0.8663625  </td></tr>\n",
       "\t<tr><th scope=row>312832</th><td>newCN100984</td><td>8:102307638</td><td>chr8       </td><td>101295410  </td><td>C          </td><td>T          </td><td>0.100      </td><td>0.246914   </td><td>0.808516   </td><td>-0.1338522 </td><td>⋯          </td><td>10         </td><td>6          </td><td>6          </td><td>101298248  </td><td>-168.8818  </td><td>0          </td><td>NaN        </td><td>0.664466   </td><td>0.004      </td><td>0.8663625  </td></tr>\n",
       "\t<tr><th scope=row>412822</th><td>newCN100984</td><td>8:102307870</td><td>chr8       </td><td>101295642  </td><td>C          </td><td>A          </td><td>0.475      </td><td>0.211180   </td><td>0.885436   </td><td>-2.0159319 </td><td>⋯          </td><td>10         </td><td>6          </td><td>6          </td><td>101298248  </td><td>-168.8818  </td><td>0          </td><td>NaN        </td><td>0.789191   </td><td>0.004      </td><td>0.8663625  </td></tr>\n",
       "\t<tr><th scope=row>512804</th><td>newCN100984</td><td>8:102308173</td><td>chr8       </td><td>101295945  </td><td>T          </td><td>C          </td><td>0.475      </td><td>0.211180   </td><td>0.884271   </td><td>-2.0159319 </td><td>⋯          </td><td>10         </td><td>6          </td><td>6          </td><td>101298248  </td><td>-168.8818  </td><td>0          </td><td>NaN        </td><td>0.787272   </td><td>0.004      </td><td>0.8663625  </td></tr>\n",
       "\t<tr><th scope=row>612807</th><td>newCN100984</td><td>8:102309013</td><td>chr8       </td><td>101296785  </td><td>T          </td><td>C          </td><td>0.475      </td><td>0.211180   </td><td>0.867622   </td><td>-2.0159319 </td><td>⋯          </td><td>10         </td><td>5          </td><td>6          </td><td>101298248  </td><td>-168.8818  </td><td>0          </td><td>NaN        </td><td>0.760296   </td><td>0.004      </td><td>0.8663625  </td></tr>\n",
       "\t<tr><th scope=row>712745</th><td>newCN100984</td><td>8:102310476</td><td>chr8       </td><td>101298248  </td><td>G          </td><td>A          </td><td>0.350      </td><td>0.292235   </td><td>0.839362   </td><td>-2.0159319 </td><td>⋯          </td><td>10         </td><td>7          </td><td>6          </td><td>101298248  </td><td>-168.8818  </td><td>0          </td><td>NaN        </td><td>0.761758   </td><td>0.004      </td><td>0.8663625  </td></tr>\n",
       "\t<tr><th scope=row>812092</th><td>newCN100984</td><td>8:102310694</td><td>chr8       </td><td>101298466  </td><td>C          </td><td>T          </td><td>0.100      </td><td>0.246914   </td><td>0.887388   </td><td>-0.1338522 </td><td>⋯          </td><td>10         </td><td>5          </td><td>6          </td><td>101298248  </td><td>-168.8818  </td><td>0          </td><td>NaN        </td><td>0.782455   </td><td>0.004      </td><td>0.8663625  </td></tr>\n",
       "\t<tr><th scope=row>910988</th><td>newCN100984</td><td>8:102310703</td><td>chr8       </td><td>101298475  </td><td>G          </td><td>A          </td><td>0.075      </td><td>0.131483   </td><td>0.758086   </td><td>-0.1338522 </td><td>⋯          </td><td>10         </td><td>6          </td><td>6          </td><td>101298248  </td><td>-168.8818  </td><td>0          </td><td>NaN        </td><td>0.614621   </td><td>0.004      </td><td>0.8663625  </td></tr>\n",
       "\t<tr><th scope=row>1010935</th><td>newCN100984</td><td>8:102310808</td><td>chr8       </td><td>101298580  </td><td>G          </td><td>A          </td><td>0.100      </td><td>0.246914   </td><td>0.885309   </td><td>-0.1338522 </td><td>⋯          </td><td>10         </td><td>5          </td><td>6          </td><td>101298248  </td><td>-168.8818  </td><td>0          </td><td>NaN        </td><td>0.779026   </td><td>0.004      </td><td>0.8663625  </td></tr>\n",
       "</tbody>\n",
       "</table>\n"
      ],
      "text/latex": [
       "\\begin{tabular}{r|lllllllllllllllllllllllllll}\n",
       "  & V1 & V2 & V3 & V4 & V5 & V6 & V7 & V8 & V9 & V10 & ⋯ & V18 & V19 & V20 & V21 & V22 & V23 & V24 & V25 & geneFDR & geneFDR2\\\\\n",
       "\\hline\n",
       "\t160097 & newCN100984 & 8:102307500 & chr8        & 101295272   & C           & T           & 0.100       & 0.246914    & 0.805265    & -0.1338522  & ⋯           & 10          & 6           & 6           & 101298248   & -168.8818   & 0           & NaN         & 0.660091    & 0.004       & 0.8663625  \\\\\n",
       "\t212838 & newCN100984 & 8:102307591 & chr8        & 101295363   & T           & G           & 0.100       & 0.246914    & 0.809241    & -0.1338522  & ⋯           & 10          & 6           & 6           & 101298248   & -168.8818   & 0           & NaN         & 0.665447    & 0.004       & 0.8663625  \\\\\n",
       "\t312832 & newCN100984 & 8:102307638 & chr8        & 101295410   & C           & T           & 0.100       & 0.246914    & 0.808516    & -0.1338522  & ⋯           & 10          & 6           & 6           & 101298248   & -168.8818   & 0           & NaN         & 0.664466    & 0.004       & 0.8663625  \\\\\n",
       "\t412822 & newCN100984 & 8:102307870 & chr8        & 101295642   & C           & A           & 0.475       & 0.211180    & 0.885436    & -2.0159319  & ⋯           & 10          & 6           & 6           & 101298248   & -168.8818   & 0           & NaN         & 0.789191    & 0.004       & 0.8663625  \\\\\n",
       "\t512804 & newCN100984 & 8:102308173 & chr8        & 101295945   & T           & C           & 0.475       & 0.211180    & 0.884271    & -2.0159319  & ⋯           & 10          & 6           & 6           & 101298248   & -168.8818   & 0           & NaN         & 0.787272    & 0.004       & 0.8663625  \\\\\n",
       "\t612807 & newCN100984 & 8:102309013 & chr8        & 101296785   & T           & C           & 0.475       & 0.211180    & 0.867622    & -2.0159319  & ⋯           & 10          & 5           & 6           & 101298248   & -168.8818   & 0           & NaN         & 0.760296    & 0.004       & 0.8663625  \\\\\n",
       "\t712745 & newCN100984 & 8:102310476 & chr8        & 101298248   & G           & A           & 0.350       & 0.292235    & 0.839362    & -2.0159319  & ⋯           & 10          & 7           & 6           & 101298248   & -168.8818   & 0           & NaN         & 0.761758    & 0.004       & 0.8663625  \\\\\n",
       "\t812092 & newCN100984 & 8:102310694 & chr8        & 101298466   & C           & T           & 0.100       & 0.246914    & 0.887388    & -0.1338522  & ⋯           & 10          & 5           & 6           & 101298248   & -168.8818   & 0           & NaN         & 0.782455    & 0.004       & 0.8663625  \\\\\n",
       "\t910988 & newCN100984 & 8:102310703 & chr8        & 101298475   & G           & A           & 0.075       & 0.131483    & 0.758086    & -0.1338522  & ⋯           & 10          & 6           & 6           & 101298248   & -168.8818   & 0           & NaN         & 0.614621    & 0.004       & 0.8663625  \\\\\n",
       "\t1010935 & newCN100984 & 8:102310808 & chr8        & 101298580   & G           & A           & 0.100       & 0.246914    & 0.885309    & -0.1338522  & ⋯           & 10          & 5           & 6           & 101298248   & -168.8818   & 0           & NaN         & 0.779026    & 0.004       & 0.8663625  \\\\\n",
       "\\end{tabular}\n"
      ],
      "text/markdown": [
       "\n",
       "| <!--/--> | V1 | V2 | V3 | V4 | V5 | V6 | V7 | V8 | V9 | V10 | ⋯ | V18 | V19 | V20 | V21 | V22 | V23 | V24 | V25 | geneFDR | geneFDR2 | \n",
       "|---|---|---|---|---|---|---|---|---|---|\n",
       "| 160097 | newCN100984 | 8:102307500 | chr8        | 101295272   | C           | T           | 0.100       | 0.246914    | 0.805265    | -0.1338522  | ⋯           | 10          | 6           | 6           | 101298248   | -168.8818   | 0           | NaN         | 0.660091    | 0.004       | 0.8663625   | \n",
       "| 212838 | newCN100984 | 8:102307591 | chr8        | 101295363   | T           | G           | 0.100       | 0.246914    | 0.809241    | -0.1338522  | ⋯           | 10          | 6           | 6           | 101298248   | -168.8818   | 0           | NaN         | 0.665447    | 0.004       | 0.8663625   | \n",
       "| 312832 | newCN100984 | 8:102307638 | chr8        | 101295410   | C           | T           | 0.100       | 0.246914    | 0.808516    | -0.1338522  | ⋯           | 10          | 6           | 6           | 101298248   | -168.8818   | 0           | NaN         | 0.664466    | 0.004       | 0.8663625   | \n",
       "| 412822 | newCN100984 | 8:102307870 | chr8        | 101295642   | C           | A           | 0.475       | 0.211180    | 0.885436    | -2.0159319  | ⋯           | 10          | 6           | 6           | 101298248   | -168.8818   | 0           | NaN         | 0.789191    | 0.004       | 0.8663625   | \n",
       "| 512804 | newCN100984 | 8:102308173 | chr8        | 101295945   | T           | C           | 0.475       | 0.211180    | 0.884271    | -2.0159319  | ⋯           | 10          | 6           | 6           | 101298248   | -168.8818   | 0           | NaN         | 0.787272    | 0.004       | 0.8663625   | \n",
       "| 612807 | newCN100984 | 8:102309013 | chr8        | 101296785   | T           | C           | 0.475       | 0.211180    | 0.867622    | -2.0159319  | ⋯           | 10          | 5           | 6           | 101298248   | -168.8818   | 0           | NaN         | 0.760296    | 0.004       | 0.8663625   | \n",
       "| 712745 | newCN100984 | 8:102310476 | chr8        | 101298248   | G           | A           | 0.350       | 0.292235    | 0.839362    | -2.0159319  | ⋯           | 10          | 7           | 6           | 101298248   | -168.8818   | 0           | NaN         | 0.761758    | 0.004       | 0.8663625   | \n",
       "| 812092 | newCN100984 | 8:102310694 | chr8        | 101298466   | C           | T           | 0.100       | 0.246914    | 0.887388    | -0.1338522  | ⋯           | 10          | 5           | 6           | 101298248   | -168.8818   | 0           | NaN         | 0.782455    | 0.004       | 0.8663625   | \n",
       "| 910988 | newCN100984 | 8:102310703 | chr8        | 101298475   | G           | A           | 0.075       | 0.131483    | 0.758086    | -0.1338522  | ⋯           | 10          | 6           | 6           | 101298248   | -168.8818   | 0           | NaN         | 0.614621    | 0.004       | 0.8663625   | \n",
       "| 1010935 | newCN100984 | 8:102310808 | chr8        | 101298580   | G           | A           | 0.100       | 0.246914    | 0.885309    | -0.1338522  | ⋯           | 10          | 5           | 6           | 101298248   | -168.8818   | 0           | NaN         | 0.779026    | 0.004       | 0.8663625   | \n",
       "\n",
       "\n"
      ],
      "text/plain": [
       "        V1          V2          V3   V4        V5 V6 V7    V8       V9      \n",
       "160097  newCN100984 8:102307500 chr8 101295272 C  T  0.100 0.246914 0.805265\n",
       "212838  newCN100984 8:102307591 chr8 101295363 T  G  0.100 0.246914 0.809241\n",
       "312832  newCN100984 8:102307638 chr8 101295410 C  T  0.100 0.246914 0.808516\n",
       "412822  newCN100984 8:102307870 chr8 101295642 C  A  0.475 0.211180 0.885436\n",
       "512804  newCN100984 8:102308173 chr8 101295945 T  C  0.475 0.211180 0.884271\n",
       "612807  newCN100984 8:102309013 chr8 101296785 T  C  0.475 0.211180 0.867622\n",
       "712745  newCN100984 8:102310476 chr8 101298248 G  A  0.350 0.292235 0.839362\n",
       "812092  newCN100984 8:102310694 chr8 101298466 C  T  0.100 0.246914 0.887388\n",
       "910988  newCN100984 8:102310703 chr8 101298475 G  A  0.075 0.131483 0.758086\n",
       "1010935 newCN100984 8:102310808 chr8 101298580 G  A  0.100 0.246914 0.885309\n",
       "        V10        ⋯ V18 V19 V20 V21       V22       V23 V24 V25      geneFDR\n",
       "160097  -0.1338522 ⋯ 10  6   6   101298248 -168.8818 0   NaN 0.660091 0.004  \n",
       "212838  -0.1338522 ⋯ 10  6   6   101298248 -168.8818 0   NaN 0.665447 0.004  \n",
       "312832  -0.1338522 ⋯ 10  6   6   101298248 -168.8818 0   NaN 0.664466 0.004  \n",
       "412822  -2.0159319 ⋯ 10  6   6   101298248 -168.8818 0   NaN 0.789191 0.004  \n",
       "512804  -2.0159319 ⋯ 10  6   6   101298248 -168.8818 0   NaN 0.787272 0.004  \n",
       "612807  -2.0159319 ⋯ 10  5   6   101298248 -168.8818 0   NaN 0.760296 0.004  \n",
       "712745  -2.0159319 ⋯ 10  7   6   101298248 -168.8818 0   NaN 0.761758 0.004  \n",
       "812092  -0.1338522 ⋯ 10  5   6   101298248 -168.8818 0   NaN 0.782455 0.004  \n",
       "910988  -0.1338522 ⋯ 10  6   6   101298248 -168.8818 0   NaN 0.614621 0.004  \n",
       "1010935 -0.1338522 ⋯ 10  5   6   101298248 -168.8818 0   NaN 0.779026 0.004  \n",
       "        geneFDR2 \n",
       "160097  0.8663625\n",
       "212838  0.8663625\n",
       "312832  0.8663625\n",
       "412822  0.8663625\n",
       "512804  0.8663625\n",
       "612807  0.8663625\n",
       "712745  0.8663625\n",
       "812092  0.8663625\n",
       "910988  0.8663625\n",
       "1010935 0.8663625"
      ]
     },
     "metadata": {},
     "output_type": "display_data"
    }
   ],
   "source": [
    "outmres[outmres$V1==\"newCN100984\",]"
   ]
  },
  {
   "cell_type": "code",
   "execution_count": 63,
   "metadata": {},
   "outputs": [],
   "source": [
    "p <- pchisq(8.77,df=1,lower.tail=F,log.p=F)"
   ]
  },
  {
   "cell_type": "code",
   "execution_count": 67,
   "metadata": {},
   "outputs": [
    {
     "data": {
      "text/html": [
       "-3.48601878198872"
      ],
      "text/latex": [
       "-3.48601878198872"
      ],
      "text/markdown": [
       "-3.48601878198872"
      ],
      "text/plain": [
       "[1] -3.486019"
      ]
     },
     "metadata": {},
     "output_type": "display_data"
    }
   ],
   "source": [
    "log(p*10)"
   ]
  },
  {
   "cell_type": "code",
   "execution_count": null,
   "metadata": {},
   "outputs": [],
   "source": []
  }
 ],
 "metadata": {
  "kernelspec": {
   "display_name": "R [conda env:testother]",
   "language": "R",
   "name": "conda-env-testother-r"
  },
  "language_info": {
   "codemirror_mode": "r",
   "file_extension": ".r",
   "mimetype": "text/x-r-source",
   "name": "R",
   "pygments_lexer": "r",
   "version": "3.4.3"
  }
 },
 "nbformat": 4,
 "nbformat_minor": 2
}
