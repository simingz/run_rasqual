{
 "cells": [
  {
   "cell_type": "code",
   "execution_count": 1,
   "metadata": {
    "collapsed": true
   },
   "outputs": [],
   "source": [
    "# Prepare master run to submit to RCC\n",
    "import glob\n",
    "datarundir = \"/home/simingz/run_rasqual/datarun/CN\"\n",
    "\n",
    "mainsh = glob.glob(datarundir + '/mainrun_*CN*.sh')\n",
    "mainsh.sort()\n",
    "with open(datarundir + '/master_mainrun.sh', 'w') as masterrun_main:\n",
    "    for shfile in mainsh:\n",
    "        masterrun_main.write(\"source activate testother; bash \" + shfile + '\\n')\n",
    "\n",
    "permsh = glob.glob(datarundir + '/permrun_*CN*.sh')\n",
    "permsh.sort()\n",
    "with open(datarundir + '/master_permrun.sh', 'w') as masterrun_perm:\n",
    "    for shfile in permsh:\n",
    "        masterrun_perm.write(\"source activate testother; bash \" + shfile + '\\n')"
   ]
  },
  {
   "cell_type": "code",
   "execution_count": 2,
   "metadata": {},
   "outputs": [
    {
     "name": "stdout",
     "output_type": "stream",
     "text": [
      "/project2/xinhe/simingz/run_rasqual/datarun/CN\n"
     ]
    }
   ],
   "source": [
    "cd /home/simingz/run_rasqual/datarun/CN"
   ]
  },
  {
   "cell_type": "code",
   "execution_count": 3,
   "metadata": {},
   "outputs": [
    {
     "name": "stdout",
     "output_type": "stream",
     "text": [
      "planning to run 855 jobs ...\r\n",
      "Type: sbatch submit_parallel_master_mainrun.sh.sh\r\n"
     ]
    }
   ],
   "source": [
    "!python /home/simingz/cancer_somatic/cancer_somatic/annotation/pMake_batchjobs_RCC.py master_mainrun.sh"
   ]
  },
  {
   "cell_type": "code",
   "execution_count": 4,
   "metadata": {},
   "outputs": [
    {
     "name": "stdout",
     "output_type": "stream",
     "text": [
      "planning to run 855 jobs ...\r\n",
      "Type: sbatch submit_parallel_master_permrun.sh.sh\r\n"
     ]
    }
   ],
   "source": [
    "!python /home/simingz/cancer_somatic/cancer_somatic/annotation/pMake_batchjobs_RCC.py master_permrun.sh"
   ]
  },
  {
   "cell_type": "markdown",
   "metadata": {},
   "source": [
    "Mannually change to `--mem=2G`, and `--account=pi-xinhe` before run `sbatch`, and array index (max 500 jobs)."
   ]
  }
 ],
 "metadata": {
  "kernelspec": {
   "display_name": "Python [conda env:testother]",
   "language": "python",
   "name": "conda-env-testother-py"
  },
  "language_info": {
   "codemirror_mode": {
    "name": "ipython",
    "version": 2
   },
   "file_extension": ".py",
   "mimetype": "text/x-python",
   "name": "python",
   "nbconvert_exporter": "python",
   "pygments_lexer": "ipython2",
   "version": "2.7.15"
  }
 },
 "nbformat": 4,
 "nbformat_minor": 2
}
