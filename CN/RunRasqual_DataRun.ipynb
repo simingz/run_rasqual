{
 "cells": [
  {
   "cell_type": "code",
   "execution_count": 9,
   "metadata": {
    "collapsed": true
   },
   "outputs": [],
   "source": [
    "# Prepare master run to submit to RCC\n",
    "import glob\n",
    "datarundir = \"/home/simingz/run_rasqual/datarun/CN2\"\n",
    "\n",
    "mainsh = glob.glob(datarundir + '/mainrun_*CN*.sh')\n",
    "mainsh.sort()\n",
    "with open(datarundir + '/master_mainrun.sh', 'w') as masterrun_main:\n",
    "    for shfile in mainsh:\n",
    "        masterrun_main.write(\"source activate testother; bash \" + shfile + '\\n')\n",
    "\n",
    "permsh = glob.glob(datarundir + '/permrun_*CN*.sh')\n",
    "permsh.sort()\n",
    "with open(datarundir + '/master_permrun.sh', 'w') as masterrun_perm:\n",
    "    for shfile in permsh:\n",
    "        masterrun_perm.write(\"source activate testother; bash \" + shfile + '\\n')"
   ]
  },
  {
   "cell_type": "code",
   "execution_count": 10,
   "metadata": {},
   "outputs": [
    {
     "name": "stdout",
     "output_type": "stream",
     "text": [
      "/project2/xinhe/simingz/run_rasqual/datarun/CN2\n"
     ]
    }
   ],
   "source": [
    "cd /home/simingz/run_rasqual/datarun/CN2"
   ]
  },
  {
   "cell_type": "code",
   "execution_count": 11,
   "metadata": {},
   "outputs": [
    {
     "name": "stdout",
     "output_type": "stream",
     "text": [
      "planning to run 246 jobs ...\n",
      "Type: sbatch submit_parallel_master_mainrun.sh.sh\n"
     ]
    }
   ],
   "source": [
    "!python /home/simingz/cancer_somatic/cancer_somatic/annotation/pMake_batchjobs_RCC.py master_mainrun.sh"
   ]
  },
  {
   "cell_type": "code",
   "execution_count": 12,
   "metadata": {},
   "outputs": [
    {
     "name": "stdout",
     "output_type": "stream",
     "text": [
      "planning to run 246 jobs ...\n",
      "Type: sbatch submit_parallel_master_permrun.sh.sh\n"
     ]
    }
   ],
   "source": [
    "!python /home/simingz/cancer_somatic/cancer_somatic/annotation/pMake_batchjobs_RCC.py master_permrun.sh"
   ]
  },
  {
   "cell_type": "markdown",
   "metadata": {},
   "source": [
    "Mannually change to `--mem=2G`, and `--account=pi-xinhe` before run `sbatch`, and array index (max 500 jobs)."
   ]
  },
  {
   "cell_type": "markdown",
   "metadata": {},
   "source": [
    "need to run a second bactch, if the above script didn't finish within wall time."
   ]
  },
  {
   "cell_type": "code",
   "execution_count": 5,
   "metadata": {},
   "outputs": [
    {
     "name": "stdout",
     "output_type": "stream",
     "text": [
      "/project2/xinhe/simingz/run_rasqual/datarun/CN\n"
     ]
    }
   ],
   "source": [
    "cd /home/simingz/run_rasqual/datarun/CN"
   ]
  },
  {
   "cell_type": "code",
   "execution_count": 6,
   "metadata": {},
   "outputs": [],
   "source": [
    "! for file in *permres*; do cout=$(cut -f 1 ${file} | uniq -c| wc -l);echo ${file} ${cout}; done > permfile_count.txt"
   ]
  },
  {
   "cell_type": "code",
   "execution_count": 7,
   "metadata": {},
   "outputs": [
    {
     "name": "stdout",
     "output_type": "stream",
     "text": [
      "6\t8 permrun_chr14_CN26.sh\n",
      "1000 newCN153935\n",
      "219\t221 permrun_chr4_CN19.sh\n",
      "1000 newCN52265\n",
      "219\t221 permrun_chr4_CN20.sh\n",
      "1000 newCN52486\n",
      "219\t221 permrun_chr8_CN37.sh\n",
      "1000 newCN102743\n"
     ]
    }
   ],
   "source": [
    "import subprocess\n",
    "with open('permfile_count.txt') as cfile:\n",
    "    for line in cfile.readlines():\n",
    "        fn = line.strip().split(' ')[0]\n",
    "        if line.strip().split(' ')[1] != '220':\n",
    "            t = subprocess.check_output('wc -l '+ fn.split('.')[0]+'.sh', shell=True)\n",
    "            if line.strip().split(' ')[1] != str(int(t.split(' ')[0])-1):\n",
    "                print(line.strip().split(' ')[1] +'\\t' + t.strip())\n",
    "                totalg=int(t.split(' ')[0]) -1 \n",
    "                lastgcount = subprocess.check_output('cut -f 1 '+ fn +'| uniq -c| tail -n 1', shell=True)\n",
    "                print(lastgcount.strip())\n",
    "                if lastgcount.strip().split(' ')[0] !='1000':\n",
    "                    subprocess.call('echo \"tail -n ' + str(totalg- int(line.strip().split(' ')[1])+1) + ' ' + fn.split('.')[0] +'.sh| bash\" >> secondbatch_master.sh', shell=True)"
   ]
  },
  {
   "cell_type": "code",
   "execution_count": 8,
   "metadata": {},
   "outputs": [
    {
     "data": {
      "text/plain": [
       "tail -n 34 permrun_chr11_CN12.sh| bash\n",
       "tail -n 39 permrun_chr11_CN41.sh| bash\n",
       "tail -n 19 permrun_chr11_CN6.sh| bash\n",
       "tail -n 46 permrun_chr13_CN30.sh| bash\n",
       "tail -n 128 permrun_chr13_CN6.sh| bash\n",
       "tail -n 161 permrun_chr13_CN7.sh| bash\n",
       "tail -n 51 permrun_chr14_CN17.sh| bash\n",
       "tail -n 65 permrun_chr16_CN21.sh| bash\n",
       "tail -n 5 permrun_chr16_CN3.sh| bash\n",
       "tail -n 75 permrun_chr17_CN4.sh| bash\n",
       "tail -n 113 permrun_chr19_CN19.sh| bash\n",
       "tail -n 24 permrun_chr19_CN20.sh| bash\n",
       "tail -n 2 permrun_chr19_CN9.sh| bash\n",
       "tail -n 3 permrun_chr1_CN31.sh| bash\n",
       "tail -n 30 permrun_chr20_CN17.sh| bash\n",
       "tail -n 49 permrun_chr21_CN10.sh| bash\n",
       "tail -n 2 permrun_chr2_CN15.sh| bash\n",
       "tail -n 36 permrun_chr2_CN22.sh| bash\n",
       "tail -n 57 permrun_chr2_CN24.sh| bash\n",
       "tail -n 14 permrun_chr2_CN73.sh| bash\n",
       "tail -n 28 permrun_chr3_CN1.sh| bash\n",
       "tail -n 56 permrun_chr5_CN34.sh| bash\n",
       "tail -n 6 permrun_chr6_CN26.sh| bash\n",
       "tail -n 13 permrun_chr6_CN2.sh| bash\n",
       "tail -n 5 permrun_chr6_CN3.sh| bash\n",
       "tail -n 16 permrun_chr6_CN45.sh| bash\n",
       "tail -n 34 permrun_chr6_CN48.sh| bash\n",
       "tail -n 59 permrun_chr6_CN7.sh| bash\n",
       "tail -n 40 permrun_chr6_CN8.sh| bash\n",
       "tail -n 103 permrun_chr6_CN9.sh| bash\n",
       "tail -n 59 permrun_chr7_CN12.sh| bash\n",
       "tail -n 181 permrun_chr7_CN31.sh| bash\n",
       "tail -n 59 permrun_chr7_CN32.sh| bash\n",
       "tail -n 50 permrun_chr7_CN8.sh| bash\n",
       "tail -n 33 permrun_chr7_CN9.sh| bash\n",
       "tail -n 100 permrun_chr8_CN2.sh| bash\n",
       "tail -n 94 permrun_chr8_CN30.sh| bash\n",
       "tail -n 6 permrun_chr8_CN36.sh| bash\n",
       "tail -n 179 permrun_chr8_CN3.sh| bash\n",
       "tail -n 132 permrun_chr8_CN4.sh| bash\n",
       "tail -n 44 permrun_chr8_CN7.sh| bash\n",
       "tail -n 75 permrun_chr8_CN8.sh| bash\n",
       "tail -n 29 permrun_chr9_CN10.sh| bash\n",
       "tail -n 21 permrun_chr9_CN1.sh| bash\n",
       "tail -n 15 permrun_chr9_CN20.sh| bash\n",
       "tail -n 10 permrun_chr9_CN21.sh| bash\n",
       "tail -n 4 permrun_chr9_CN23.sh| bash\n",
       "tail -n 85 permrun_chr9_CN25.sh| bash\n",
       "tail -n 49 permrun_chr9_CN27.sh| bash\n",
       "tail -n 77 permrun_chr9_CN28.sh| bash\n",
       "tail -n 106 permrun_chr9_CN29.sh| bash\n",
       "tail -n 38 permrun_chr9_CN34.sh| bash\n",
       "tail -n 8 permrun_chr9_CN36.sh| bash\n",
       "tail -n 5 permrun_chr9_CN37.sh| bash\n",
       "tail -n 22 permrun_chr9_CN38.sh| bash\n",
       "tail -n 19 permrun_chr9_CN39.sh| bash\n",
       "tail -n 127 permrun_chr9_CN3.sh| bash\n",
       "tail -n 12 permrun_chr9_CN5.sh| bash\n",
       "tail -n 29 permrun_chr9_CN8.sh| bash\n",
       "tail -n 3 permrun_chr9_CN9.sh| bash\n"
      ]
     },
     "metadata": {},
     "output_type": "display_data"
    }
   ],
   "source": [
    "more secondbatch_master.sh"
   ]
  },
  {
   "cell_type": "code",
   "execution_count": null,
   "metadata": {},
   "outputs": [],
   "source": []
  }
 ],
 "metadata": {
  "kernelspec": {
   "display_name": "Python [conda env:testother]",
   "language": "python",
   "name": "conda-env-testother-py"
  },
  "language_info": {
   "codemirror_mode": {
    "name": "ipython",
    "version": 2
   },
   "file_extension": ".py",
   "mimetype": "text/x-python",
   "name": "python",
   "nbconvert_exporter": "python",
   "pygments_lexer": "ipython2",
   "version": "2.7.15"
  }
 },
 "nbformat": 4,
 "nbformat_minor": 2
}
