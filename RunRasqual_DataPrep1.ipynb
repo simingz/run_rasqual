{
 "cells": [
  {
   "cell_type": "code",
   "execution_count": null,
   "metadata": {
    "collapsed": true
   },
   "outputs": [],
   "source": [
    "ls"
   ]
  },
  {
   "cell_type": "code",
   "execution_count": null,
   "metadata": {
    "collapsed": true
   },
   "outputs": [],
   "source": [
    "cd run_rasqual/"
   ]
  },
  {
   "cell_type": "markdown",
   "metadata": {},
   "source": [
    "# IMPUTATION and PHASING (method 1: IMPUTE2)\n",
    "Not finished. We choose another method (see method 2 below) to do imputation.\n",
    "For next step scripts and other useful scripts, see [here](https://github.com/JoniColeman/gwas_scripts/blob/master/README.md)."
   ]
  },
  {
   "cell_type": "code",
   "execution_count": null,
   "metadata": {
    "collapsed": true
   },
   "outputs": [],
   "source": [
    "! wget https://mathgen.stats.ox.ac.uk/impute/impute_v2.3.2_x86_64_dynamic.tgz"
   ]
  },
  {
   "cell_type": "code",
   "execution_count": null,
   "metadata": {
    "collapsed": true
   },
   "outputs": [],
   "source": [
    "! tar -zxvf impute_v2.3.2_x86_64_dynamic.tgz"
   ]
  },
  {
   "cell_type": "code",
   "execution_count": null,
   "metadata": {
    "collapsed": true
   },
   "outputs": [],
   "source": [
    "! cd impute_v2.3.2_x86_64_dynamic/; mkdir reference;cd reference"
   ]
  },
  {
   "cell_type": "code",
   "execution_count": null,
   "metadata": {
    "collapsed": true
   },
   "outputs": [],
   "source": [
    "! wget https://mathgen.stats.ox.ac.uk/impute/1000GP_Phase3.tgz"
   ]
  },
  {
   "cell_type": "code",
   "execution_count": null,
   "metadata": {
    "collapsed": true,
    "scrolled": true
   },
   "outputs": [],
   "source": [
    "! tar zxvf 1000GP_Phase3.tgz"
   ]
  },
  {
   "cell_type": "markdown",
   "metadata": {
    "collapsed": true
   },
   "source": [
    "## Prepare data to run IMPUTE2"
   ]
  },
  {
   "cell_type": "markdown",
   "metadata": {},
   "source": [
    "data obtained from Siwei Zhang via slack:"
   ]
  },
  {
   "cell_type": "code",
   "execution_count": null,
   "metadata": {
    "collapsed": true
   },
   "outputs": [],
   "source": [
    "ls ./data/"
   ]
  },
  {
   "cell_type": "markdown",
   "metadata": {},
   "source": [
    "convert plink data format to vcf format"
   ]
  },
  {
   "cell_type": "code",
   "execution_count": null,
   "metadata": {
    "collapsed": true
   },
   "outputs": [],
   "source": [
    "! cd data/;module load plink; plink --bfile plink --recode vcf --out genotype_plink"
   ]
  },
  {
   "cell_type": "markdown",
   "metadata": {},
   "source": [
    "convert vcf format to gens for IMPUTE2"
   ]
  },
  {
   "cell_type": "code",
   "execution_count": null,
   "metadata": {
    "collapsed": true
   },
   "outputs": [],
   "source": [
    "! cd ..; wget https://mathgen.stats.ox.ac.uk/impute/scripts/vcf2impute_gen"
   ]
  },
  {
   "cell_type": "code",
   "execution_count": null,
   "metadata": {
    "collapsed": true
   },
   "outputs": [],
   "source": [
    "! ./vcf2impute_gen -vcf data/genotype_plink.vcf -gen data/genotype_plink.gens"
   ]
  },
  {
   "cell_type": "markdown",
   "metadata": {},
   "source": [
    "## run IMPUTE2"
   ]
  },
  {
   "cell_type": "markdown",
   "metadata": {},
   "source": [
    "# IMPUTATION and PHASING (method 2)\n",
    "We use [Michigan imputation server](https://imputationserver.sph.umich.edu/index.html#!pages/home).\n",
    "They require vcf format as input. need to split by chromosome. It seems the plink files sent by Siwei were hg18. So we need to first convert hg18 to b37 vcf files, then split by chromosome, sort and gzip following their instructions [here](https://imputationserver.sph.umich.edu/index.html#!pages/help).\n",
    "\n",
    "To liftover VCF files, use [ensemble API](https://useast.ensembl.org/Homo_sapiens/Tools/AssemblyConverter?db=core). To use this online tool, file can't exceed 50 MB, so need to split by chr first, merge into two subfiles, and liftover each subfile). See more options for liftover vcf files [here](https://www.biostars.org/p/138042/)."
   ]
  },
  {
   "cell_type": "code",
   "execution_count": null,
   "metadata": {
    "collapsed": true
   },
   "outputs": [],
   "source": [
    "! cd /home/simingz/run_rasqual/data;mkdir vcf_split_by_chr/\n",
    "! module load vcftools; seq 1 22 | xargs -n1 -P4 -I {} vcftools --vcf genotype_plink.vcf --chr {} --recode --recode-INFO-all --out vcf_split_by_chr/genotype_plink.chr{}"
   ]
  },
  {
   "cell_type": "code",
   "execution_count": null,
   "metadata": {
    "collapsed": true
   },
   "outputs": [],
   "source": [
    "! cd vcf_split_by_chr/; for i in `seq 1 22`; do vcf-sort genotype_plink.chr${i}.recode.vcf | bgzip -c > genotype_plink.chr${i}.recode.vcf.gz; done"
   ]
  },
  {
   "cell_type": "code",
   "execution_count": null,
   "metadata": {
    "collapsed": true
   },
   "outputs": [],
   "source": [
    "vcf-concat ge*chr?.*.vcf.gz > chr_batch1.vcf\n",
    "vcf-concat ge*chr??.*.vcf.gz > chr_batch2.vcf"
   ]
  },
  {
   "cell_type": "code",
   "execution_count": null,
   "metadata": {
    "collapsed": true
   },
   "outputs": [],
   "source": [
    "cd data/vcf_split_by_chr/"
   ]
  },
  {
   "cell_type": "markdown",
   "metadata": {},
   "source": [
    "upload liftover vcf files from local computer. "
   ]
  },
  {
   "cell_type": "code",
   "execution_count": null,
   "metadata": {
    "collapsed": true
   },
   "outputs": [],
   "source": [
    "! mkdir b37_bychr; seq 1 9 | xargs -n1 -P4 -I {} vcftools --vcf chr_batch1.b37.vcf --chr {} --recode --recode-INFO-all --out b37_bychr/genotype_plink.chr{}.b37 \n",
    "! seq 10 22 | xargs -n1 -P4 -I {} vcftools --vcf chr_batch2.b37.vcf --chr {} --recode --recode-INFO-all --out b37_bychr/genotype_plink.chr{}.b37"
   ]
  },
  {
   "cell_type": "code",
   "execution_count": null,
   "metadata": {
    "collapsed": true
   },
   "outputs": [],
   "source": [
    "! cd b37_chr/; for i in `seq 1 22`; do vcf-sort genotype_plink.chr${i}.b37.recode.vcf | bgzip -c > genotype_plink.chr${i}.recode.b37.vcf.gz; done"
   ]
  },
  {
   "cell_type": "markdown",
   "metadata": {},
   "source": [
    "upload vcf.gz files to [Michigan imputation server](https://imputationserver.sph.umich.edu/index.html#!pages/home). Finish running. the password to extract file is: DK*9uja5OiJv0U"
   ]
  },
  {
   "cell_type": "code",
   "execution_count": null,
   "metadata": {
    "collapsed": true
   },
   "outputs": [],
   "source": [
    "cd /home/simingz/run_rasqual/phased_data"
   ]
  },
  {
   "cell_type": "markdown",
   "metadata": {},
   "source": [
    "# PREPARE RASQUAL INPUT"
   ]
  },
  {
   "cell_type": "markdown",
   "metadata": {},
   "source": [
    "This [paper](https://www.nature.com/articles/s41588-017-0005-8) used rasqual to find caQTL using atac seq data. They processed their ATAC seq data (N=24) as follows:\n",
    "> **Peak calling**\n",
    "We used MACS2 v2.1.1 (Zhang et al. 2008) to call ATAC-seq peaks for individual samples\n",
    "with parameters ‘--nomodel --shift -25 --extsize 50 -q 0.01’. We defined a consensus set of\n",
    "peaks as regions in which peaks overlapped in at least 3 samples. At regions of overlap, the\n",
    "consensus peak was defined as the union of overlapping peaks. This resulted in 381,323\n",
    "peaks, with 98% of peaks ranging from 82 - 1191 base pairs.\n",
    "\n",
    "> (gene QTLs)\n",
    "We ran RASQUAL18 with the option --no-posterior-update for each of 35,033 genes, testing SNPs and indels (MAF > 0.05; INFO > 0.8) within 500 kb of the gene transcription start site. For each gene we applied Bonferroni correction to the P values according to the number of independent tests estimated by EigenMT44. We ran RASQUAL with the option --random-permutation to call QTLs with permuted sample labels, and noted the minimum EigenMT-corrected P value per gene. To determine the FDR for eQTL discovery at a given gene, we computed (#permuted data min p values < p)/(#real data min p values < p), where p is the minimum P value among SNPs for the gene in question. For QTL calling with FastQTL, we used CQN-transformed gene expression (cqn v5.0.2)44 with a cis-window of 500 kb, including 20 PCs as covariates. We determined tissue-specific IPSDSN genes (not in GTEx) by using a protocol described for the HIPSCI project8.\n",
    "\n",
    "> **ATAC QTLs calling**\n",
    "As we did for gene expression, we used featureCounts v1.5.0 to count fragments\n",
    "overlapping consensus ATAC-seq peaks and ASEReadCounter to count allele-specific\n",
    "reads at SNPs (and not indels) within peaks. We ran RASQUAL separately for each of\n",
    "381,323 peaks, passing in VCF lines for SNPs and indels (MAF > 0.05, INFO > 0.8) within 1\n",
    "kb of the center of the peak. Since >99.9% of peaks were less than 2 kb in size, this meant\n",
    "that we tested effectively all SNPs within peaks. As we did when calling eQTLs, we ran\n",
    "RASQUAL with the --random-permutation option for every gene, and determined FDR as\n",
    "described above. Note that in this case we used Bonferroni correction based on the number\n",
    "of SNPs tested, without using EigenMT, due to the small size of the windows tested. With\n",
    "this procedure we obtained 6,318 ATAC peaks with a cis-QTL at FDR 10%."
   ]
  },
  {
   "cell_type": "markdown",
   "metadata": {},
   "source": [
    "** Options to explore:** \n",
    "   - Peak region definition, curretly used Yifan's way, combine samples and then call peaks.\n",
    "   - covariates for samples, currently none (do we need to correct batch effects etc?)\n",
    "   - GC bias correction, currently none.\n",
    "   - Rasqual run option, currently follow the above paper. Used output from column 11 (chi-squared) as the test statistic. run with -r option 1000 times for each peak. "
   ]
  },
  {
   "cell_type": "markdown",
   "metadata": {},
   "source": [
    "## A VCF file with *phased* SNP genotypes and allele-specific counts."
   ]
  },
  {
   "cell_type": "markdown",
   "metadata": {},
   "source": [
    "**Liftover vcf files to ch38.**\n",
    "ATAC-seq bam files are paired-end (`samtools view -f 1 xx.bam` ) and aligned to ch38 ( `samtools view -H 1 xx.bam`). The reference file were downloaded from [here](ftp://ftp-trace.ncbi.nih.gov/1000genomes/ftp/technical/reference/GRCh38_reference_genome/) and saved in `ref/GRCh38_bamref/`. The imputed and phased vcf files are too large to be converted using online tools. Therefore, use [crossmap](http://crossmap.sourceforge.net/)."
   ]
  },
  {
   "cell_type": "code",
   "execution_count": 10,
   "metadata": {},
   "outputs": [
    {
     "name": "stdout",
     "output_type": "stream",
     "text": [
      "/project2/xinhe/simingz/run_rasqual/phased_data\n"
     ]
    }
   ],
   "source": [
    "cd /home/simingz/run_rasqual/phased_data"
   ]
  },
  {
   "cell_type": "code",
   "execution_count": null,
   "metadata": {
    "collapsed": true
   },
   "outputs": [],
   "source": [
    "! source activate testother # install crossmap by conda"
   ]
  },
  {
   "cell_type": "markdown",
   "metadata": {},
   "source": [
    "Download chain file from crossmap, then download GRCh38 fasta file and run crossmap. Note, though Siwei provided GRCh38 file, it still has \"chr\" in chromosome name. Since we only need to liftover variants in autosomes 1 to 22, we can just use hg19 to hg38 chain."
   ]
  },
  {
   "cell_type": "markdown",
   "metadata": {},
   "source": [
    "run crossmap"
   ]
  },
  {
   "cell_type": "code",
   "execution_count": null,
   "metadata": {
    "collapsed": true
   },
   "outputs": [],
   "source": [
    "! for i in {1..22}; do CrossMap.py vcf ../liftover_chains/hg19ToHg38.over.chain.gz chr${i}.dose.vcf.gz ../ref/GRCh38_bamref/GRCh38_full_analysis_set_plus_decoy_hla.fa chr${i}.dose.hg38.vcf;done"
   ]
  },
  {
   "cell_type": "code",
   "execution_count": 41,
   "metadata": {
    "collapsed": true
   },
   "outputs": [],
   "source": [
    "with open('chr_name_conv.txt','w') as out:\n",
    "    for i in range(1,23):\n",
    "        out.write(str(i)+'\\tchr'+str(i) + '\\n')"
   ]
  },
  {
   "cell_type": "code",
   "execution_count": null,
   "metadata": {
    "collapsed": true
   },
   "outputs": [],
   "source": [
    "! for i in `seq 1 22`; do awk '{ if($0 !~ /^#/) print \"chr\"$0; else if(match($0,/(##contig=<ID=)(.*)/,m)) print m[1]\"chr\"m[2]; else print $0 }' chr${i}.dose.hg38.vcf > chr${i}.dose.hg38withchr.vcf ;done"
   ]
  },
  {
   "cell_type": "code",
   "execution_count": null,
   "metadata": {
    "collapsed": true
   },
   "outputs": [],
   "source": [
    "! for i in `seq 1 22`; do vcf-sort chr${i}.dose.hg38withchr.vcf | bgzip > chr${i}.dose.hg38withchr.vcf.gz; tabix -p vcf chr${i}.dose.hg38withchr.vcf.gz; done"
   ]
  },
  {
   "cell_type": "markdown",
   "metadata": {
    "collapsed": true
   },
   "source": [
    "** Add AS info. Use the script provided by Rasqual.**\n",
    "need around 1.5 hour for each chromosome."
   ]
  },
  {
   "cell_type": "code",
   "execution_count": 7,
   "metadata": {},
   "outputs": [
    {
     "name": "stdout",
     "output_type": "stream",
     "text": [
      "/project2/xinhe/simingz/run_rasqual/rasqual/src/ASVCF\n"
     ]
    }
   ],
   "source": [
    "cd /project2/xinhe/simingz/run_rasqual/rasqual/src/ASVCF/"
   ]
  },
  {
   "cell_type": "code",
   "execution_count": 9,
   "metadata": {},
   "outputs": [
    {
     "name": "stdout",
     "output_type": "stream",
     "text": [
      "gcc -o qcFilterBam qcFilterBam.o   -lm -lz\n",
      "gcc -o pasteFiles pasteFiles.o   -lm -lz\n",
      "gcc -o zpaste zpaste.o   -lm -lz\n",
      "gcc -o countAS countAS.o   -lm -lz\n"
     ]
    }
   ],
   "source": [
    "!export RASQUALDIR=/project2/xinhe/simingz/run_rasqual/rasqual/; make"
   ]
  },
  {
   "cell_type": "code",
   "execution_count": 32,
   "metadata": {
    "collapsed": true
   },
   "outputs": [],
   "source": [
    "iddict={}\n",
    "with open(\"/home/simingz/run_rasqual/data/idmap.txt\") as f:\n",
    "    for line in f.readlines():\n",
    "        iddict.update({line.strip().split('\\t')[0]: line.strip().split('\\t')[1]})"
   ]
  },
  {
   "cell_type": "code",
   "execution_count": 37,
   "metadata": {
    "collapsed": true
   },
   "outputs": [],
   "source": [
    "with open(\"/home/simingz/run_rasqual/phased_data/vcfsample_order.txt\") as f:\n",
    "    with open(\"/home/simingz/run_rasqual/datarun/bamlist.txt\",'w') as out:\n",
    "        for line in f.readlines():\n",
    "            out.write(\"/project2/xinhe/ATAC-seq_10252018/CN/bamfiles/CN_\"+ iddict[line.strip()] +\"_WASPed.bam\\n\")"
   ]
  },
  {
   "cell_type": "code",
   "execution_count": 38,
   "metadata": {},
   "outputs": [
    {
     "name": "stdout",
     "output_type": "stream",
     "text": [
      "/project2/xinhe/ATAC-seq_10252018/CN/bamfiles/CN_16_WASPed.bam\r\n",
      "/project2/xinhe/ATAC-seq_10252018/CN/bamfiles/CN_08_WASPed.bam\r\n",
      "/project2/xinhe/ATAC-seq_10252018/CN/bamfiles/CN_18_WASPed.bam\r\n",
      "/project2/xinhe/ATAC-seq_10252018/CN/bamfiles/CN_19_WASPed.bam\r\n",
      "/project2/xinhe/ATAC-seq_10252018/CN/bamfiles/CN_21_WASPed.bam\r\n",
      "/project2/xinhe/ATAC-seq_10252018/CN/bamfiles/CN_10_WASPed.bam\r\n",
      "/project2/xinhe/ATAC-seq_10252018/CN/bamfiles/CN_02_WASPed.bam\r\n",
      "/project2/xinhe/ATAC-seq_10252018/CN/bamfiles/CN_20_WASPed.bam\r\n",
      "/project2/xinhe/ATAC-seq_10252018/CN/bamfiles/CN_15_WASPed.bam\r\n",
      "/project2/xinhe/ATAC-seq_10252018/CN/bamfiles/CN_14_WASPed.bam\r\n",
      "/project2/xinhe/ATAC-seq_10252018/CN/bamfiles/CN_11_WASPed.bam\r\n",
      "/project2/xinhe/ATAC-seq_10252018/CN/bamfiles/CN_12_WASPed.bam\r\n",
      "/project2/xinhe/ATAC-seq_10252018/CN/bamfiles/CN_17_WASPed.bam\r\n",
      "/project2/xinhe/ATAC-seq_10252018/CN/bamfiles/CN_06_WASPed.bam\r\n",
      "/project2/xinhe/ATAC-seq_10252018/CN/bamfiles/CN_03_WASPed.bam\r\n",
      "/project2/xinhe/ATAC-seq_10252018/CN/bamfiles/CN_09_WASPed.bam\r\n",
      "/project2/xinhe/ATAC-seq_10252018/CN/bamfiles/CN_05_WASPed.bam\r\n",
      "/project2/xinhe/ATAC-seq_10252018/CN/bamfiles/CN_04_WASPed.bam\r\n",
      "/project2/xinhe/ATAC-seq_10252018/CN/bamfiles/CN_13_WASPed.bam\r\n",
      "/project2/xinhe/ATAC-seq_10252018/CN/bamfiles/CN_07_WASPed.bam\r\n"
     ]
    }
   ],
   "source": [
    "! cat /home/simingz/run_rasqual/datarun/bamlist.txt"
   ]
  },
  {
   "cell_type": "code",
   "execution_count": null,
   "metadata": {
    "collapsed": true
   },
   "outputs": [],
   "source": [
    "! for i in `seq 1 22`; do /project2/xinhe/simingz/run_rasqual/rasqual/src/ASVCF/createASVCF.sh paired_end ~/run_rasqual/datarun/bamli\n",
    "st.txt chr${i}.dose.hg38withchr.vcf.gz chr${i}.hg38withchr.AS.vcf.gz atac; done"
   ]
  },
  {
   "cell_type": "code",
   "execution_count": null,
   "metadata": {
    "collapsed": true
   },
   "outputs": [],
   "source": [
    "! for i in `seq 1 22`; do tabix -p vcf chr${i}.hg38withchr.AS.vcf.gz; done"
   ]
  },
  {
   "cell_type": "markdown",
   "metadata": {},
   "source": [
    "**generate SNP coordinate file**. This file is needed to generate the count files (see RunRasqual_DataPrep2.ipynb)"
   ]
  },
  {
   "cell_type": "code",
   "execution_count": null,
   "metadata": {
    "collapsed": true
   },
   "outputs": [],
   "source": [
    "bcftools query -f'[%CHROM,%POS,%ID\\n]' chr1.hg38withchr.AS.vcf.gz > chr1.hg38withchr.AS.vcf.gz.snp\n",
    "list"
   ]
  }
 ],
 "metadata": {
  "kernelspec": {
   "display_name": "Python [default]",
   "language": "python",
   "name": "python3"
  },
  "language_info": {
   "codemirror_mode": {
    "name": "ipython",
    "version": 3
   },
   "file_extension": ".py",
   "mimetype": "text/x-python",
   "name": "python",
   "nbconvert_exporter": "python",
   "pygments_lexer": "ipython3",
   "version": "3.5.2"
  }
 },
 "nbformat": 4,
 "nbformat_minor": 2
}
