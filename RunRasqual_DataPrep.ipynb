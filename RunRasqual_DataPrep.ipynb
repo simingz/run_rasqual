{
 "cells": [
  {
   "cell_type": "code",
   "execution_count": null,
   "metadata": {
    "collapsed": true
   },
   "outputs": [],
   "source": [
    "ls"
   ]
  },
  {
   "cell_type": "code",
   "execution_count": null,
   "metadata": {
    "collapsed": true
   },
   "outputs": [],
   "source": [
    "cd run_rasqual/"
   ]
  },
  {
   "cell_type": "markdown",
   "metadata": {},
   "source": [
    "# IMPUTATION and PHASING (method 1: IMPUTE2)\n",
    "Not finished. We choose another method (see method 2 below) to do imputation.\n",
    "For next step scripts and other useful scripts, see [here](https://github.com/JoniColeman/gwas_scripts/blob/master/README.md)."
   ]
  },
  {
   "cell_type": "code",
   "execution_count": null,
   "metadata": {
    "collapsed": true
   },
   "outputs": [],
   "source": [
    "! wget https://mathgen.stats.ox.ac.uk/impute/impute_v2.3.2_x86_64_dynamic.tgz"
   ]
  },
  {
   "cell_type": "code",
   "execution_count": null,
   "metadata": {
    "collapsed": true
   },
   "outputs": [],
   "source": [
    "! tar -zxvf impute_v2.3.2_x86_64_dynamic.tgz"
   ]
  },
  {
   "cell_type": "code",
   "execution_count": null,
   "metadata": {
    "collapsed": true
   },
   "outputs": [],
   "source": [
    "! cd impute_v2.3.2_x86_64_dynamic/; mkdir reference;cd reference"
   ]
  },
  {
   "cell_type": "code",
   "execution_count": null,
   "metadata": {
    "collapsed": true
   },
   "outputs": [],
   "source": [
    "! wget https://mathgen.stats.ox.ac.uk/impute/1000GP_Phase3.tgz"
   ]
  },
  {
   "cell_type": "code",
   "execution_count": null,
   "metadata": {
    "collapsed": true,
    "scrolled": true
   },
   "outputs": [],
   "source": [
    "! tar zxvf 1000GP_Phase3.tgz"
   ]
  },
  {
   "cell_type": "markdown",
   "metadata": {
    "collapsed": true
   },
   "source": [
    "## Prepare data to run IMPUTE2"
   ]
  },
  {
   "cell_type": "markdown",
   "metadata": {},
   "source": [
    "data obtained from Siwei Zhang via slack:"
   ]
  },
  {
   "cell_type": "code",
   "execution_count": null,
   "metadata": {
    "collapsed": true
   },
   "outputs": [],
   "source": [
    "ls ./data/"
   ]
  },
  {
   "cell_type": "markdown",
   "metadata": {},
   "source": [
    "convert plink data format to vcf format"
   ]
  },
  {
   "cell_type": "code",
   "execution_count": null,
   "metadata": {
    "collapsed": true
   },
   "outputs": [],
   "source": [
    "! cd data/;module load plink; plink --bfile plink --recode vcf --out genotype_plink"
   ]
  },
  {
   "cell_type": "markdown",
   "metadata": {},
   "source": [
    "convert vcf format to gens for IMPUTE2"
   ]
  },
  {
   "cell_type": "code",
   "execution_count": null,
   "metadata": {
    "collapsed": true
   },
   "outputs": [],
   "source": [
    "! cd ..; wget https://mathgen.stats.ox.ac.uk/impute/scripts/vcf2impute_gen"
   ]
  },
  {
   "cell_type": "code",
   "execution_count": null,
   "metadata": {
    "collapsed": true
   },
   "outputs": [],
   "source": [
    "! ./vcf2impute_gen -vcf data/genotype_plink.vcf -gen data/genotype_plink.gens"
   ]
  },
  {
   "cell_type": "markdown",
   "metadata": {},
   "source": [
    "## run IMPUTE2"
   ]
  },
  {
   "cell_type": "markdown",
   "metadata": {},
   "source": [
    "# IMPUTATION and PHASING (method 2)\n",
    "We use [Michigan imputation server](https://imputationserver.sph.umich.edu/index.html#!pages/home).\n",
    "They require vcf format as input. need to split by chromosome. It seems the plink files sent by Siwei were hg18. So we need to first convert hg18 to b37 vcf files, then split by chromosome, sort and gzip following their instructions [here](https://imputationserver.sph.umich.edu/index.html#!pages/help).\n",
    "\n",
    "To liftover VCF files, use [ensemble API](https://useast.ensembl.org/Homo_sapiens/Tools/AssemblyConverter?db=core). To use this online tool, file can't exceed 50 MB, so need to split by chr first, merge into two subfiles, and liftover each subfile). See more options for liftover vcf files [here](https://www.biostars.org/p/138042/)."
   ]
  },
  {
   "cell_type": "code",
   "execution_count": null,
   "metadata": {
    "collapsed": true
   },
   "outputs": [],
   "source": [
    "! cd /home/simingz/run_rasqual/data;mkdir vcf_split_by_chr/\n",
    "! module load vcftools; seq 1 22 | xargs -n1 -P4 -I {} vcftools --vcf genotype_plink.vcf --chr {} --recode --recode-INFO-all --out vcf_split_by_chr/genotype_plink.chr{}"
   ]
  },
  {
   "cell_type": "code",
   "execution_count": null,
   "metadata": {
    "collapsed": true
   },
   "outputs": [],
   "source": [
    "! cd vcf_split_by_chr/; for i in `seq 1 22`; do vcf-sort genotype_plink.chr${i}.recode.vcf | bgzip -c > genotype_plink.chr${i}.recode.vcf.gz; done"
   ]
  },
  {
   "cell_type": "code",
   "execution_count": null,
   "metadata": {
    "collapsed": true
   },
   "outputs": [],
   "source": [
    "vcf-concat ge*chr?.*.vcf.gz > chr_batch1.vcf\n",
    "vcf-concat ge*chr??.*.vcf.gz > chr_batch2.vcf"
   ]
  },
  {
   "cell_type": "code",
   "execution_count": null,
   "metadata": {
    "collapsed": true
   },
   "outputs": [],
   "source": [
    "cd data/vcf_split_by_chr/"
   ]
  },
  {
   "cell_type": "markdown",
   "metadata": {},
   "source": [
    "upload liftover vcf files from local computer. "
   ]
  },
  {
   "cell_type": "code",
   "execution_count": null,
   "metadata": {
    "collapsed": true
   },
   "outputs": [],
   "source": [
    "! mkdir b37_bychr; seq 1 9 | xargs -n1 -P4 -I {} vcftools --vcf chr_batch1.b37.vcf --chr {} --recode --recode-INFO-all --out b37_bychr/genotype_plink.chr{}.b37 \n",
    "! seq 10 22 | xargs -n1 -P4 -I {} vcftools --vcf chr_batch2.b37.vcf --chr {} --recode --recode-INFO-all --out b37_bychr/genotype_plink.chr{}.b37"
   ]
  },
  {
   "cell_type": "code",
   "execution_count": null,
   "metadata": {
    "collapsed": true
   },
   "outputs": [],
   "source": [
    "! cd b37_chr/; for i in `seq 1 22`; do vcf-sort genotype_plink.chr${i}.b37.recode.vcf | bgzip -c > genotype_plink.chr${i}.recode.b37.vcf.gz; done"
   ]
  },
  {
   "cell_type": "markdown",
   "metadata": {},
   "source": [
    "upload vcf.gz files to [Michigan imputation server](https://imputationserver.sph.umich.edu/index.html#!pages/home). Finish running. the password to extract file is: DK*9uja5OiJv0U"
   ]
  },
  {
   "cell_type": "code",
   "execution_count": null,
   "metadata": {
    "collapsed": true
   },
   "outputs": [],
   "source": [
    "cd /home/simingz/run_rasqual/phased_data"
   ]
  },
  {
   "cell_type": "markdown",
   "metadata": {},
   "source": [
    "# PREPARE RASQUAL INPUT"
   ]
  },
  {
   "cell_type": "markdown",
   "metadata": {},
   "source": [
    "This [paper](https://www.nature.com/articles/s41588-017-0005-8) used rasqual to find caQTL using atac seq data. They processed their ATAC seq data (N=24) as follows:\n",
    "> Peak calling\n",
    "We used MACS2 v2.1.1 (Zhang et al. 2008) to call ATAC-seq peaks for individual samples\n",
    "with parameters ‘--nomodel --shift -25 --extsize 50 -q 0.01’. We defined a consensus set of\n",
    "peaks as regions in which peaks overlapped in at least 3 samples. At regions of overlap, the\n",
    "consensus peak was defined as the union of overlapping peaks. This resulted in 381,323\n",
    "peaks, with 98% of peaks ranging from 82 - 1191 base pairs.\n",
    "\n",
    "> ATAC QTLs\n",
    "As we did for gene expression, we used featureCounts v1.5.0 to count fragments\n",
    "overlapping consensus ATAC-seq peaks and ASEReadCounter to count allele-specific\n",
    "reads at SNPs (and not indels) within peaks. We ran RASQUAL separately for each of\n",
    "381,323 peaks, passing in VCF lines for SNPs and indels (MAF > 0.05, INFO > 0.8) within 1\n",
    "kb of the center of the peak. Since >99.9% of peaks were less than 2 kb in size, this meant\n",
    "that we tested effectively all SNPs within peaks. As we did when calling eQTLs, we ran\n",
    "RASQUAL with the --random-permutation option for every gene, and determined FDR as\n",
    "described above. Note that in this case we used Bonferroni correction based on the number\n",
    "of SNPs tested, without using EigenMT, due to the small size of the windows tested. With\n",
    "this procedure we obtained 6,318 ATAC peaks with a cis-QTL at FDR 10%."
   ]
  },
  {
   "cell_type": "markdown",
   "metadata": {},
   "source": [
    "## A VCF file with *phased* SNP genotypes and allele-specific counts."
   ]
  },
  {
   "cell_type": "markdown",
   "metadata": {},
   "source": [
    "**Liftover vcf files to ch38.**\n",
    "ATAC-seq bam files are paired-end (`samtools view -f 1 xx.bam` ) and aligned to ch38 ( `samtools view -H 1 xx.bam`). The imputed and phased vcf files are too large to be converted using online tools. Therefore, use [crossmap](http://crossmap.sourceforge.net/)."
   ]
  },
  {
   "cell_type": "code",
   "execution_count": 10,
   "metadata": {},
   "outputs": [
    {
     "name": "stdout",
     "output_type": "stream",
     "text": [
      "/project2/xinhe/simingz/run_rasqual/phased_data\n"
     ]
    }
   ],
   "source": [
    "cd /home/simingz/run_rasqual/phased_data"
   ]
  },
  {
   "cell_type": "code",
   "execution_count": null,
   "metadata": {
    "collapsed": true
   },
   "outputs": [],
   "source": [
    "! source activate testother # install crossmap by conda"
   ]
  },
  {
   "cell_type": "markdown",
   "metadata": {},
   "source": [
    "Download chain file from crossmap, then download GRCh38 fasta file."
   ]
  },
  {
   "cell_type": "code",
   "execution_count": 13,
   "metadata": {},
   "outputs": [
    {
     "name": "stdout",
     "output_type": "stream",
     "text": [
      "/project2/xinhe/simingz/run_rasqual/ref\n"
     ]
    }
   ],
   "source": [
    "cd ~/run_rasqual/ref"
   ]
  },
  {
   "cell_type": "code",
   "execution_count": null,
   "metadata": {
    "collapsed": true
   },
   "outputs": [],
   "source": []
  },
  {
   "cell_type": "markdown",
   "metadata": {},
   "source": [
    "run crossmap"
   ]
  },
  {
   "cell_type": "code",
   "execution_count": 20,
   "metadata": {},
   "outputs": [
    {
     "name": "stdout",
     "output_type": "stream",
     "text": [
      "/project2/xinhe/simingz/run_rasqual/phased_data\n"
     ]
    }
   ],
   "source": [
    "cd /home/simingz/run_rasqual/phased_data"
   ]
  },
  {
   "cell_type": "code",
   "execution_count": null,
   "metadata": {
    "collapsed": true
   },
   "outputs": [],
   "source": []
  },
  {
   "cell_type": "markdown",
   "metadata": {
    "collapsed": true
   },
   "source": [
    "** Add AS info. Use the script provided by Rasqual.**"
   ]
  },
  {
   "cell_type": "code",
   "execution_count": 7,
   "metadata": {},
   "outputs": [
    {
     "name": "stdout",
     "output_type": "stream",
     "text": [
      "/project2/xinhe/simingz/run_rasqual/rasqual/src/ASVCF\n"
     ]
    }
   ],
   "source": [
    "cd /project2/xinhe/simingz/run_rasqual/rasqual/src/ASVCF/"
   ]
  },
  {
   "cell_type": "code",
   "execution_count": 9,
   "metadata": {},
   "outputs": [
    {
     "name": "stdout",
     "output_type": "stream",
     "text": [
      "gcc -o qcFilterBam qcFilterBam.o   -lm -lz\n",
      "gcc -o pasteFiles pasteFiles.o   -lm -lz\n",
      "gcc -o zpaste zpaste.o   -lm -lz\n",
      "gcc -o countAS countAS.o   -lm -lz\n"
     ]
    }
   ],
   "source": [
    "!export RASQUALDIR=/project2/xinhe/simingz/run_rasqual/rasqual/; make"
   ]
  }
 ],
 "metadata": {
  "kernelspec": {
   "display_name": "Python 3",
   "language": "python",
   "name": "python3"
  },
  "language_info": {
   "codemirror_mode": {
    "name": "ipython",
    "version": 3
   },
   "file_extension": ".py",
   "mimetype": "text/x-python",
   "name": "python",
   "nbconvert_exporter": "python",
   "pygments_lexer": "ipython3",
   "version": "3.5.2"
  }
 },
 "nbformat": 4,
 "nbformat_minor": 2
}
