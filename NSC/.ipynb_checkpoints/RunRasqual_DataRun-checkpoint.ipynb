{
 "cells": [
  {
   "cell_type": "code",
   "execution_count": 1,
   "metadata": {},
   "outputs": [],
   "source": [
    "# Prepare master run to submit to RCC\n",
    "import glob\n",
    "datarundir = \"/home/simingz/run_rasqual/datarun/NSC\"\n",
    "\n",
    "mainsh = glob.glob(datarundir + '/mainrun_*NSC*.sh')\n",
    "mainsh.sort()\n",
    "with open(datarundir + '/master_mainrun.sh', 'w') as masterrun_main:\n",
    "    for shfile in mainsh:\n",
    "        masterrun_main.write(\"source activate testother; bash \" + shfile + '\\n')\n",
    "\n",
    "permsh = glob.glob(datarundir + '/permrun_*NSC*.sh')\n",
    "permsh.sort()\n",
    "with open(datarundir + '/master_permrun.sh', 'w') as masterrun_perm:\n",
    "    for shfile in permsh:\n",
    "        masterrun_perm.write(\"source activate testother; bash \" + shfile + '\\n')"
   ]
  },
  {
   "cell_type": "code",
   "execution_count": 2,
   "metadata": {},
   "outputs": [
    {
     "name": "stdout",
     "output_type": "stream",
     "text": [
      "/project2/xinhe/simingz/run_rasqual/datarun/NSC\n"
     ]
    }
   ],
   "source": [
    "cd /home/simingz/run_rasqual/datarun/NSC"
   ]
  },
  {
   "cell_type": "code",
   "execution_count": 3,
   "metadata": {},
   "outputs": [
    {
     "name": "stdout",
     "output_type": "stream",
     "text": [
      "planning to run 873 jobs ...\n",
      "Type: sbatch submit_parallel_master_mainrun.sh.sh\n"
     ]
    }
   ],
   "source": [
    "!python /home/simingz/cancer_somatic/cancer_somatic/annotation/pMake_batchjobs_RCC.py master_mainrun.sh"
   ]
  },
  {
   "cell_type": "code",
   "execution_count": 4,
   "metadata": {},
   "outputs": [
    {
     "name": "stdout",
     "output_type": "stream",
     "text": [
      "planning to run 873 jobs ...\n",
      "Type: sbatch submit_parallel_master_permrun.sh.sh\n"
     ]
    }
   ],
   "source": [
    "!python /home/simingz/cancer_somatic/cancer_somatic/annotation/pMake_batchjobs_RCC.py master_permrun.sh"
   ]
  },
  {
   "cell_type": "markdown",
   "metadata": {},
   "source": [
    "Mannually change to `--mem=2G`, and `--account=pi-xinhe` before run `sbatch`, and array index (max 500 jobs)."
   ]
  },
  {
   "cell_type": "code",
   "execution_count": 1,
   "metadata": {
    "collapsed": true
   },
   "outputs": [
    {
     "name": "stdout",
     "output_type": "stream",
     "text": [
      "/project2/xinhe/simingz/run_rasqual/datarun/NSC\n"
     ]
    }
   ],
   "source": [
    "cd /home/simingz/run_rasqual/datarun/NSC"
   ]
  },
  {
   "cell_type": "code",
   "execution_count": 2,
   "metadata": {},
   "outputs": [],
   "source": [
    "! for file in *permres*; do cout=$(cut -f 1 ${file} | uniq -c| wc -l);echo ${file} ${cout}; done > permfile_count.txt"
   ]
  },
  {
   "cell_type": "code",
   "execution_count": 3,
   "metadata": {},
   "outputs": [
    {
     "name": "stdout",
     "output_type": "stream",
     "text": [
      "219\t221 permrun_chr5_NSC28.sh\n",
      "2000 newNSC67976\n"
     ]
    }
   ],
   "source": [
    "import subprocess\n",
    "with open('permfile_count.txt') as cfile:\n",
    "    for line in cfile.readlines():\n",
    "        fn = line.strip().split(' ')[0]\n",
    "        if line.strip().split(' ')[1] != '220':\n",
    "            t = subprocess.check_output('wc -l '+ fn.split('.')[0]+'.sh', shell=True)\n",
    "            if line.strip().split(' ')[1] != str(int(t.split(' ')[0])-1):\n",
    "                print(line.strip().split(' ')[1] +'\\t' + t.strip())\n",
    "                totalg=int(t.split(' ')[0]) -1 \n",
    "                lastgcount = subprocess.check_output('cut -f 1 '+ fn +'| uniq -c| tail -n 1', shell=True)\n",
    "                print(lastgcount.strip())\n",
    "                if lastgcount.strip().split(' ')[0] !='1000':\n",
    "                    subprocess.call('echo \"tail -n ' + str(totalg- int(line.strip().split(' ')[1])+1) + ' ' + fn.split('.')[0] +'.sh| bash\" >> secondbatch_master.sh', shell=True)"
   ]
  },
  {
   "cell_type": "markdown",
   "metadata": {},
   "source": [
    "the result above means all are finished. that file only failed to run the last line."
   ]
  },
  {
   "cell_type": "code",
   "execution_count": null,
   "metadata": {},
   "outputs": [],
   "source": []
  }
 ],
 "metadata": {
  "kernelspec": {
   "display_name": "Python [conda env:testother]",
   "language": "python",
   "name": "conda-env-testother-py"
  },
  "language_info": {
   "codemirror_mode": {
    "name": "ipython",
    "version": 2
   },
   "file_extension": ".py",
   "mimetype": "text/x-python",
   "name": "python",
   "nbconvert_exporter": "python",
   "pygments_lexer": "ipython2",
   "version": "2.7.15"
  }
 },
 "nbformat": 4,
 "nbformat_minor": 2
}
