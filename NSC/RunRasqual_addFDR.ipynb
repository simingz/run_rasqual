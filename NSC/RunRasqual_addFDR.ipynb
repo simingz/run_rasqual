{
 "cells": [
  {
   "cell_type": "code",
   "execution_count": 106,
   "metadata": {},
   "outputs": [],
   "source": [
    "setwd(\"/home/simingz/run_rasqual/datarun/NSC\")"
   ]
  },
  {
   "cell_type": "markdown",
   "metadata": {},
   "source": [
    "See header info [here](https://github.com/natsuhiko/rasqual/blob/master/README.md)"
   ]
  },
  {
   "cell_type": "code",
   "execution_count": 107,
   "metadata": {},
   "outputs": [],
   "source": [
    "addgFDR <- function(mrestable, prestable){\n",
    "    mrestable$geneFDR <- NA\n",
    "    peakIDs <- unique(mrestable$V1)\n",
    "    for (peakID in peakIDs) {\n",
    "        tt <- max(mrestable[mrestable$V1==peakID,11])\n",
    "        ttperm <- prestable[prestable$V1==peakID,3] # max test statistic for each permutation\n",
    "        gfdr <- length(ttperm[ttperm > tt])/length(ttperm)\n",
    "        mrestable[mrestable$V1==peakID,\"geneFDR\"]=gfdr\n",
    "    }\n",
    "    return(mrestable)\n",
    "}\n",
    "addgFDR_V2_getperm <- function(mrestable, prestable){\n",
    "    peakIDs <- unique(mrestable$V1)\n",
    "    out <- NULL\n",
    "    for (peakID in peakIDs) {\n",
    "        ntest <- mrestable[mrestable$V1==peakID,18][1]\n",
    "        tt <- max(mrestable[mrestable$V1==peakID,11])\n",
    "        preal <- pchisq(tt,df=1,lower.tail=F,log.p=F)\n",
    "        ttperm <- prestable[prestable$V1==peakID,3][1] # keep only 1 permutation\n",
    "        pperm <- pchisq(ttperm,df=1,lower.tail=F,log.p=F)\n",
    "        out <-rbind(out,c(log(preal*ntest),log(pperm*ntest))) # bonferroni corrected p value\n",
    "    }\n",
    "    return(out)\n",
    "}"
   ]
  },
  {
   "cell_type": "code",
   "execution_count": null,
   "metadata": {},
   "outputs": [],
   "source": [
    "mainfall= Sys.glob( paste0(\"mainrun_chr*_NSC*.result.txt\"))\n",
    "#outmres <- NULL\n",
    "outlogp <- NULL\n",
    "for (mainf in mainfall){\n",
    "    permf = gsub(\"result.txt\",\"permres.txt\",gsub(\"main\",\"perm\",mainf)) \n",
    "    mres <- read.table(mainf,header=F,stringsAsFactors = F, sep=\"\\t\",fill=T)\n",
    "    pres <- read.table(permf,header=F,stringsAsFactors = F, sep=\"\\t\",fill=T)\n",
    "    mresfl <- mres[mres$V2 != \"SKIPPED\",]\n",
    "    if (dim(mresfl)[1]==0){next}\n",
    "    #outmres<- rbind(outmres, addgFDR(mresfl,pres)) # FDR method1\n",
    "    outlogp <- rbind(outlogp, addgFDR_V2_getperm(mresfl,pres))# FDR method2\n",
    "} # takes 40min"
   ]
  },
  {
   "cell_type": "code",
   "execution_count": null,
   "metadata": {},
   "outputs": [],
   "source": [
    "outmres$geneFDR2 <- NA\n",
    "peakIDs <- unique(outmres$V1)\n",
    "outreal <- outlogp[,1]\n",
    "outperm <- outlogp[,2]\n",
    "for (peakID in peakIDs){\n",
    "    tt <- max(outmres[outmres$V1==peakID,11])\n",
    "    p <- pchisq(tt,df=1,lower.tail=F,log.p=F)\n",
    "    ntest <- outmres[outmres$V1==peakID,18][1]\n",
    "    logpBon <- log(p*ntest)\n",
    "    gfdr <- length(outperm[outperm < logpBon])/length(outreal[outreal < logpBon])\n",
    "    outmres[outmres$V1==peakID,\"geneFDR2\"]=gfdr\n",
    "} # takes a few hours"
   ]
  },
  {
   "cell_type": "code",
   "execution_count": null,
   "metadata": {},
   "outputs": [],
   "source": [
    "write.table( outmres , file= \"NSC_resultsFDR.txt\" , row.names=F, col.names=T, sep=\"\\t\", quote = F)"
   ]
  },
  {
   "cell_type": "code",
   "execution_count": 114,
   "metadata": {},
   "outputs": [
    {
     "data": {
      "text/html": [
       "75"
      ],
      "text/latex": [
       "75"
      ],
      "text/markdown": [
       "75"
      ],
      "text/plain": [
       "[1] 75"
      ]
     },
     "metadata": {},
     "output_type": "display_data"
    }
   ],
   "source": [
    "length(unique(outmres[outmres$geneFDR2 < 0.1,]$V1))"
   ]
  },
  {
   "cell_type": "code",
   "execution_count": 128,
   "metadata": {},
   "outputs": [
    {
     "data": {
      "image/png": "[encoded data removed]",
      "text/plain": [
       "Plot with title “Histogram of outperm”"
      ]
     },
     "metadata": {},
     "output_type": "display_data",
     "source": "R display func"
    }
   ],
   "source": [
    "hist(outperm,col=\"blue\")\n",
    "hist(outreal,add=T,breaks=200)"
   ]
  },
  {
   "cell_type": "code",
   "execution_count": 121,
   "metadata": {},
   "outputs": [
    {
     "data": {
      "text/html": [
       "<ol class=list-inline>\n",
       "\t<li>-1</li>\n",
       "\t<li>-2</li>\n",
       "\t<li>-3</li>\n",
       "\t<li>-4</li>\n",
       "\t<li>-5</li>\n",
       "\t<li>-6</li>\n",
       "\t<li>-7</li>\n",
       "\t<li>-8</li>\n",
       "\t<li>-9</li>\n",
       "\t<li>-10</li>\n",
       "</ol>\n"
      ],
      "text/latex": [
       "\\begin{enumerate*}\n",
       "\\item -1\n",
       "\\item -2\n",
       "\\item -3\n",
       "\\item -4\n",
       "\\item -5\n",
       "\\item -6\n",
       "\\item -7\n",
       "\\item -8\n",
       "\\item -9\n",
       "\\item -10\n",
       "\\end{enumerate*}\n"
      ],
      "text/markdown": [
       "1. -1\n",
       "2. -2\n",
       "3. -3\n",
       "4. -4\n",
       "5. -5\n",
       "6. -6\n",
       "7. -7\n",
       "8. -8\n",
       "9. -9\n",
       "10. -10\n",
       "\n",
       "\n"
      ],
      "text/plain": [
       " [1]  -1  -2  -3  -4  -5  -6  -7  -8  -9 -10"
      ]
     },
     "metadata": {},
     "output_type": "display_data"
    }
   ],
   "source": [
    "ourmres$V1==\"new\""
   ]
  },
  {
   "cell_type": "code",
   "execution_count": null,
   "metadata": {},
   "outputs": [],
   "source": []
  }
 ],
 "metadata": {
  "kernelspec": {
   "display_name": "R [conda env:testother]",
   "language": "R",
   "name": "conda-env-testother-r"
  },
  "language_info": {
   "codemirror_mode": "r",
   "file_extension": ".r",
   "mimetype": "text/x-r-source",
   "name": "R",
   "pygments_lexer": "r",
   "version": "3.4.3"
  }
 },
 "nbformat": 4,
 "nbformat_minor": 2
}
